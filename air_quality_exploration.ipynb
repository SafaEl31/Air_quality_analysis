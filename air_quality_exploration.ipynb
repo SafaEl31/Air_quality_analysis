{
 "cells": [
  {
   "cell_type": "markdown",
   "metadata": {},
   "source": [
    "- Sulphur dioxide ( SO2 ) : This contaminant is mainly emitted during the combustion of fossil fuels such as crude oil and coal.\n",
    "- Carbon monoxide ( CO ) : This gas consists during incomplete combustion of fuels example : A car engine running in a closed room.\n",
    "- Nitrogen dioxide ( NO2 ) : These contaminants are emitted by traffic, combustion installations and the industries.\n",
    "- Ozone ( O3 ) : Ozone is created through the influence of ultra violet sunlight (UV) on pollutants in the outside air.\n",
    "- Particulate Matter ( PM ) : Particulate matter is the sum of all solid and liquid particles suspended in air. This complex mixture includes both organic and inorganic particles, such as dust, pollen, soot, smoke, and liquid droplets. These particles vary greatly in size, composition, and origin."
   ]
  },
  {
   "cell_type": "code",
   "execution_count": 1,
   "metadata": {},
   "outputs": [],
   "source": [
    "import pandas as pd"
   ]
  },
  {
   "cell_type": "code",
   "execution_count": 2,
   "metadata": {},
   "outputs": [],
   "source": [
    "air_df = pd.read_csv('data/air_quality_full.csv')"
   ]
  },
  {
   "cell_type": "code",
   "execution_count": 3,
   "metadata": {},
   "outputs": [
    {
     "data": {
      "text/html": [
       "<div>\n",
       "<style scoped>\n",
       "    .dataframe tbody tr th:only-of-type {\n",
       "        vertical-align: middle;\n",
       "    }\n",
       "\n",
       "    .dataframe tbody tr th {\n",
       "        vertical-align: top;\n",
       "    }\n",
       "\n",
       "    .dataframe thead th {\n",
       "        text-align: right;\n",
       "    }\n",
       "</style>\n",
       "<table border=\"1\" class=\"dataframe\">\n",
       "  <thead>\n",
       "    <tr style=\"text-align: right;\">\n",
       "      <th></th>\n",
       "      <th>Unnamed: 0</th>\n",
       "      <th>location</th>\n",
       "      <th>city</th>\n",
       "      <th>country</th>\n",
       "      <th>pollutant</th>\n",
       "      <th>value</th>\n",
       "      <th>timestamp</th>\n",
       "      <th>unit</th>\n",
       "      <th>source_name</th>\n",
       "      <th>latitude</th>\n",
       "      <th>longitude</th>\n",
       "      <th>averaged_over_in_hours</th>\n",
       "    </tr>\n",
       "  </thead>\n",
       "  <tbody>\n",
       "    <tr>\n",
       "      <th>0</th>\n",
       "      <td>0</td>\n",
       "      <td>BTM Layout, Bengaluru - KSPCB</td>\n",
       "      <td>Bengaluru</td>\n",
       "      <td>IN</td>\n",
       "      <td>no2</td>\n",
       "      <td>131.87</td>\n",
       "      <td>2018-02-22 03:00:00+00:00</td>\n",
       "      <td>µg/m³</td>\n",
       "      <td>CPCB</td>\n",
       "      <td>12.912811</td>\n",
       "      <td>77.60922</td>\n",
       "      <td>0.25</td>\n",
       "    </tr>\n",
       "    <tr>\n",
       "      <th>1</th>\n",
       "      <td>1</td>\n",
       "      <td>BTM Layout, Bengaluru - KSPCB</td>\n",
       "      <td>Bengaluru</td>\n",
       "      <td>IN</td>\n",
       "      <td>o3</td>\n",
       "      <td>15.57</td>\n",
       "      <td>2018-02-22 03:00:00+00:00</td>\n",
       "      <td>µg/m³</td>\n",
       "      <td>CPCB</td>\n",
       "      <td>12.912811</td>\n",
       "      <td>77.60922</td>\n",
       "      <td>0.25</td>\n",
       "    </tr>\n",
       "    <tr>\n",
       "      <th>2</th>\n",
       "      <td>2</td>\n",
       "      <td>BTM Layout, Bengaluru - KSPCB</td>\n",
       "      <td>Bengaluru</td>\n",
       "      <td>IN</td>\n",
       "      <td>pm25</td>\n",
       "      <td>45.62</td>\n",
       "      <td>2018-02-22 03:00:00+00:00</td>\n",
       "      <td>µg/m³</td>\n",
       "      <td>CPCB</td>\n",
       "      <td>12.912811</td>\n",
       "      <td>77.60922</td>\n",
       "      <td>0.25</td>\n",
       "    </tr>\n",
       "    <tr>\n",
       "      <th>3</th>\n",
       "      <td>3</td>\n",
       "      <td>BTM Layout, Bengaluru - KSPCB</td>\n",
       "      <td>Bengaluru</td>\n",
       "      <td>IN</td>\n",
       "      <td>so2</td>\n",
       "      <td>4.49</td>\n",
       "      <td>2018-02-22 03:00:00+00:00</td>\n",
       "      <td>µg/m³</td>\n",
       "      <td>CPCB</td>\n",
       "      <td>12.912811</td>\n",
       "      <td>77.60922</td>\n",
       "      <td>0.25</td>\n",
       "    </tr>\n",
       "    <tr>\n",
       "      <th>4</th>\n",
       "      <td>4</td>\n",
       "      <td>BWSSB Kadabesanahalli, Bengaluru - KSPCB</td>\n",
       "      <td>Bengaluru</td>\n",
       "      <td>IN</td>\n",
       "      <td>co</td>\n",
       "      <td>840.00</td>\n",
       "      <td>2018-02-22 03:00:00+00:00</td>\n",
       "      <td>µg/m³</td>\n",
       "      <td>CPCB</td>\n",
       "      <td>12.938906</td>\n",
       "      <td>77.69727</td>\n",
       "      <td>0.25</td>\n",
       "    </tr>\n",
       "  </tbody>\n",
       "</table>\n",
       "</div>"
      ],
      "text/plain": [
       "   Unnamed: 0                                  location       city country  \\\n",
       "0           0             BTM Layout, Bengaluru - KSPCB  Bengaluru      IN   \n",
       "1           1             BTM Layout, Bengaluru - KSPCB  Bengaluru      IN   \n",
       "2           2             BTM Layout, Bengaluru - KSPCB  Bengaluru      IN   \n",
       "3           3             BTM Layout, Bengaluru - KSPCB  Bengaluru      IN   \n",
       "4           4  BWSSB Kadabesanahalli, Bengaluru - KSPCB  Bengaluru      IN   \n",
       "\n",
       "  pollutant   value                  timestamp   unit source_name   latitude  \\\n",
       "0       no2  131.87  2018-02-22 03:00:00+00:00  µg/m³        CPCB  12.912811   \n",
       "1        o3   15.57  2018-02-22 03:00:00+00:00  µg/m³        CPCB  12.912811   \n",
       "2      pm25   45.62  2018-02-22 03:00:00+00:00  µg/m³        CPCB  12.912811   \n",
       "3       so2    4.49  2018-02-22 03:00:00+00:00  µg/m³        CPCB  12.912811   \n",
       "4        co  840.00  2018-02-22 03:00:00+00:00  µg/m³        CPCB  12.938906   \n",
       "\n",
       "   longitude  averaged_over_in_hours  \n",
       "0   77.60922                    0.25  \n",
       "1   77.60922                    0.25  \n",
       "2   77.60922                    0.25  \n",
       "3   77.60922                    0.25  \n",
       "4   77.69727                    0.25  "
      ]
     },
     "execution_count": 3,
     "metadata": {},
     "output_type": "execute_result"
    }
   ],
   "source": [
    "air_df.head()"
   ]
  },
  {
   "cell_type": "code",
   "execution_count": 4,
   "metadata": {},
   "outputs": [
    {
     "data": {
      "text/plain": [
       "(21211, 12)"
      ]
     },
     "execution_count": 4,
     "metadata": {},
     "output_type": "execute_result"
    }
   ],
   "source": [
    "air_df.shape"
   ]
  },
  {
   "cell_type": "code",
   "execution_count": 5,
   "metadata": {},
   "outputs": [
    {
     "data": {
      "text/plain": [
       "98"
      ]
     },
     "execution_count": 5,
     "metadata": {},
     "output_type": "execute_result"
    }
   ],
   "source": [
    "air_df.country.nunique()"
   ]
  },
  {
   "cell_type": "code",
   "execution_count": 6,
   "metadata": {},
   "outputs": [
    {
     "data": {
      "text/plain": [
       "Austria                408\n",
       "Delhi                  251\n",
       "Bayern                 179\n",
       "Nordrhein-Westfalen    171\n",
       "Madrid                 166\n",
       "                      ... \n",
       "Dumbarton                1\n",
       "CAMERON                  1\n",
       "Arica                    1\n",
       "Barbosa                  1\n",
       "ST. BERNARD              1\n",
       "Name: city, Length: 2372, dtype: int64"
      ]
     },
     "execution_count": 6,
     "metadata": {},
     "output_type": "execute_result"
    }
   ],
   "source": [
    "air_df.city.value_counts()"
   ]
  },
  {
   "cell_type": "code",
   "execution_count": 7,
   "metadata": {},
   "outputs": [
    {
     "data": {
      "text/plain": [
       "no2     4708\n",
       "o3      4629\n",
       "pm10    3742\n",
       "pm25    3309\n",
       "so2     2813\n",
       "co      1907\n",
       "bc       103\n",
       "Name: pollutant, dtype: int64"
      ]
     },
     "execution_count": 7,
     "metadata": {},
     "output_type": "execute_result"
    }
   ],
   "source": [
    "air_df.pollutant.value_counts()"
   ]
  },
  {
   "cell_type": "code",
   "execution_count": 8,
   "metadata": {},
   "outputs": [
    {
     "data": {
      "text/plain": [
       "no2     130\n",
       "pm10    102\n",
       "o3       92\n",
       "so2      60\n",
       "co       24\n",
       "Name: pollutant, dtype: int64"
      ]
     },
     "execution_count": 8,
     "metadata": {},
     "output_type": "execute_result"
    }
   ],
   "source": [
    "air_df[air_df.city=='Austria'].pollutant.value_counts()"
   ]
  },
  {
   "cell_type": "code",
   "execution_count": 9,
   "metadata": {},
   "outputs": [
    {
     "data": {
      "text/plain": [
       "array(['µg/m³', 'ppm'], dtype=object)"
      ]
     },
     "execution_count": 9,
     "metadata": {},
     "output_type": "execute_result"
    }
   ],
   "source": [
    "air_df.unit.unique()# 1 microgram / cubic meter: µg/m³, parts-per-million: ppm"
   ]
  },
  {
   "cell_type": "code",
   "execution_count": 10,
   "metadata": {},
   "outputs": [],
   "source": [
    "air_df[air_df.country=='FR'];"
   ]
  },
  {
   "cell_type": "markdown",
   "metadata": {},
   "source": [
    "# Data preparation"
   ]
  },
  {
   "cell_type": "markdown",
   "metadata": {},
   "source": [
    "## Drop useless columns"
   ]
  },
  {
   "cell_type": "code",
   "execution_count": 11,
   "metadata": {},
   "outputs": [],
   "source": [
    "air_df.drop('Unnamed: 0',axis=1,inplace=True)"
   ]
  },
  {
   "cell_type": "code",
   "execution_count": 12,
   "metadata": {},
   "outputs": [
    {
     "data": {
      "text/plain": [
       "location                     4\n",
       "city                        70\n",
       "country                      0\n",
       "pollutant                    0\n",
       "value                        0\n",
       "timestamp                    0\n",
       "unit                         0\n",
       "source_name                  0\n",
       "latitude                     0\n",
       "longitude                    0\n",
       "averaged_over_in_hours    1422\n",
       "dtype: int64"
      ]
     },
     "execution_count": 12,
     "metadata": {},
     "output_type": "execute_result"
    }
   ],
   "source": [
    "air_df.isna().sum()"
   ]
  },
  {
   "cell_type": "markdown",
   "metadata": {},
   "source": [
    "## Drop nan values"
   ]
  },
  {
   "cell_type": "code",
   "execution_count": 13,
   "metadata": {},
   "outputs": [],
   "source": [
    "air_df.dropna(inplace=True)"
   ]
  },
  {
   "cell_type": "markdown",
   "metadata": {},
   "source": [
    "## Creating Dummies"
   ]
  },
  {
   "cell_type": "markdown",
   "metadata": {},
   "source": [
    "- Create Dummies \n",
    "    - Cities : Paris, New York, Delhi, Sao Paolo, Dubai, Madrid\n",
    "    - pollutant: bc/co/no2/o3/so2/pm10/pm25\n",
    "    - source_name\n",
    "    - year\n",
    "    - month\n",
    "    - day\n",
    "    - hour"
   ]
  },
  {
   "cell_type": "code",
   "execution_count": 14,
   "metadata": {},
   "outputs": [],
   "source": [
    "air_cls = air_df[(air_df.city=='Paris')|(air_df.city=='Austria')|(air_df.city=='NEW YORK')|(air_df.city=='Sao Paulo')|(air_df.city=='Dubai')|(air_df.city=='Delhi')|(air_df.city=='Madrid')]"
   ]
  },
  {
   "cell_type": "code",
   "execution_count": 15,
   "metadata": {},
   "outputs": [],
   "source": [
    "df_ml = pd.get_dummies(data=air_cls, columns=['pollutant'])"
   ]
  },
  {
   "cell_type": "code",
   "execution_count": 16,
   "metadata": {},
   "outputs": [],
   "source": [
    "df_ml = pd.get_dummies(data=df_ml, columns=['source_name'], drop_first=True)"
   ]
  },
  {
   "cell_type": "code",
   "execution_count": 17,
   "metadata": {},
   "outputs": [],
   "source": [
    "df_ml.drop(columns=['location','country','unit','latitude','longitude'],inplace=True)"
   ]
  },
  {
   "cell_type": "code",
   "execution_count": 18,
   "metadata": {},
   "outputs": [],
   "source": [
    "df_ml = pd.get_dummies(data=df_ml, columns=['city'], drop_first=True)"
   ]
  },
  {
   "cell_type": "code",
   "execution_count": 19,
   "metadata": {},
   "outputs": [],
   "source": [
    "df_ml['hour'] = pd.to_datetime(df_ml.timestamp).dt.hour\n",
    "df_ml['month'] = pd.to_datetime(df_ml.timestamp).dt.month\n",
    "df_ml['day'] = pd.to_datetime(df_ml.timestamp).dt.day\n",
    "df_ml['year'] = pd.to_datetime(df_ml.timestamp).dt.year"
   ]
  },
  {
   "cell_type": "code",
   "execution_count": 20,
   "metadata": {},
   "outputs": [],
   "source": [
    "df_ml.drop(columns=['timestamp'],inplace=True)"
   ]
  },
  {
   "cell_type": "code",
   "execution_count": 21,
   "metadata": {},
   "outputs": [
    {
     "data": {
      "text/plain": [
       "(897, 26)"
      ]
     },
     "execution_count": 21,
     "metadata": {},
     "output_type": "execute_result"
    }
   ],
   "source": [
    "df_ml.shape"
   ]
  },
  {
   "cell_type": "markdown",
   "metadata": {},
   "source": [
    "## Scaling data"
   ]
  },
  {
   "cell_type": "code",
   "execution_count": 22,
   "metadata": {},
   "outputs": [
    {
     "data": {
      "text/html": [
       "<div>\n",
       "<style scoped>\n",
       "    .dataframe tbody tr th:only-of-type {\n",
       "        vertical-align: middle;\n",
       "    }\n",
       "\n",
       "    .dataframe tbody tr th {\n",
       "        vertical-align: top;\n",
       "    }\n",
       "\n",
       "    .dataframe thead th {\n",
       "        text-align: right;\n",
       "    }\n",
       "</style>\n",
       "<table border=\"1\" class=\"dataframe\">\n",
       "  <thead>\n",
       "    <tr style=\"text-align: right;\">\n",
       "      <th></th>\n",
       "      <th>value</th>\n",
       "      <th>averaged_over_in_hours</th>\n",
       "      <th>pollutant_co</th>\n",
       "      <th>pollutant_no2</th>\n",
       "      <th>pollutant_o3</th>\n",
       "      <th>pollutant_pm10</th>\n",
       "      <th>pollutant_pm25</th>\n",
       "      <th>pollutant_so2</th>\n",
       "      <th>source_name_CPCB</th>\n",
       "      <th>source_name_EEA Austria</th>\n",
       "      <th>...</th>\n",
       "      <th>city_Delhi</th>\n",
       "      <th>city_Dubai</th>\n",
       "      <th>city_Madrid</th>\n",
       "      <th>city_NEW YORK</th>\n",
       "      <th>city_Paris</th>\n",
       "      <th>city_Sao Paulo</th>\n",
       "      <th>hour</th>\n",
       "      <th>month</th>\n",
       "      <th>day</th>\n",
       "      <th>year</th>\n",
       "    </tr>\n",
       "  </thead>\n",
       "  <tbody>\n",
       "    <tr>\n",
       "      <th>count</th>\n",
       "      <td>897.000000</td>\n",
       "      <td>897.000000</td>\n",
       "      <td>897.000000</td>\n",
       "      <td>897.000000</td>\n",
       "      <td>897.000000</td>\n",
       "      <td>897.000000</td>\n",
       "      <td>897.000000</td>\n",
       "      <td>897.00000</td>\n",
       "      <td>897.000000</td>\n",
       "      <td>897.000000</td>\n",
       "      <td>...</td>\n",
       "      <td>897.000000</td>\n",
       "      <td>897.000000</td>\n",
       "      <td>897.000000</td>\n",
       "      <td>897.000000</td>\n",
       "      <td>897.000000</td>\n",
       "      <td>897.000000</td>\n",
       "      <td>897.000000</td>\n",
       "      <td>897.000000</td>\n",
       "      <td>897.000000</td>\n",
       "      <td>897.000000</td>\n",
       "    </tr>\n",
       "    <tr>\n",
       "      <th>mean</th>\n",
       "      <td>173.116382</td>\n",
       "      <td>0.801003</td>\n",
       "      <td>0.100334</td>\n",
       "      <td>0.275362</td>\n",
       "      <td>0.207358</td>\n",
       "      <td>0.209588</td>\n",
       "      <td>0.080268</td>\n",
       "      <td>0.12709</td>\n",
       "      <td>0.060201</td>\n",
       "      <td>0.454849</td>\n",
       "      <td>...</td>\n",
       "      <td>0.278707</td>\n",
       "      <td>0.002230</td>\n",
       "      <td>0.185061</td>\n",
       "      <td>0.001115</td>\n",
       "      <td>0.032330</td>\n",
       "      <td>0.045708</td>\n",
       "      <td>9.380156</td>\n",
       "      <td>7.993311</td>\n",
       "      <td>16.929766</td>\n",
       "      <td>2017.885173</td>\n",
       "    </tr>\n",
       "    <tr>\n",
       "      <th>std</th>\n",
       "      <td>1815.548570</td>\n",
       "      <td>0.331316</td>\n",
       "      <td>0.300613</td>\n",
       "      <td>0.446946</td>\n",
       "      <td>0.405640</td>\n",
       "      <td>0.407241</td>\n",
       "      <td>0.271859</td>\n",
       "      <td>0.33326</td>\n",
       "      <td>0.237991</td>\n",
       "      <td>0.498235</td>\n",
       "      <td>...</td>\n",
       "      <td>0.448613</td>\n",
       "      <td>0.047193</td>\n",
       "      <td>0.388564</td>\n",
       "      <td>0.033389</td>\n",
       "      <td>0.176974</td>\n",
       "      <td>0.208967</td>\n",
       "      <td>6.013505</td>\n",
       "      <td>3.405281</td>\n",
       "      <td>5.237504</td>\n",
       "      <td>1.795074</td>\n",
       "    </tr>\n",
       "    <tr>\n",
       "      <th>min</th>\n",
       "      <td>-6.050000</td>\n",
       "      <td>0.250000</td>\n",
       "      <td>0.000000</td>\n",
       "      <td>0.000000</td>\n",
       "      <td>0.000000</td>\n",
       "      <td>0.000000</td>\n",
       "      <td>0.000000</td>\n",
       "      <td>0.00000</td>\n",
       "      <td>0.000000</td>\n",
       "      <td>0.000000</td>\n",
       "      <td>...</td>\n",
       "      <td>0.000000</td>\n",
       "      <td>0.000000</td>\n",
       "      <td>0.000000</td>\n",
       "      <td>0.000000</td>\n",
       "      <td>0.000000</td>\n",
       "      <td>0.000000</td>\n",
       "      <td>0.000000</td>\n",
       "      <td>1.000000</td>\n",
       "      <td>1.000000</td>\n",
       "      <td>2015.000000</td>\n",
       "    </tr>\n",
       "    <tr>\n",
       "      <th>25%</th>\n",
       "      <td>8.000000</td>\n",
       "      <td>0.250000</td>\n",
       "      <td>0.000000</td>\n",
       "      <td>0.000000</td>\n",
       "      <td>0.000000</td>\n",
       "      <td>0.000000</td>\n",
       "      <td>0.000000</td>\n",
       "      <td>0.00000</td>\n",
       "      <td>0.000000</td>\n",
       "      <td>0.000000</td>\n",
       "      <td>...</td>\n",
       "      <td>0.000000</td>\n",
       "      <td>0.000000</td>\n",
       "      <td>0.000000</td>\n",
       "      <td>0.000000</td>\n",
       "      <td>0.000000</td>\n",
       "      <td>0.000000</td>\n",
       "      <td>5.000000</td>\n",
       "      <td>5.000000</td>\n",
       "      <td>12.000000</td>\n",
       "      <td>2016.000000</td>\n",
       "    </tr>\n",
       "    <tr>\n",
       "      <th>50%</th>\n",
       "      <td>24.000000</td>\n",
       "      <td>1.000000</td>\n",
       "      <td>0.000000</td>\n",
       "      <td>0.000000</td>\n",
       "      <td>0.000000</td>\n",
       "      <td>0.000000</td>\n",
       "      <td>0.000000</td>\n",
       "      <td>0.00000</td>\n",
       "      <td>0.000000</td>\n",
       "      <td>0.000000</td>\n",
       "      <td>...</td>\n",
       "      <td>0.000000</td>\n",
       "      <td>0.000000</td>\n",
       "      <td>0.000000</td>\n",
       "      <td>0.000000</td>\n",
       "      <td>0.000000</td>\n",
       "      <td>0.000000</td>\n",
       "      <td>9.000000</td>\n",
       "      <td>7.000000</td>\n",
       "      <td>19.000000</td>\n",
       "      <td>2017.000000</td>\n",
       "    </tr>\n",
       "    <tr>\n",
       "      <th>75%</th>\n",
       "      <td>66.470000</td>\n",
       "      <td>1.000000</td>\n",
       "      <td>0.000000</td>\n",
       "      <td>1.000000</td>\n",
       "      <td>0.000000</td>\n",
       "      <td>0.000000</td>\n",
       "      <td>0.000000</td>\n",
       "      <td>0.00000</td>\n",
       "      <td>0.000000</td>\n",
       "      <td>1.000000</td>\n",
       "      <td>...</td>\n",
       "      <td>1.000000</td>\n",
       "      <td>0.000000</td>\n",
       "      <td>0.000000</td>\n",
       "      <td>0.000000</td>\n",
       "      <td>0.000000</td>\n",
       "      <td>0.000000</td>\n",
       "      <td>9.000000</td>\n",
       "      <td>12.000000</td>\n",
       "      <td>20.000000</td>\n",
       "      <td>2020.000000</td>\n",
       "    </tr>\n",
       "    <tr>\n",
       "      <th>max</th>\n",
       "      <td>50000.000000</td>\n",
       "      <td>1.000000</td>\n",
       "      <td>1.000000</td>\n",
       "      <td>1.000000</td>\n",
       "      <td>1.000000</td>\n",
       "      <td>1.000000</td>\n",
       "      <td>1.000000</td>\n",
       "      <td>1.00000</td>\n",
       "      <td>1.000000</td>\n",
       "      <td>1.000000</td>\n",
       "      <td>...</td>\n",
       "      <td>1.000000</td>\n",
       "      <td>1.000000</td>\n",
       "      <td>1.000000</td>\n",
       "      <td>1.000000</td>\n",
       "      <td>1.000000</td>\n",
       "      <td>1.000000</td>\n",
       "      <td>23.000000</td>\n",
       "      <td>12.000000</td>\n",
       "      <td>30.000000</td>\n",
       "      <td>2020.000000</td>\n",
       "    </tr>\n",
       "  </tbody>\n",
       "</table>\n",
       "<p>8 rows × 26 columns</p>\n",
       "</div>"
      ],
      "text/plain": [
       "              value  averaged_over_in_hours  pollutant_co  pollutant_no2  \\\n",
       "count    897.000000              897.000000    897.000000     897.000000   \n",
       "mean     173.116382                0.801003      0.100334       0.275362   \n",
       "std     1815.548570                0.331316      0.300613       0.446946   \n",
       "min       -6.050000                0.250000      0.000000       0.000000   \n",
       "25%        8.000000                0.250000      0.000000       0.000000   \n",
       "50%       24.000000                1.000000      0.000000       0.000000   \n",
       "75%       66.470000                1.000000      0.000000       1.000000   \n",
       "max    50000.000000                1.000000      1.000000       1.000000   \n",
       "\n",
       "       pollutant_o3  pollutant_pm10  pollutant_pm25  pollutant_so2  \\\n",
       "count    897.000000      897.000000      897.000000      897.00000   \n",
       "mean       0.207358        0.209588        0.080268        0.12709   \n",
       "std        0.405640        0.407241        0.271859        0.33326   \n",
       "min        0.000000        0.000000        0.000000        0.00000   \n",
       "25%        0.000000        0.000000        0.000000        0.00000   \n",
       "50%        0.000000        0.000000        0.000000        0.00000   \n",
       "75%        0.000000        0.000000        0.000000        0.00000   \n",
       "max        1.000000        1.000000        1.000000        1.00000   \n",
       "\n",
       "       source_name_CPCB  source_name_EEA Austria  ...  city_Delhi  city_Dubai  \\\n",
       "count        897.000000               897.000000  ...  897.000000  897.000000   \n",
       "mean           0.060201                 0.454849  ...    0.278707    0.002230   \n",
       "std            0.237991                 0.498235  ...    0.448613    0.047193   \n",
       "min            0.000000                 0.000000  ...    0.000000    0.000000   \n",
       "25%            0.000000                 0.000000  ...    0.000000    0.000000   \n",
       "50%            0.000000                 0.000000  ...    0.000000    0.000000   \n",
       "75%            0.000000                 1.000000  ...    1.000000    0.000000   \n",
       "max            1.000000                 1.000000  ...    1.000000    1.000000   \n",
       "\n",
       "       city_Madrid  city_NEW YORK  city_Paris  city_Sao Paulo        hour  \\\n",
       "count   897.000000     897.000000  897.000000      897.000000  897.000000   \n",
       "mean      0.185061       0.001115    0.032330        0.045708    9.380156   \n",
       "std       0.388564       0.033389    0.176974        0.208967    6.013505   \n",
       "min       0.000000       0.000000    0.000000        0.000000    0.000000   \n",
       "25%       0.000000       0.000000    0.000000        0.000000    5.000000   \n",
       "50%       0.000000       0.000000    0.000000        0.000000    9.000000   \n",
       "75%       0.000000       0.000000    0.000000        0.000000    9.000000   \n",
       "max       1.000000       1.000000    1.000000        1.000000   23.000000   \n",
       "\n",
       "            month         day         year  \n",
       "count  897.000000  897.000000   897.000000  \n",
       "mean     7.993311   16.929766  2017.885173  \n",
       "std      3.405281    5.237504     1.795074  \n",
       "min      1.000000    1.000000  2015.000000  \n",
       "25%      5.000000   12.000000  2016.000000  \n",
       "50%      7.000000   19.000000  2017.000000  \n",
       "75%     12.000000   20.000000  2020.000000  \n",
       "max     12.000000   30.000000  2020.000000  \n",
       "\n",
       "[8 rows x 26 columns]"
      ]
     },
     "execution_count": 22,
     "metadata": {},
     "output_type": "execute_result"
    }
   ],
   "source": [
    "df_ml.describe()"
   ]
  },
  {
   "cell_type": "code",
   "execution_count": 23,
   "metadata": {},
   "outputs": [],
   "source": [
    "from sklearn.preprocessing import MinMaxScaler\n",
    "scaler = MinMaxScaler()\n",
    "X=df_ml.drop(columns=['value'])\n",
    "y= df_ml['value']\n",
    "X_scaled=scaler.fit_transform(X)"
   ]
  },
  {
   "cell_type": "markdown",
   "metadata": {},
   "source": [
    "## Clusterisation"
   ]
  },
  {
   "cell_type": "markdown",
   "metadata": {},
   "source": [
    "### Elbow method"
   ]
  },
  {
   "cell_type": "code",
   "execution_count": 24,
   "metadata": {},
   "outputs": [],
   "source": [
    "from sklearn.cluster import KMeans\n",
    "from sklearn.metrics import silhouette_score, davies_bouldin_score,v_measure_score\n",
    "import matplotlib.pyplot as plt"
   ]
  },
  {
   "cell_type": "code",
   "execution_count": 25,
   "metadata": {},
   "outputs": [
    {
     "name": "stdout",
     "output_type": "stream",
     "text": [
      "Score for number of cluster(s) 2: -1611.045259516441\n",
      "Score for number of cluster(s) 3: -1178.1474782464638\n",
      "Score for number of cluster(s) 4: -1042.3498719124232\n",
      "Score for number of cluster(s) 5: -941.7298036514112\n",
      "Score for number of cluster(s) 6: -838.2876655392546\n",
      "Score for number of cluster(s) 7: -766.5478544642649\n",
      "Score for number of cluster(s) 8: -664.2760083268571\n",
      "Score for number of cluster(s) 9: -614.2292605390121\n",
      "Score for number of cluster(s) 10: -542.301513973806\n",
      "Score for number of cluster(s) 11: -511.7512186151616\n"
     ]
    }
   ],
   "source": [
    "km_scores= []\n",
    "for i in range(2,12):\n",
    "    km = KMeans(n_clusters=i, random_state=0).fit(X_scaled)\n",
    "    preds = km.predict(X_scaled)\n",
    "    \n",
    "    print(\"Score for number of cluster(s) {}: {}\".format(i,km.score(X_scaled)))\n",
    "    km_scores.append(-km.score(X_scaled))"
   ]
  },
  {
   "cell_type": "code",
   "execution_count": 26,
   "metadata": {
    "scrolled": true
   },
   "outputs": [
    {
     "data": {
      "image/png": "[encoded data removed]",
      "text/plain": [
       "<Figure size 504x288 with 1 Axes>"
      ]
     },
     "metadata": {
      "needs_background": "light"
     },
     "output_type": "display_data"
    }
   ],
   "source": [
    "plt.figure(figsize=(7,4))\n",
    "plt.title(\"The elbow method for determining number of clusters\\n\",fontsize=16)\n",
    "plt.scatter(x=[i for i in range(2,12)],y=km_scores,s=150,edgecolor='k')\n",
    "plt.grid(True)\n",
    "plt.xlabel(\"Number of clusters\",fontsize=14)\n",
    "plt.ylabel(\"K-means score\",fontsize=15)\n",
    "plt.xticks([i for i in range(2,12)],fontsize=14)\n",
    "plt.yticks(fontsize=15)\n",
    "plt.show()"
   ]
  },
  {
   "cell_type": "markdown",
   "metadata": {},
   "source": [
    "Based on the elbow technic, 5 clusters would give us a good classification to those data"
   ]
  },
  {
   "cell_type": "markdown",
   "metadata": {},
   "source": [
    "### Evaluation cluster:"
   ]
  },
  {
   "cell_type": "code",
   "execution_count": 27,
   "metadata": {},
   "outputs": [
    {
     "name": "stdout",
     "output_type": "stream",
     "text": [
      "Silhouette score for number of cluster(s) 5: 0.49385142540975013\n",
      "Davies Bouldin score for number of cluster(s) 5: 1.0824042807266734\n"
     ]
    }
   ],
   "source": [
    "silhouette = silhouette_score(X_scaled,preds)\n",
    "print(\"Silhouette score for number of cluster(s) {}: {}\".format(5,silhouette))\n",
    "    \n",
    "db = davies_bouldin_score(X_scaled,preds)\n",
    "print(\"Davies Bouldin score for number of cluster(s) {}: {}\".format(5,db))"
   ]
  },
  {
   "cell_type": "markdown",
   "metadata": {},
   "source": [
    "### Clustering data"
   ]
  },
  {
   "cell_type": "code",
   "execution_count": 28,
   "metadata": {},
   "outputs": [],
   "source": [
    "from sklearn.cluster import KMeans\n",
    "df_clusters = KMeans(5) \n",
    "df_clusters.fit(X_scaled)\n",
    "df_ml['Cluster'] = (df_clusters.labels_)"
   ]
  },
  {
   "cell_type": "code",
   "execution_count": 29,
   "metadata": {},
   "outputs": [],
   "source": [
    "y_kmeans = df_clusters.predict(X_scaled)"
   ]
  },
  {
   "cell_type": "code",
   "execution_count": 30,
   "metadata": {},
   "outputs": [
    {
     "data": {
      "text/html": [
       "<div>\n",
       "<style scoped>\n",
       "    .dataframe tbody tr th:only-of-type {\n",
       "        vertical-align: middle;\n",
       "    }\n",
       "\n",
       "    .dataframe tbody tr th {\n",
       "        vertical-align: top;\n",
       "    }\n",
       "\n",
       "    .dataframe thead th {\n",
       "        text-align: right;\n",
       "    }\n",
       "</style>\n",
       "<table border=\"1\" class=\"dataframe\">\n",
       "  <thead>\n",
       "    <tr style=\"text-align: right;\">\n",
       "      <th></th>\n",
       "      <th>averaged_over_in_hours</th>\n",
       "      <th>pollutant_co</th>\n",
       "      <th>pollutant_no2</th>\n",
       "      <th>pollutant_o3</th>\n",
       "      <th>pollutant_pm10</th>\n",
       "      <th>pollutant_pm25</th>\n",
       "      <th>pollutant_so2</th>\n",
       "      <th>source_name_CPCB</th>\n",
       "      <th>source_name_EEA Austria</th>\n",
       "      <th>source_name_EEA France</th>\n",
       "      <th>...</th>\n",
       "      <th>city_Delhi</th>\n",
       "      <th>city_Dubai</th>\n",
       "      <th>city_Madrid</th>\n",
       "      <th>city_NEW YORK</th>\n",
       "      <th>city_Paris</th>\n",
       "      <th>city_Sao Paulo</th>\n",
       "      <th>hour</th>\n",
       "      <th>month</th>\n",
       "      <th>day</th>\n",
       "      <th>year</th>\n",
       "    </tr>\n",
       "  </thead>\n",
       "  <tbody>\n",
       "    <tr>\n",
       "      <th>0</th>\n",
       "      <td>1.0</td>\n",
       "      <td>0.0</td>\n",
       "      <td>0.0</td>\n",
       "      <td>0.0</td>\n",
       "      <td>0.0</td>\n",
       "      <td>1.0</td>\n",
       "      <td>0.0</td>\n",
       "      <td>0.0</td>\n",
       "      <td>0.0</td>\n",
       "      <td>0.0</td>\n",
       "      <td>...</td>\n",
       "      <td>0.0</td>\n",
       "      <td>0.0</td>\n",
       "      <td>0.0</td>\n",
       "      <td>1.0</td>\n",
       "      <td>0.0</td>\n",
       "      <td>0.0</td>\n",
       "      <td>0.391304</td>\n",
       "      <td>1.000000</td>\n",
       "      <td>0.586207</td>\n",
       "      <td>0.4</td>\n",
       "    </tr>\n",
       "    <tr>\n",
       "      <th>1</th>\n",
       "      <td>1.0</td>\n",
       "      <td>1.0</td>\n",
       "      <td>0.0</td>\n",
       "      <td>0.0</td>\n",
       "      <td>0.0</td>\n",
       "      <td>0.0</td>\n",
       "      <td>0.0</td>\n",
       "      <td>0.0</td>\n",
       "      <td>0.0</td>\n",
       "      <td>0.0</td>\n",
       "      <td>...</td>\n",
       "      <td>0.0</td>\n",
       "      <td>0.0</td>\n",
       "      <td>0.0</td>\n",
       "      <td>0.0</td>\n",
       "      <td>0.0</td>\n",
       "      <td>1.0</td>\n",
       "      <td>0.782609</td>\n",
       "      <td>0.818182</td>\n",
       "      <td>0.896552</td>\n",
       "      <td>0.4</td>\n",
       "    </tr>\n",
       "    <tr>\n",
       "      <th>2</th>\n",
       "      <td>1.0</td>\n",
       "      <td>0.0</td>\n",
       "      <td>1.0</td>\n",
       "      <td>0.0</td>\n",
       "      <td>0.0</td>\n",
       "      <td>0.0</td>\n",
       "      <td>0.0</td>\n",
       "      <td>0.0</td>\n",
       "      <td>0.0</td>\n",
       "      <td>0.0</td>\n",
       "      <td>...</td>\n",
       "      <td>0.0</td>\n",
       "      <td>0.0</td>\n",
       "      <td>0.0</td>\n",
       "      <td>0.0</td>\n",
       "      <td>0.0</td>\n",
       "      <td>1.0</td>\n",
       "      <td>0.782609</td>\n",
       "      <td>0.818182</td>\n",
       "      <td>0.896552</td>\n",
       "      <td>0.4</td>\n",
       "    </tr>\n",
       "    <tr>\n",
       "      <th>3</th>\n",
       "      <td>1.0</td>\n",
       "      <td>0.0</td>\n",
       "      <td>0.0</td>\n",
       "      <td>1.0</td>\n",
       "      <td>0.0</td>\n",
       "      <td>0.0</td>\n",
       "      <td>0.0</td>\n",
       "      <td>0.0</td>\n",
       "      <td>0.0</td>\n",
       "      <td>0.0</td>\n",
       "      <td>...</td>\n",
       "      <td>0.0</td>\n",
       "      <td>0.0</td>\n",
       "      <td>0.0</td>\n",
       "      <td>0.0</td>\n",
       "      <td>0.0</td>\n",
       "      <td>1.0</td>\n",
       "      <td>0.782609</td>\n",
       "      <td>0.818182</td>\n",
       "      <td>0.896552</td>\n",
       "      <td>0.4</td>\n",
       "    </tr>\n",
       "    <tr>\n",
       "      <th>4</th>\n",
       "      <td>1.0</td>\n",
       "      <td>0.0</td>\n",
       "      <td>0.0</td>\n",
       "      <td>0.0</td>\n",
       "      <td>1.0</td>\n",
       "      <td>0.0</td>\n",
       "      <td>0.0</td>\n",
       "      <td>0.0</td>\n",
       "      <td>0.0</td>\n",
       "      <td>0.0</td>\n",
       "      <td>...</td>\n",
       "      <td>0.0</td>\n",
       "      <td>0.0</td>\n",
       "      <td>0.0</td>\n",
       "      <td>0.0</td>\n",
       "      <td>0.0</td>\n",
       "      <td>1.0</td>\n",
       "      <td>0.782609</td>\n",
       "      <td>0.818182</td>\n",
       "      <td>0.896552</td>\n",
       "      <td>0.4</td>\n",
       "    </tr>\n",
       "    <tr>\n",
       "      <th>...</th>\n",
       "      <td>...</td>\n",
       "      <td>...</td>\n",
       "      <td>...</td>\n",
       "      <td>...</td>\n",
       "      <td>...</td>\n",
       "      <td>...</td>\n",
       "      <td>...</td>\n",
       "      <td>...</td>\n",
       "      <td>...</td>\n",
       "      <td>...</td>\n",
       "      <td>...</td>\n",
       "      <td>...</td>\n",
       "      <td>...</td>\n",
       "      <td>...</td>\n",
       "      <td>...</td>\n",
       "      <td>...</td>\n",
       "      <td>...</td>\n",
       "      <td>...</td>\n",
       "      <td>...</td>\n",
       "      <td>...</td>\n",
       "      <td>...</td>\n",
       "    </tr>\n",
       "    <tr>\n",
       "      <th>892</th>\n",
       "      <td>1.0</td>\n",
       "      <td>0.0</td>\n",
       "      <td>0.0</td>\n",
       "      <td>0.0</td>\n",
       "      <td>0.0</td>\n",
       "      <td>0.0</td>\n",
       "      <td>1.0</td>\n",
       "      <td>0.0</td>\n",
       "      <td>1.0</td>\n",
       "      <td>0.0</td>\n",
       "      <td>...</td>\n",
       "      <td>0.0</td>\n",
       "      <td>0.0</td>\n",
       "      <td>0.0</td>\n",
       "      <td>0.0</td>\n",
       "      <td>0.0</td>\n",
       "      <td>0.0</td>\n",
       "      <td>0.391304</td>\n",
       "      <td>1.000000</td>\n",
       "      <td>0.379310</td>\n",
       "      <td>0.2</td>\n",
       "    </tr>\n",
       "    <tr>\n",
       "      <th>893</th>\n",
       "      <td>1.0</td>\n",
       "      <td>0.0</td>\n",
       "      <td>1.0</td>\n",
       "      <td>0.0</td>\n",
       "      <td>0.0</td>\n",
       "      <td>0.0</td>\n",
       "      <td>0.0</td>\n",
       "      <td>0.0</td>\n",
       "      <td>1.0</td>\n",
       "      <td>0.0</td>\n",
       "      <td>...</td>\n",
       "      <td>0.0</td>\n",
       "      <td>0.0</td>\n",
       "      <td>0.0</td>\n",
       "      <td>0.0</td>\n",
       "      <td>0.0</td>\n",
       "      <td>0.0</td>\n",
       "      <td>0.826087</td>\n",
       "      <td>0.545455</td>\n",
       "      <td>0.655172</td>\n",
       "      <td>0.4</td>\n",
       "    </tr>\n",
       "    <tr>\n",
       "      <th>894</th>\n",
       "      <td>1.0</td>\n",
       "      <td>0.0</td>\n",
       "      <td>0.0</td>\n",
       "      <td>1.0</td>\n",
       "      <td>0.0</td>\n",
       "      <td>0.0</td>\n",
       "      <td>0.0</td>\n",
       "      <td>0.0</td>\n",
       "      <td>1.0</td>\n",
       "      <td>0.0</td>\n",
       "      <td>...</td>\n",
       "      <td>0.0</td>\n",
       "      <td>0.0</td>\n",
       "      <td>0.0</td>\n",
       "      <td>0.0</td>\n",
       "      <td>0.0</td>\n",
       "      <td>0.0</td>\n",
       "      <td>0.826087</td>\n",
       "      <td>0.545455</td>\n",
       "      <td>0.655172</td>\n",
       "      <td>0.4</td>\n",
       "    </tr>\n",
       "    <tr>\n",
       "      <th>895</th>\n",
       "      <td>1.0</td>\n",
       "      <td>0.0</td>\n",
       "      <td>0.0</td>\n",
       "      <td>0.0</td>\n",
       "      <td>1.0</td>\n",
       "      <td>0.0</td>\n",
       "      <td>0.0</td>\n",
       "      <td>0.0</td>\n",
       "      <td>1.0</td>\n",
       "      <td>0.0</td>\n",
       "      <td>...</td>\n",
       "      <td>0.0</td>\n",
       "      <td>0.0</td>\n",
       "      <td>0.0</td>\n",
       "      <td>0.0</td>\n",
       "      <td>0.0</td>\n",
       "      <td>0.0</td>\n",
       "      <td>0.826087</td>\n",
       "      <td>0.545455</td>\n",
       "      <td>0.655172</td>\n",
       "      <td>0.4</td>\n",
       "    </tr>\n",
       "    <tr>\n",
       "      <th>896</th>\n",
       "      <td>1.0</td>\n",
       "      <td>0.0</td>\n",
       "      <td>0.0</td>\n",
       "      <td>0.0</td>\n",
       "      <td>0.0</td>\n",
       "      <td>0.0</td>\n",
       "      <td>1.0</td>\n",
       "      <td>0.0</td>\n",
       "      <td>1.0</td>\n",
       "      <td>0.0</td>\n",
       "      <td>...</td>\n",
       "      <td>0.0</td>\n",
       "      <td>0.0</td>\n",
       "      <td>0.0</td>\n",
       "      <td>0.0</td>\n",
       "      <td>0.0</td>\n",
       "      <td>0.0</td>\n",
       "      <td>0.826087</td>\n",
       "      <td>0.545455</td>\n",
       "      <td>0.655172</td>\n",
       "      <td>0.4</td>\n",
       "    </tr>\n",
       "  </tbody>\n",
       "</table>\n",
       "<p>897 rows × 25 columns</p>\n",
       "</div>"
      ],
      "text/plain": [
       "     averaged_over_in_hours  pollutant_co  pollutant_no2  pollutant_o3  \\\n",
       "0                       1.0           0.0            0.0           0.0   \n",
       "1                       1.0           1.0            0.0           0.0   \n",
       "2                       1.0           0.0            1.0           0.0   \n",
       "3                       1.0           0.0            0.0           1.0   \n",
       "4                       1.0           0.0            0.0           0.0   \n",
       "..                      ...           ...            ...           ...   \n",
       "892                     1.0           0.0            0.0           0.0   \n",
       "893                     1.0           0.0            1.0           0.0   \n",
       "894                     1.0           0.0            0.0           1.0   \n",
       "895                     1.0           0.0            0.0           0.0   \n",
       "896                     1.0           0.0            0.0           0.0   \n",
       "\n",
       "     pollutant_pm10  pollutant_pm25  pollutant_so2  source_name_CPCB  \\\n",
       "0               0.0             1.0            0.0               0.0   \n",
       "1               0.0             0.0            0.0               0.0   \n",
       "2               0.0             0.0            0.0               0.0   \n",
       "3               0.0             0.0            0.0               0.0   \n",
       "4               1.0             0.0            0.0               0.0   \n",
       "..              ...             ...            ...               ...   \n",
       "892             0.0             0.0            1.0               0.0   \n",
       "893             0.0             0.0            0.0               0.0   \n",
       "894             0.0             0.0            0.0               0.0   \n",
       "895             1.0             0.0            0.0               0.0   \n",
       "896             0.0             0.0            1.0               0.0   \n",
       "\n",
       "     source_name_EEA Austria  source_name_EEA France  ...  city_Delhi  \\\n",
       "0                        0.0                     0.0  ...         0.0   \n",
       "1                        0.0                     0.0  ...         0.0   \n",
       "2                        0.0                     0.0  ...         0.0   \n",
       "3                        0.0                     0.0  ...         0.0   \n",
       "4                        0.0                     0.0  ...         0.0   \n",
       "..                       ...                     ...  ...         ...   \n",
       "892                      1.0                     0.0  ...         0.0   \n",
       "893                      1.0                     0.0  ...         0.0   \n",
       "894                      1.0                     0.0  ...         0.0   \n",
       "895                      1.0                     0.0  ...         0.0   \n",
       "896                      1.0                     0.0  ...         0.0   \n",
       "\n",
       "     city_Dubai  city_Madrid  city_NEW YORK  city_Paris  city_Sao Paulo  \\\n",
       "0           0.0          0.0            1.0         0.0             0.0   \n",
       "1           0.0          0.0            0.0         0.0             1.0   \n",
       "2           0.0          0.0            0.0         0.0             1.0   \n",
       "3           0.0          0.0            0.0         0.0             1.0   \n",
       "4           0.0          0.0            0.0         0.0             1.0   \n",
       "..          ...          ...            ...         ...             ...   \n",
       "892         0.0          0.0            0.0         0.0             0.0   \n",
       "893         0.0          0.0            0.0         0.0             0.0   \n",
       "894         0.0          0.0            0.0         0.0             0.0   \n",
       "895         0.0          0.0            0.0         0.0             0.0   \n",
       "896         0.0          0.0            0.0         0.0             0.0   \n",
       "\n",
       "         hour     month       day  year  \n",
       "0    0.391304  1.000000  0.586207   0.4  \n",
       "1    0.782609  0.818182  0.896552   0.4  \n",
       "2    0.782609  0.818182  0.896552   0.4  \n",
       "3    0.782609  0.818182  0.896552   0.4  \n",
       "4    0.782609  0.818182  0.896552   0.4  \n",
       "..        ...       ...       ...   ...  \n",
       "892  0.391304  1.000000  0.379310   0.2  \n",
       "893  0.826087  0.545455  0.655172   0.4  \n",
       "894  0.826087  0.545455  0.655172   0.4  \n",
       "895  0.826087  0.545455  0.655172   0.4  \n",
       "896  0.826087  0.545455  0.655172   0.4  \n",
       "\n",
       "[897 rows x 25 columns]"
      ]
     },
     "execution_count": 30,
     "metadata": {},
     "output_type": "execute_result"
    }
   ],
   "source": [
    "dff = pd.DataFrame(X_scaled,columns=X.columns)\n",
    "dff"
   ]
  },
  {
   "cell_type": "code",
   "execution_count": 31,
   "metadata": {},
   "outputs": [
    {
     "data": {
      "text/plain": [
       "Index(['averaged_over_in_hours', 'pollutant_co', 'pollutant_no2',\n",
       "       'pollutant_o3', 'pollutant_pm10', 'pollutant_pm25', 'pollutant_so2',\n",
       "       'source_name_CPCB', 'source_name_EEA Austria', 'source_name_EEA France',\n",
       "       'source_name_EEA Spain', 'source_name_Sao Paulo',\n",
       "       'source_name_StateAir_Dubai', 'source_name_caaqm',\n",
       "       'source_name_data.gov.in', 'city_Delhi', 'city_Dubai', 'city_Madrid',\n",
       "       'city_NEW YORK', 'city_Paris', 'city_Sao Paulo', 'hour', 'month', 'day',\n",
       "       'year'],\n",
       "      dtype='object')"
      ]
     },
     "execution_count": 31,
     "metadata": {},
     "output_type": "execute_result"
    }
   ],
   "source": [
    "dff.columns"
   ]
  },
  {
   "cell_type": "code",
   "execution_count": 32,
   "metadata": {},
   "outputs": [
    {
     "data": {
      "image/png": "[encoded data removed]",
      "text/plain": [
       "<Figure size 432x288 with 1 Axes>"
      ]
     },
     "metadata": {
      "needs_background": "light"
     },
     "output_type": "display_data"
    }
   ],
   "source": [
    "centers = df_clusters.cluster_centers_\n",
    "plt.xlabel('pollutant_co',fontsize=13)\n",
    "plt.ylabel('year',fontsize=13)\n",
    "plt.scatter(dff['pollutant_co'], dff['year'], s=100, cmap='viridis');"
   ]
  },
  {
   "cell_type": "code",
   "execution_count": 33,
   "metadata": {},
   "outputs": [
    {
     "data": {
      "text/html": [
       "<div>\n",
       "<style scoped>\n",
       "    .dataframe tbody tr th:only-of-type {\n",
       "        vertical-align: middle;\n",
       "    }\n",
       "\n",
       "    .dataframe tbody tr th {\n",
       "        vertical-align: top;\n",
       "    }\n",
       "\n",
       "    .dataframe thead th {\n",
       "        text-align: right;\n",
       "    }\n",
       "</style>\n",
       "<table border=\"1\" class=\"dataframe\">\n",
       "  <thead>\n",
       "    <tr style=\"text-align: right;\">\n",
       "      <th>Cluster</th>\n",
       "      <th>0</th>\n",
       "      <th>1</th>\n",
       "      <th>2</th>\n",
       "      <th>3</th>\n",
       "      <th>4</th>\n",
       "    </tr>\n",
       "    <tr>\n",
       "      <th>year</th>\n",
       "      <th></th>\n",
       "      <th></th>\n",
       "      <th></th>\n",
       "      <th></th>\n",
       "      <th></th>\n",
       "    </tr>\n",
       "  </thead>\n",
       "  <tbody>\n",
       "    <tr>\n",
       "      <th>2015</th>\n",
       "      <td>0</td>\n",
       "      <td>10</td>\n",
       "      <td>0</td>\n",
       "      <td>0</td>\n",
       "      <td>0</td>\n",
       "    </tr>\n",
       "    <tr>\n",
       "      <th>2016</th>\n",
       "      <td>124</td>\n",
       "      <td>2</td>\n",
       "      <td>0</td>\n",
       "      <td>100</td>\n",
       "      <td>76</td>\n",
       "    </tr>\n",
       "    <tr>\n",
       "      <th>2017</th>\n",
       "      <td>75</td>\n",
       "      <td>33</td>\n",
       "      <td>0</td>\n",
       "      <td>40</td>\n",
       "      <td>35</td>\n",
       "    </tr>\n",
       "    <tr>\n",
       "      <th>2018</th>\n",
       "      <td>1</td>\n",
       "      <td>22</td>\n",
       "      <td>13</td>\n",
       "      <td>2</td>\n",
       "      <td>2</td>\n",
       "    </tr>\n",
       "    <tr>\n",
       "      <th>2019</th>\n",
       "      <td>3</td>\n",
       "      <td>5</td>\n",
       "      <td>0</td>\n",
       "      <td>1</td>\n",
       "      <td>1</td>\n",
       "    </tr>\n",
       "    <tr>\n",
       "      <th>2020</th>\n",
       "      <td>6</td>\n",
       "      <td>173</td>\n",
       "      <td>153</td>\n",
       "      <td>13</td>\n",
       "      <td>7</td>\n",
       "    </tr>\n",
       "  </tbody>\n",
       "</table>\n",
       "</div>"
      ],
      "text/plain": [
       "Cluster    0    1    2    3   4\n",
       "year                           \n",
       "2015       0   10    0    0   0\n",
       "2016     124    2    0  100  76\n",
       "2017      75   33    0   40  35\n",
       "2018       1   22   13    2   2\n",
       "2019       3    5    0    1   1\n",
       "2020       6  173  153   13   7"
      ]
     },
     "execution_count": 33,
     "metadata": {},
     "output_type": "execute_result"
    }
   ],
   "source": [
    "pd.crosstab(df_ml.year, df_ml.Cluster)"
   ]
  },
  {
   "cell_type": "code",
   "execution_count": 34,
   "metadata": {},
   "outputs": [
    {
     "data": {
      "text/plain": [
       "<matplotlib.axes._subplots.AxesSubplot at 0x22b37289908>"
      ]
     },
     "execution_count": 34,
     "metadata": {},
     "output_type": "execute_result"
    },
    {
     "data": {
      "image/png": "[encoded data removed]",
      "text/plain": [
       "<Figure size 432x288 with 2 Axes>"
      ]
     },
     "metadata": {
      "needs_background": "light"
     },
     "output_type": "display_data"
    }
   ],
   "source": [
    "import seaborn as sns\n",
    "sns.heatmap(pd.crosstab(df_ml.year, df_ml.Cluster),annot=True)"
   ]
  },
  {
   "cell_type": "markdown",
   "metadata": {},
   "source": [
    "let's have a look on data (2020,cluster0) and (2016,Cluster1) the highest values ; if there is some patterns or hidden info\n",
    "we can find "
   ]
  },
  {
   "cell_type": "markdown",
   "metadata": {},
   "source": [
    "#### First pattern: "
   ]
  },
  {
   "cell_type": "code",
   "execution_count": 39,
   "metadata": {},
   "outputs": [
    {
     "data": {
      "text/plain": [
       "0    153\n",
       "Name: source_name_EEA Austria, dtype: int64"
      ]
     },
     "execution_count": 39,
     "metadata": {},
     "output_type": "execute_result"
    }
   ],
   "source": [
    "df_ml[(df_ml.year==2020)&(df_ml.Cluster==2)]['source_name_EEA Austria'].value_counts()"
   ]
  },
  {
   "cell_type": "code",
   "execution_count": 38,
   "metadata": {},
   "outputs": [
    {
     "data": {
      "text/plain": [
       "1.0    153\n",
       "Name: averaged_over_in_hours, dtype: int64"
      ]
     },
     "execution_count": 38,
     "metadata": {},
     "output_type": "execute_result"
    }
   ],
   "source": [
    "df_ml[(df_ml.year==2020)&(df_ml.Cluster==2)]['averaged_over_in_hours'].value_counts()"
   ]
  },
  {
   "cell_type": "markdown",
   "metadata": {},
   "source": [
    "All those data are related to the same country austria and averaged over an hour in 2020."
   ]
  },
  {
   "cell_type": "markdown",
   "metadata": {},
   "source": [
    "#### Second pattern :"
   ]
  },
  {
   "cell_type": "code",
   "execution_count": 35,
   "metadata": {},
   "outputs": [
    {
     "data": {
      "text/plain": [
       "0.25    173\n",
       "Name: averaged_over_in_hours, dtype: int64"
      ]
     },
     "execution_count": 35,
     "metadata": {},
     "output_type": "execute_result"
    }
   ],
   "source": [
    "df_ml[(df_ml.year==2020)&(df_ml.Cluster==1)]['averaged_over_in_hours'].value_counts()"
   ]
  },
  {
   "cell_type": "code",
   "execution_count": 36,
   "metadata": {},
   "outputs": [
    {
     "data": {
      "text/plain": [
       "1    173\n",
       "Name: city_Delhi, dtype: int64"
      ]
     },
     "execution_count": 36,
     "metadata": {},
     "output_type": "execute_result"
    }
   ],
   "source": [
    "df_ml[(df_ml.year==2020)&(df_ml.Cluster==1)].city_Delhi.value_counts()"
   ]
  },
  {
   "cell_type": "markdown",
   "metadata": {},
   "source": [
    "All those data are related to the same city Delhi in 2020 and all kind of pollutant is recorded averaged over 1/4 hour."
   ]
  },
  {
   "cell_type": "markdown",
   "metadata": {},
   "source": [
    "- Hourly:\n",
    "    Data are collected continuously at each monitoring site for the selected parameters and these are reported as hourly Air Quality Index (AQI) values and hourly data readings in scientific units. \n",
    "\n",
    "    At some rural network sites instruments power up every 15 minutes to sample for 1 minute, and only continue measurements if TSP concentrations exceed 25 µg/m3. In this case, unlike the standard averaging method, an algorithm calculates hourly concentrations by accounting for the time between value changes."
   ]
  },
  {
   "cell_type": "markdown",
   "metadata": {},
   "source": [
    "## Data Visualization"
   ]
  },
  {
   "cell_type": "markdown",
   "metadata": {},
   "source": [
    "- bc: Black Carbon\n",
    "- co: Carbon monoxide\n",
    "- no2: Nitrogen Dioxide\n",
    "- o3: Ozone\n",
    "- so2: Sulphur Dioxide\n",
    "- pm10: Particles with an aerodynamic diameter less than 10μm\n",
    "- pm25: Particles with an aerodynamic diameter less than 2.5μm"
   ]
  },
  {
   "cell_type": "code",
   "execution_count": 24,
   "metadata": {},
   "outputs": [],
   "source": [
    "air=air_df"
   ]
  },
  {
   "cell_type": "code",
   "execution_count": 25,
   "metadata": {},
   "outputs": [],
   "source": [
    "air.timestamp=pd.to_datetime(air.timestamp) #datetime64[ns, UTC]"
   ]
  },
  {
   "cell_type": "code",
   "execution_count": 26,
   "metadata": {},
   "outputs": [],
   "source": [
    "air.timestamp = air.timestamp.apply(lambda x: x.replace(tzinfo=None)) # datetime64[ns]"
   ]
  },
  {
   "cell_type": "code",
   "execution_count": 27,
   "metadata": {},
   "outputs": [],
   "source": [
    "air['year']=air.timestamp.dt.year\n",
    "air['month']=air.timestamp.dt.month\n",
    "air['day']=air.timestamp.dt.day"
   ]
  },
  {
   "cell_type": "code",
   "execution_count": 28,
   "metadata": {},
   "outputs": [],
   "source": [
    "air[air.country=='FR']['city'].unique();"
   ]
  },
  {
   "cell_type": "code",
   "execution_count": 29,
   "metadata": {},
   "outputs": [],
   "source": [
    "air2 = air[(air.city=='Hauts-de-Seine')|(air.city=='Seine-Saint-Denis')|(air.city=='Val-de-Marne')|(air.city=='Paris')|(air.city==\"Val-d'Oise\")|(air.city==\"Yvelines\")\n",
    "           |(air.city=='Essonne')|(air.city=='Seine-et-Marne')]"
   ]
  },
  {
   "cell_type": "code",
   "execution_count": 30,
   "metadata": {},
   "outputs": [
    {
     "data": {
      "text/html": [
       "<div>\n",
       "<style scoped>\n",
       "    .dataframe tbody tr th:only-of-type {\n",
       "        vertical-align: middle;\n",
       "    }\n",
       "\n",
       "    .dataframe tbody tr th {\n",
       "        vertical-align: top;\n",
       "    }\n",
       "\n",
       "    .dataframe thead th {\n",
       "        text-align: right;\n",
       "    }\n",
       "</style>\n",
       "<table border=\"1\" class=\"dataframe\">\n",
       "  <thead>\n",
       "    <tr style=\"text-align: right;\">\n",
       "      <th></th>\n",
       "      <th>location</th>\n",
       "      <th>city</th>\n",
       "      <th>country</th>\n",
       "      <th>pollutant</th>\n",
       "      <th>value</th>\n",
       "      <th>timestamp</th>\n",
       "      <th>unit</th>\n",
       "      <th>source_name</th>\n",
       "      <th>latitude</th>\n",
       "      <th>longitude</th>\n",
       "      <th>averaged_over_in_hours</th>\n",
       "      <th>year</th>\n",
       "      <th>month</th>\n",
       "      <th>day</th>\n",
       "    </tr>\n",
       "  </thead>\n",
       "  <tbody>\n",
       "    <tr>\n",
       "      <th>13025</th>\n",
       "      <td>FR04328</td>\n",
       "      <td>Seine-et-Marne</td>\n",
       "      <td>FR</td>\n",
       "      <td>no2</td>\n",
       "      <td>4.5</td>\n",
       "      <td>2020-05-20 02:00:00</td>\n",
       "      <td>µg/m³</td>\n",
       "      <td>EEA France</td>\n",
       "      <td>48.35471</td>\n",
       "      <td>2.645296</td>\n",
       "      <td>1.0</td>\n",
       "      <td>2020</td>\n",
       "      <td>5</td>\n",
       "      <td>20</td>\n",
       "    </tr>\n",
       "    <tr>\n",
       "      <th>13026</th>\n",
       "      <td>FR04328</td>\n",
       "      <td>Seine-et-Marne</td>\n",
       "      <td>FR</td>\n",
       "      <td>o3</td>\n",
       "      <td>46.5</td>\n",
       "      <td>2020-05-20 02:00:00</td>\n",
       "      <td>µg/m³</td>\n",
       "      <td>EEA France</td>\n",
       "      <td>48.35471</td>\n",
       "      <td>2.645296</td>\n",
       "      <td>1.0</td>\n",
       "      <td>2020</td>\n",
       "      <td>5</td>\n",
       "      <td>20</td>\n",
       "    </tr>\n",
       "    <tr>\n",
       "      <th>13027</th>\n",
       "      <td>FR04328</td>\n",
       "      <td>Seine-et-Marne</td>\n",
       "      <td>FR</td>\n",
       "      <td>pm25</td>\n",
       "      <td>5.1</td>\n",
       "      <td>2020-05-19 23:00:00</td>\n",
       "      <td>µg/m³</td>\n",
       "      <td>EEA France</td>\n",
       "      <td>48.35471</td>\n",
       "      <td>2.645296</td>\n",
       "      <td>1.0</td>\n",
       "      <td>2020</td>\n",
       "      <td>5</td>\n",
       "      <td>19</td>\n",
       "    </tr>\n",
       "    <tr>\n",
       "      <th>13028</th>\n",
       "      <td>FR04328</td>\n",
       "      <td>Seine-et-Marne</td>\n",
       "      <td>FR</td>\n",
       "      <td>so2</td>\n",
       "      <td>0.2</td>\n",
       "      <td>2020-05-20 00:00:00</td>\n",
       "      <td>µg/m³</td>\n",
       "      <td>EEA France</td>\n",
       "      <td>48.35471</td>\n",
       "      <td>2.645296</td>\n",
       "      <td>1.0</td>\n",
       "      <td>2020</td>\n",
       "      <td>5</td>\n",
       "      <td>20</td>\n",
       "    </tr>\n",
       "    <tr>\n",
       "      <th>13029</th>\n",
       "      <td>FR04066</td>\n",
       "      <td>Essonne</td>\n",
       "      <td>FR</td>\n",
       "      <td>o3</td>\n",
       "      <td>26.7</td>\n",
       "      <td>2020-05-20 02:00:00</td>\n",
       "      <td>µg/m³</td>\n",
       "      <td>EEA France</td>\n",
       "      <td>48.36414</td>\n",
       "      <td>2.236940</td>\n",
       "      <td>1.0</td>\n",
       "      <td>2020</td>\n",
       "      <td>5</td>\n",
       "      <td>20</td>\n",
       "    </tr>\n",
       "  </tbody>\n",
       "</table>\n",
       "</div>"
      ],
      "text/plain": [
       "      location            city country pollutant  value           timestamp  \\\n",
       "13025  FR04328  Seine-et-Marne      FR       no2    4.5 2020-05-20 02:00:00   \n",
       "13026  FR04328  Seine-et-Marne      FR        o3   46.5 2020-05-20 02:00:00   \n",
       "13027  FR04328  Seine-et-Marne      FR      pm25    5.1 2020-05-19 23:00:00   \n",
       "13028  FR04328  Seine-et-Marne      FR       so2    0.2 2020-05-20 00:00:00   \n",
       "13029  FR04066         Essonne      FR        o3   26.7 2020-05-20 02:00:00   \n",
       "\n",
       "        unit source_name  latitude  longitude  averaged_over_in_hours  year  \\\n",
       "13025  µg/m³  EEA France  48.35471   2.645296                     1.0  2020   \n",
       "13026  µg/m³  EEA France  48.35471   2.645296                     1.0  2020   \n",
       "13027  µg/m³  EEA France  48.35471   2.645296                     1.0  2020   \n",
       "13028  µg/m³  EEA France  48.35471   2.645296                     1.0  2020   \n",
       "13029  µg/m³  EEA France  48.36414   2.236940                     1.0  2020   \n",
       "\n",
       "       month  day  \n",
       "13025      5   20  \n",
       "13026      5   20  \n",
       "13027      5   19  \n",
       "13028      5   20  \n",
       "13029      5   20  "
      ]
     },
     "execution_count": 30,
     "metadata": {},
     "output_type": "execute_result"
    }
   ],
   "source": [
    "air2.head()"
   ]
  },
  {
   "cell_type": "code",
   "execution_count": 47,
   "metadata": {},
   "outputs": [
    {
     "data": {
      "text/plain": [
       "<matplotlib.axes._subplots.AxesSubplot at 0x22b36e8a448>"
      ]
     },
     "execution_count": 47,
     "metadata": {},
     "output_type": "execute_result"
    },
    {
     "data": {
      "image/png": "[encoded data removed]",
      "text/plain": [
       "<Figure size 1008x576 with 1 Axes>"
      ]
     },
     "metadata": {
      "needs_background": "light"
     },
     "output_type": "display_data"
    }
   ],
   "source": [
    "pivot_value = air2.pivot_table(values='value', columns='pollutant', \n",
    "                                      index=['year', 'month'], aggfunc='mean')\n",
    "pivot_value.plot.bar(figsize=(14,8),title='ile de france pollutant values')"
   ]
  },
  {
   "cell_type": "code",
   "execution_count": 48,
   "metadata": {},
   "outputs": [
    {
     "data": {
      "text/plain": [
       "<matplotlib.axes._subplots.AxesSubplot at 0x22b32477048>"
      ]
     },
     "execution_count": 48,
     "metadata": {},
     "output_type": "execute_result"
    },
    {
     "data": {
      "image/png": "[encoded data removed]",
      "text/plain": [
       "<Figure size 1008x576 with 1 Axes>"
      ]
     },
     "metadata": {
      "needs_background": "light"
     },
     "output_type": "display_data"
    }
   ],
   "source": [
    "pivot_value2 = air[air.city=='Austria'].pivot_table(values='value', columns='pollutant', \n",
    "                                      index=['year', 'month','day'], aggfunc='mean')\n",
    "pivot_value2.plot.bar(figsize=(14,8),title='Pollutant values in Austria')"
   ]
  },
  {
   "cell_type": "code",
   "execution_count": 49,
   "metadata": {},
   "outputs": [
    {
     "data": {
      "text/html": [
       "<div>\n",
       "<style scoped>\n",
       "    .dataframe tbody tr th:only-of-type {\n",
       "        vertical-align: middle;\n",
       "    }\n",
       "\n",
       "    .dataframe tbody tr th {\n",
       "        vertical-align: top;\n",
       "    }\n",
       "\n",
       "    .dataframe thead th {\n",
       "        text-align: right;\n",
       "    }\n",
       "</style>\n",
       "<table border=\"1\" class=\"dataframe\">\n",
       "  <thead>\n",
       "    <tr style=\"text-align: right;\">\n",
       "      <th></th>\n",
       "      <th>value</th>\n",
       "      <th>latitude</th>\n",
       "      <th>longitude</th>\n",
       "      <th>averaged_over_in_hours</th>\n",
       "      <th>year</th>\n",
       "      <th>month</th>\n",
       "      <th>day</th>\n",
       "    </tr>\n",
       "  </thead>\n",
       "  <tbody>\n",
       "    <tr>\n",
       "      <th>count</th>\n",
       "      <td>19715.000000</td>\n",
       "      <td>19715.000000</td>\n",
       "      <td>19715.000000</td>\n",
       "      <td>19715.000000</td>\n",
       "      <td>19715.000000</td>\n",
       "      <td>19715.000000</td>\n",
       "      <td>19715.000000</td>\n",
       "    </tr>\n",
       "    <tr>\n",
       "      <th>mean</th>\n",
       "      <td>25.925054</td>\n",
       "      <td>37.869567</td>\n",
       "      <td>0.186170</td>\n",
       "      <td>1.607132</td>\n",
       "      <td>2019.455795</td>\n",
       "      <td>5.559067</td>\n",
       "      <td>18.108344</td>\n",
       "    </tr>\n",
       "    <tr>\n",
       "      <th>std</th>\n",
       "      <td>2541.632548</td>\n",
       "      <td>17.424016</td>\n",
       "      <td>65.175756</td>\n",
       "      <td>4.006588</td>\n",
       "      <td>1.159542</td>\n",
       "      <td>2.116616</td>\n",
       "      <td>5.079017</td>\n",
       "    </tr>\n",
       "    <tr>\n",
       "      <th>min</th>\n",
       "      <td>-335582.000000</td>\n",
       "      <td>-72.011700</td>\n",
       "      <td>-161.767000</td>\n",
       "      <td>0.250000</td>\n",
       "      <td>2007.000000</td>\n",
       "      <td>1.000000</td>\n",
       "      <td>1.000000</td>\n",
       "    </tr>\n",
       "    <tr>\n",
       "      <th>25%</th>\n",
       "      <td>1.100000</td>\n",
       "      <td>33.299000</td>\n",
       "      <td>-13.860830</td>\n",
       "      <td>1.000000</td>\n",
       "      <td>2020.000000</td>\n",
       "      <td>5.000000</td>\n",
       "      <td>19.000000</td>\n",
       "    </tr>\n",
       "    <tr>\n",
       "      <th>50%</th>\n",
       "      <td>9.000000</td>\n",
       "      <td>41.771442</td>\n",
       "      <td>6.870001</td>\n",
       "      <td>1.000000</td>\n",
       "      <td>2020.000000</td>\n",
       "      <td>5.000000</td>\n",
       "      <td>20.000000</td>\n",
       "    </tr>\n",
       "    <tr>\n",
       "      <th>75%</th>\n",
       "      <td>29.000000</td>\n",
       "      <td>48.177174</td>\n",
       "      <td>21.141111</td>\n",
       "      <td>1.000000</td>\n",
       "      <td>2020.000000</td>\n",
       "      <td>5.000000</td>\n",
       "      <td>20.000000</td>\n",
       "    </tr>\n",
       "    <tr>\n",
       "      <th>max</th>\n",
       "      <td>80000.000000</td>\n",
       "      <td>78.906690</td>\n",
       "      <td>153.402000</td>\n",
       "      <td>59.000000</td>\n",
       "      <td>2020.000000</td>\n",
       "      <td>12.000000</td>\n",
       "      <td>31.000000</td>\n",
       "    </tr>\n",
       "  </tbody>\n",
       "</table>\n",
       "</div>"
      ],
      "text/plain": [
       "               value      latitude     longitude  averaged_over_in_hours  \\\n",
       "count   19715.000000  19715.000000  19715.000000            19715.000000   \n",
       "mean       25.925054     37.869567      0.186170                1.607132   \n",
       "std      2541.632548     17.424016     65.175756                4.006588   \n",
       "min   -335582.000000    -72.011700   -161.767000                0.250000   \n",
       "25%         1.100000     33.299000    -13.860830                1.000000   \n",
       "50%         9.000000     41.771442      6.870001                1.000000   \n",
       "75%        29.000000     48.177174     21.141111                1.000000   \n",
       "max     80000.000000     78.906690    153.402000               59.000000   \n",
       "\n",
       "               year         month           day  \n",
       "count  19715.000000  19715.000000  19715.000000  \n",
       "mean    2019.455795      5.559067     18.108344  \n",
       "std        1.159542      2.116616      5.079017  \n",
       "min     2007.000000      1.000000      1.000000  \n",
       "25%     2020.000000      5.000000     19.000000  \n",
       "50%     2020.000000      5.000000     20.000000  \n",
       "75%     2020.000000      5.000000     20.000000  \n",
       "max     2020.000000     12.000000     31.000000  "
      ]
     },
     "execution_count": 49,
     "metadata": {},
     "output_type": "execute_result"
    }
   ],
   "source": [
    "air.describe()"
   ]
  },
  {
   "cell_type": "code",
   "execution_count": 50,
   "metadata": {},
   "outputs": [
    {
     "data": {
      "image/png": "[encoded data removed]",
      "text/plain": [
       "<Figure size 1008x576 with 1 Axes>"
      ]
     },
     "metadata": {
      "needs_background": "light"
     },
     "output_type": "display_data"
    }
   ],
   "source": [
    "pivot_value2 = air[air.city=='Delhi'].pivot_table(values='value', columns='pollutant', \n",
    "                                      index=['year', 'month'], aggfunc='mean')\n",
    "pivot_value2.plot.bar(figsize=(14,8),title='Pollutant values in Delhi');"
   ]
  },
  {
   "cell_type": "code",
   "execution_count": 51,
   "metadata": {},
   "outputs": [
    {
     "data": {
      "image/png": "[encoded data removed]",
      "text/plain": [
       "<Figure size 1008x576 with 1 Axes>"
      ]
     },
     "metadata": {
      "needs_background": "light"
     },
     "output_type": "display_data"
    }
   ],
   "source": [
    "pivot_value2 = air[air.city=='Paris'].pivot_table(values='value', columns='pollutant', \n",
    "                                      index=['year', 'month'], aggfunc='mean')\n",
    "pivot_value2.plot.bar(figsize=(14,8),title='Pollutant values in Paris');"
   ]
  },
  {
   "cell_type": "code",
   "execution_count": 52,
   "metadata": {},
   "outputs": [
    {
     "data": {
      "image/png": "[encoded data removed]",
      "text/plain": [
       "<Figure size 1008x576 with 1 Axes>"
      ]
     },
     "metadata": {
      "needs_background": "light"
     },
     "output_type": "display_data"
    }
   ],
   "source": [
    "pivot_value2 = air[(air.city=='Delhi')&(air.pollutant=='co')].pivot_table(values='value', columns='pollutant', \n",
    "                                      index=['year', 'month'], aggfunc='mean')\n",
    "pivot_value2.plot.bar(figsize=(14,8),title='CO pollutant values in Delhi');"
   ]
  },
  {
   "cell_type": "markdown",
   "metadata": {},
   "source": [
    "### Carbon Monoxide Analysis (µg/m³)"
   ]
  },
  {
   "cell_type": "code",
   "execution_count": 53,
   "metadata": {},
   "outputs": [
    {
     "data": {
      "image/png": "[encoded data removed]",
      "text/plain": [
       "<Figure size 1080x432 with 1 Axes>"
      ]
     },
     "metadata": {
      "needs_background": "light"
     },
     "output_type": "display_data"
    }
   ],
   "source": [
    "CO = air[(air.pollutant=='co')&(air.unit=='µg/m³')].groupby('country').agg('mean')[['value']].sort_values(by='value',ascending=False).head(20)\n",
    "CO.reset_index(inplace=True)\n",
    "\n",
    "plt.subplots(figsize=(15,6))\n",
    "sns.barplot(x='country',y='value',data=CO,palette='viridis',edgecolor=sns.color_palette('dark',7))\n",
    "plt.ylabel('Carbon Monoxide Gas values in µg/m³', fontsize=20)\n",
    "plt.xticks(rotation=90,fontsize=20)\n",
    "plt.xlabel('Country', fontsize=20)\n",
    "plt.title('Average value of Carbon Monoxide gas in different countries', fontsize=24)\n",
    "plt.savefig('avg_co.png')\n",
    "plt.show()"
   ]
  },
  {
   "cell_type": "markdown",
   "metadata": {},
   "source": [
    "### PM10 Analysis 1 (µg/m³)"
   ]
  },
  {
   "cell_type": "code",
   "execution_count": 54,
   "metadata": {},
   "outputs": [
    {
     "data": {
      "image/png": "[encoded data removed]",
      "text/plain": [
       "<Figure size 1080x432 with 1 Axes>"
      ]
     },
     "metadata": {
      "needs_background": "light"
     },
     "output_type": "display_data"
    }
   ],
   "source": [
    "pm10 = air[(air.pollutant=='pm10')&(air.unit=='µg/m³')].groupby('country').agg('mean')[['value']].sort_values(by='value',ascending=False).head(20)\n",
    "\n",
    "pm10.reset_index(inplace=True)\n",
    "\n",
    "plt.subplots(figsize=(15,6))\n",
    "sns.barplot(x='country',y='value',data=pm10,palette='magma',edgecolor=sns.color_palette('dark',7))\n",
    "plt.ylabel('PM10 values in µg/m³', fontsize=20)\n",
    "plt.xticks(rotation=90,fontsize=20)\n",
    "plt.xlabel('Country', fontsize=20)\n",
    "plt.title('Average value of particulate mater pm10 in different countries', fontsize=24)\n",
    "plt.savefig('avg_pm10.png')\n",
    "plt.show()"
   ]
  },
  {
   "cell_type": "markdown",
   "metadata": {},
   "source": [
    "### Nitrogen Dioxide Analysis 1 (µg/m³):"
   ]
  },
  {
   "cell_type": "code",
   "execution_count": 55,
   "metadata": {},
   "outputs": [
    {
     "data": {
      "image/png": "[encoded data removed]",
      "text/plain": [
       "<Figure size 1080x432 with 1 Axes>"
      ]
     },
     "metadata": {
      "needs_background": "light"
     },
     "output_type": "display_data"
    }
   ],
   "source": [
    "no2 = air[(air.pollutant=='no2')&(air.unit=='µg/m³')].groupby('country').agg('mean')[['value']].sort_values(by='value',ascending=False).head(20)\n",
    "\n",
    "no2.reset_index(inplace=True)\n",
    "\n",
    "plt.subplots(figsize=(15,6))\n",
    "sns.barplot(x='country',y='value',data=no2,palette='plasma',edgecolor=sns.color_palette('dark',7))\n",
    "plt.ylabel('Nitrogen Dioxide Gas values in µg/m³', fontsize=20)\n",
    "plt.xticks(rotation=90,fontsize=20)\n",
    "plt.xlabel('Country', fontsize=20)\n",
    "plt.title('Average value of Nitrogen Dioxide gas in different countries', fontsize=24)\n",
    "plt.savefig('avg_no2.png')\n",
    "plt.show()"
   ]
  },
  {
   "cell_type": "markdown",
   "metadata": {},
   "source": [
    "### Animated Graph/ Carbon Monoxide Analysis"
   ]
  },
  {
   "cell_type": "code",
   "execution_count": 39,
   "metadata": {},
   "outputs": [
    {
     "data": {
      "application/vnd.plotly.v1+json": {
       "config": {
        "plotlyServerURL": "https://plot.ly"
       },
       "data": [
        {
         "alignmentgroup": "True",
         "hovertemplate": "country=%{x}<br>year=2020<br>value=%{y}<extra></extra>",
         "ids": [
          "BA"
         ],
         "legendgroup": "BA",
         "marker": {
          "color": "#636efa"
         },
         "name": "BA",
         "offsetgroup": "BA",
         "orientation": "v",
         "showlegend": true,
         "textposition": "auto",
         "type": "bar",
         "x": [
          "BA"
         ],
         "xaxis": "x",
         "y": [
          1362.2
         ],
         "yaxis": "y"
        },
        {
         "alignmentgroup": "True",
         "hovertemplate": "country=%{x}<br>year=2020<br>value=%{y}<extra></extra>",
         "ids": [
          "PE"
         ],
         "legendgroup": "PE",
         "marker": {
          "color": "#EF553B"
         },
         "name": "PE",
         "offsetgroup": "PE",
         "orientation": "v",
         "showlegend": true,
         "textposition": "auto",
         "type": "bar",
         "x": [
          "PE"
         ],
         "xaxis": "x",
         "y": [
          779.6342857142857
         ],
         "yaxis": "y"
        },
        {
         "alignmentgroup": "True",
         "hovertemplate": "country=%{x}<br>year=2020<br>value=%{y}<extra></extra>",
         "ids": [
          "IN"
         ],
         "legendgroup": "IN",
         "marker": {
          "color": "#00cc96"
         },
         "name": "IN",
         "offsetgroup": "IN",
         "orientation": "v",
         "showlegend": true,
         "textposition": "auto",
         "type": "bar",
         "x": [
          "IN"
         ],
         "xaxis": "x",
         "y": [
          672.6215909090909
         ],
         "yaxis": "y"
        },
        {
         "alignmentgroup": "True",
         "hovertemplate": "country=%{x}<br>year=2020<br>value=%{y}<extra></extra>",
         "ids": [
          "CN"
         ],
         "legendgroup": "CN",
         "marker": {
          "color": "#ab63fa"
         },
         "name": "CN",
         "offsetgroup": "CN",
         "orientation": "v",
         "showlegend": true,
         "textposition": "auto",
         "type": "bar",
         "x": [
          "CN"
         ],
         "xaxis": "x",
         "y": [
          620
         ],
         "yaxis": "y"
        },
        {
         "alignmentgroup": "True",
         "hovertemplate": "country=%{x}<br>year=2020<br>value=%{y}<extra></extra>",
         "ids": [
          "HK"
         ],
         "legendgroup": "HK",
         "marker": {
          "color": "#FFA15A"
         },
         "name": "HK",
         "offsetgroup": "HK",
         "orientation": "v",
         "showlegend": true,
         "textposition": "auto",
         "type": "bar",
         "x": [
          "HK"
         ],
         "xaxis": "x",
         "y": [
          588.2444444444445
         ],
         "yaxis": "y"
        },
        {
         "alignmentgroup": "True",
         "hovertemplate": "country=%{x}<br>year=2020<br>value=%{y}<extra></extra>",
         "ids": [
          "XK"
         ],
         "legendgroup": "XK",
         "marker": {
          "color": "#19d3f3"
         },
         "name": "XK",
         "offsetgroup": "XK",
         "orientation": "v",
         "showlegend": true,
         "textposition": "auto",
         "type": "bar",
         "x": [
          "XK"
         ],
         "xaxis": "x",
         "y": [
          528.5
         ],
         "yaxis": "y"
        },
        {
         "alignmentgroup": "True",
         "hovertemplate": "country=%{x}<br>year=2020<br>value=%{y}<extra></extra>",
         "ids": [
          "GR"
         ],
         "legendgroup": "GR",
         "marker": {
          "color": "#FF6692"
         },
         "name": "GR",
         "offsetgroup": "GR",
         "orientation": "v",
         "showlegend": true,
         "textposition": "auto",
         "type": "bar",
         "x": [
          "GR"
         ],
         "xaxis": "x",
         "y": [
          525
         ],
         "yaxis": "y"
        },
        {
         "alignmentgroup": "True",
         "hovertemplate": "country=%{x}<br>year=2020<br>value=%{y}<extra></extra>",
         "ids": [
          "SK"
         ],
         "legendgroup": "SK",
         "marker": {
          "color": "#B6E880"
         },
         "name": "SK",
         "offsetgroup": "SK",
         "orientation": "v",
         "showlegend": true,
         "textposition": "auto",
         "type": "bar",
         "x": [
          "SK"
         ],
         "xaxis": "x",
         "y": [
          520.5638461538462
         ],
         "yaxis": "y"
        },
        {
         "alignmentgroup": "True",
         "hovertemplate": "country=%{x}<br>year=2020<br>value=%{y}<extra></extra>",
         "ids": [
          "RS"
         ],
         "legendgroup": "RS",
         "marker": {
          "color": "#FF97FF"
         },
         "name": "RS",
         "offsetgroup": "RS",
         "orientation": "v",
         "showlegend": true,
         "textposition": "auto",
         "type": "bar",
         "x": [
          "RS"
         ],
         "xaxis": "x",
         "y": [
          504.12
         ],
         "yaxis": "y"
        },
        {
         "alignmentgroup": "True",
         "hovertemplate": "country=%{x}<br>year=2020<br>value=%{y}<extra></extra>",
         "ids": [
          "IT"
         ],
         "legendgroup": "IT",
         "marker": {
          "color": "#FECB52"
         },
         "name": "IT",
         "offsetgroup": "IT",
         "orientation": "v",
         "showlegend": true,
         "textposition": "auto",
         "type": "bar",
         "x": [
          "IT"
         ],
         "xaxis": "x",
         "y": [
          391.84982346938784
         ],
         "yaxis": "y"
        },
        {
         "alignmentgroup": "True",
         "hovertemplate": "country=%{x}<br>year=2020<br>value=%{y}<extra></extra>",
         "ids": [
          "HU"
         ],
         "legendgroup": "HU",
         "marker": {
          "color": "#636efa"
         },
         "name": "HU",
         "offsetgroup": "HU",
         "orientation": "v",
         "showlegend": true,
         "textposition": "auto",
         "type": "bar",
         "x": [
          "HU"
         ],
         "xaxis": "x",
         "y": [
          382.60739523809525
         ],
         "yaxis": "y"
        },
        {
         "alignmentgroup": "True",
         "hovertemplate": "country=%{x}<br>year=2020<br>value=%{y}<extra></extra>",
         "ids": [
          "ES"
         ],
         "legendgroup": "ES",
         "marker": {
          "color": "#EF553B"
         },
         "name": "ES",
         "offsetgroup": "ES",
         "orientation": "v",
         "showlegend": true,
         "textposition": "auto",
         "type": "bar",
         "x": [
          "ES"
         ],
         "xaxis": "x",
         "y": [
          308.85945945945946
         ],
         "yaxis": "y"
        },
        {
         "alignmentgroup": "True",
         "hovertemplate": "country=%{x}<br>year=2020<br>value=%{y}<extra></extra>",
         "ids": [
          "BG"
         ],
         "legendgroup": "BG",
         "marker": {
          "color": "#00cc96"
         },
         "name": "BG",
         "offsetgroup": "BG",
         "orientation": "v",
         "showlegend": true,
         "textposition": "auto",
         "type": "bar",
         "x": [
          "BG"
         ],
         "xaxis": "x",
         "y": [
          300
         ],
         "yaxis": "y"
        },
        {
         "alignmentgroup": "True",
         "hovertemplate": "country=%{x}<br>year=2020<br>value=%{y}<extra></extra>",
         "ids": [
          "CZ"
         ],
         "legendgroup": "CZ",
         "marker": {
          "color": "#ab63fa"
         },
         "name": "CZ",
         "offsetgroup": "CZ",
         "orientation": "v",
         "showlegend": true,
         "textposition": "auto",
         "type": "bar",
         "x": [
          "CZ"
         ],
         "xaxis": "x",
         "y": [
          296.6539392307692
         ],
         "yaxis": "y"
        },
        {
         "alignmentgroup": "True",
         "hovertemplate": "country=%{x}<br>year=2020<br>value=%{y}<extra></extra>",
         "ids": [
          "MK"
         ],
         "legendgroup": "MK",
         "marker": {
          "color": "#FFA15A"
         },
         "name": "MK",
         "offsetgroup": "MK",
         "orientation": "v",
         "showlegend": true,
         "textposition": "auto",
         "type": "bar",
         "x": [
          "MK"
         ],
         "xaxis": "x",
         "y": [
          257.51544
         ],
         "yaxis": "y"
        },
        {
         "alignmentgroup": "True",
         "hovertemplate": "country=%{x}<br>year=2020<br>value=%{y}<extra></extra>",
         "ids": [
          "PT"
         ],
         "legendgroup": "PT",
         "marker": {
          "color": "#19d3f3"
         },
         "name": "PT",
         "offsetgroup": "PT",
         "orientation": "v",
         "showlegend": true,
         "textposition": "auto",
         "type": "bar",
         "x": [
          "PT"
         ],
         "xaxis": "x",
         "y": [
          236.07142857142858
         ],
         "yaxis": "y"
        },
        {
         "alignmentgroup": "True",
         "hovertemplate": "country=%{x}<br>year=2020<br>value=%{y}<extra></extra>",
         "ids": [
          "AT"
         ],
         "legendgroup": "AT",
         "marker": {
          "color": "#FF6692"
         },
         "name": "AT",
         "offsetgroup": "AT",
         "orientation": "v",
         "showlegend": true,
         "textposition": "auto",
         "type": "bar",
         "x": [
          "AT"
         ],
         "xaxis": "x",
         "y": [
          212.42131296296296
         ],
         "yaxis": "y"
        },
        {
         "alignmentgroup": "True",
         "hovertemplate": "country=%{x}<br>year=2020<br>value=%{y}<extra></extra>",
         "ids": [
          "DE"
         ],
         "legendgroup": "DE",
         "marker": {
          "color": "#B6E880"
         },
         "name": "DE",
         "offsetgroup": "DE",
         "orientation": "v",
         "showlegend": true,
         "textposition": "auto",
         "type": "bar",
         "x": [
          "DE"
         ],
         "xaxis": "x",
         "y": [
          209.87654320987653
         ],
         "yaxis": "y"
        },
        {
         "alignmentgroup": "True",
         "hovertemplate": "country=%{x}<br>year=2020<br>value=%{y}<extra></extra>",
         "ids": [
          "CH"
         ],
         "legendgroup": "CH",
         "marker": {
          "color": "#FF97FF"
         },
         "name": "CH",
         "offsetgroup": "CH",
         "orientation": "v",
         "showlegend": true,
         "textposition": "auto",
         "type": "bar",
         "x": [
          "CH"
         ],
         "xaxis": "x",
         "y": [
          191.53749999999997
         ],
         "yaxis": "y"
        },
        {
         "alignmentgroup": "True",
         "hovertemplate": "country=%{x}<br>year=2020<br>value=%{y}<extra></extra>",
         "ids": [
          "LU"
         ],
         "legendgroup": "LU",
         "marker": {
          "color": "#FECB52"
         },
         "name": "LU",
         "offsetgroup": "LU",
         "orientation": "v",
         "showlegend": true,
         "textposition": "auto",
         "type": "bar",
         "x": [
          "LU"
         ],
         "xaxis": "x",
         "y": [
          186.66666666666666
         ],
         "yaxis": "y"
        },
        {
         "alignmentgroup": "True",
         "hovertemplate": "country=%{x}<br>year=2020<br>value=%{y}<extra></extra>",
         "ids": [
          "FR"
         ],
         "legendgroup": "FR",
         "marker": {
          "color": "#636efa"
         },
         "name": "FR",
         "offsetgroup": "FR",
         "orientation": "v",
         "showlegend": true,
         "textposition": "auto",
         "type": "bar",
         "x": [
          "FR"
         ],
         "xaxis": "x",
         "y": [
          177.69230769230768
         ],
         "yaxis": "y"
        },
        {
         "alignmentgroup": "True",
         "hovertemplate": "country=%{x}<br>year=2020<br>value=%{y}<extra></extra>",
         "ids": [
          "NO"
         ],
         "legendgroup": "NO",
         "marker": {
          "color": "#EF553B"
         },
         "name": "NO",
         "offsetgroup": "NO",
         "orientation": "v",
         "showlegend": true,
         "textposition": "auto",
         "type": "bar",
         "x": [
          "NO"
         ],
         "xaxis": "x",
         "y": [
          157.429
         ],
         "yaxis": "y"
        },
        {
         "alignmentgroup": "True",
         "hovertemplate": "country=%{x}<br>year=2020<br>value=%{y}<extra></extra>",
         "ids": [
          "EE"
         ],
         "legendgroup": "EE",
         "marker": {
          "color": "#00cc96"
         },
         "name": "EE",
         "offsetgroup": "EE",
         "orientation": "v",
         "showlegend": true,
         "textposition": "auto",
         "type": "bar",
         "x": [
          "EE"
         ],
         "xaxis": "x",
         "y": [
          150.91583333333332
         ],
         "yaxis": "y"
        },
        {
         "alignmentgroup": "True",
         "hovertemplate": "country=%{x}<br>year=2020<br>value=%{y}<extra></extra>",
         "ids": [
          "DK"
         ],
         "legendgroup": "DK",
         "marker": {
          "color": "#ab63fa"
         },
         "name": "DK",
         "offsetgroup": "DK",
         "orientation": "v",
         "showlegend": true,
         "textposition": "auto",
         "type": "bar",
         "x": [
          "DK"
         ],
         "xaxis": "x",
         "y": [
          150
         ],
         "yaxis": "y"
        },
        {
         "alignmentgroup": "True",
         "hovertemplate": "country=%{x}<br>year=2020<br>value=%{y}<extra></extra>",
         "ids": [
          "MT"
         ],
         "legendgroup": "MT",
         "marker": {
          "color": "#FFA15A"
         },
         "name": "MT",
         "offsetgroup": "MT",
         "orientation": "v",
         "showlegend": true,
         "textposition": "auto",
         "type": "bar",
         "x": [
          "MT"
         ],
         "xaxis": "x",
         "y": [
          142.809
         ],
         "yaxis": "y"
        },
        {
         "alignmentgroup": "True",
         "hovertemplate": "country=%{x}<br>year=2020<br>value=%{y}<extra></extra>",
         "ids": [
          "HR"
         ],
         "legendgroup": "HR",
         "marker": {
          "color": "#19d3f3"
         },
         "name": "HR",
         "offsetgroup": "HR",
         "orientation": "v",
         "showlegend": true,
         "textposition": "auto",
         "type": "bar",
         "x": [
          "HR"
         ],
         "xaxis": "x",
         "y": [
          125
         ],
         "yaxis": "y"
        },
        {
         "alignmentgroup": "True",
         "hovertemplate": "country=%{x}<br>year=2020<br>value=%{y}<extra></extra>",
         "ids": [
          "AD"
         ],
         "legendgroup": "AD",
         "marker": {
          "color": "#FF6692"
         },
         "name": "AD",
         "offsetgroup": "AD",
         "orientation": "v",
         "showlegend": true,
         "textposition": "auto",
         "type": "bar",
         "x": [
          "AD"
         ],
         "xaxis": "x",
         "y": [
          100
         ],
         "yaxis": "y"
        },
        {
         "alignmentgroup": "True",
         "hovertemplate": "country=%{x}<br>year=2020<br>value=%{y}<extra></extra>",
         "ids": [
          "CY"
         ],
         "legendgroup": "CY",
         "marker": {
          "color": "#B6E880"
         },
         "name": "CY",
         "offsetgroup": "CY",
         "orientation": "v",
         "showlegend": true,
         "textposition": "auto",
         "type": "bar",
         "x": [
          "CY"
         ],
         "xaxis": "x",
         "y": [
          82.76678
         ],
         "yaxis": "y"
        },
        {
         "alignmentgroup": "True",
         "hovertemplate": "country=%{x}<br>year=2020<br>value=%{y}<extra></extra>",
         "ids": [
          "IE"
         ],
         "legendgroup": "IE",
         "marker": {
          "color": "#FF97FF"
         },
         "name": "IE",
         "offsetgroup": "IE",
         "orientation": "v",
         "showlegend": true,
         "textposition": "auto",
         "type": "bar",
         "x": [
          "IE"
         ],
         "xaxis": "x",
         "y": [
          0.22755546000000001
         ],
         "yaxis": "y"
        },
        {
         "alignmentgroup": "True",
         "hovertemplate": "country=%{x}<br>year=2020<br>value=%{y}<extra></extra>",
         "ids": [
          "BE"
         ],
         "legendgroup": "BE",
         "marker": {
          "color": "#FECB52"
         },
         "name": "BE",
         "offsetgroup": "BE",
         "orientation": "v",
         "showlegend": true,
         "textposition": "auto",
         "type": "bar",
         "x": [
          "BE"
         ],
         "xaxis": "x",
         "y": [
          0.17875000000000002
         ],
         "yaxis": "y"
        },
        {
         "alignmentgroup": "True",
         "hovertemplate": "country=%{x}<br>year=2020<br>value=%{y}<extra></extra>",
         "ids": [
          "LT"
         ],
         "legendgroup": "LT",
         "marker": {
          "color": "#636efa"
         },
         "name": "LT",
         "offsetgroup": "LT",
         "orientation": "v",
         "showlegend": true,
         "textposition": "auto",
         "type": "bar",
         "x": [
          "LT"
         ],
         "xaxis": "x",
         "y": [
          0.17204288888888888
         ],
         "yaxis": "y"
        },
        {
         "alignmentgroup": "True",
         "hovertemplate": "country=%{x}<br>year=2020<br>value=%{y}<extra></extra>",
         "ids": [
          "LV"
         ],
         "legendgroup": "LV",
         "marker": {
          "color": "#EF553B"
         },
         "name": "LV",
         "offsetgroup": "LV",
         "orientation": "v",
         "showlegend": true,
         "textposition": "auto",
         "type": "bar",
         "x": [
          "LV"
         ],
         "xaxis": "x",
         "y": [
          0.16
         ],
         "yaxis": "y"
        },
        {
         "alignmentgroup": "True",
         "hovertemplate": "country=%{x}<br>year=2020<br>value=%{y}<extra></extra>",
         "ids": [
          "NL"
         ],
         "legendgroup": "NL",
         "marker": {
          "color": "#00cc96"
         },
         "name": "NL",
         "offsetgroup": "NL",
         "orientation": "v",
         "showlegend": true,
         "textposition": "auto",
         "type": "bar",
         "x": [
          "NL"
         ],
         "xaxis": "x",
         "y": [
          -997.4
         ],
         "yaxis": "y"
        }
       ],
       "frames": [
        {
         "data": [
          {
           "alignmentgroup": "True",
           "hovertemplate": "country=%{x}<br>year=2020<br>value=%{y}<extra></extra>",
           "ids": [
            "BA"
           ],
           "legendgroup": "BA",
           "marker": {
            "color": "#636efa"
           },
           "name": "BA",
           "offsetgroup": "BA",
           "orientation": "v",
           "showlegend": true,
           "textposition": "auto",
           "type": "bar",
           "x": [
            "BA"
           ],
           "xaxis": "x",
           "y": [
            1362.2
           ],
           "yaxis": "y"
          },
          {
           "alignmentgroup": "True",
           "hovertemplate": "country=%{x}<br>year=2020<br>value=%{y}<extra></extra>",
           "ids": [
            "PE"
           ],
           "legendgroup": "PE",
           "marker": {
            "color": "#EF553B"
           },
           "name": "PE",
           "offsetgroup": "PE",
           "orientation": "v",
           "showlegend": true,
           "textposition": "auto",
           "type": "bar",
           "x": [
            "PE"
           ],
           "xaxis": "x",
           "y": [
            779.6342857142857
           ],
           "yaxis": "y"
          },
          {
           "alignmentgroup": "True",
           "hovertemplate": "country=%{x}<br>year=2020<br>value=%{y}<extra></extra>",
           "ids": [
            "IN"
           ],
           "legendgroup": "IN",
           "marker": {
            "color": "#00cc96"
           },
           "name": "IN",
           "offsetgroup": "IN",
           "orientation": "v",
           "showlegend": true,
           "textposition": "auto",
           "type": "bar",
           "x": [
            "IN"
           ],
           "xaxis": "x",
           "y": [
            672.6215909090909
           ],
           "yaxis": "y"
          },
          {
           "alignmentgroup": "True",
           "hovertemplate": "country=%{x}<br>year=2020<br>value=%{y}<extra></extra>",
           "ids": [
            "CN"
           ],
           "legendgroup": "CN",
           "marker": {
            "color": "#ab63fa"
           },
           "name": "CN",
           "offsetgroup": "CN",
           "orientation": "v",
           "showlegend": true,
           "textposition": "auto",
           "type": "bar",
           "x": [
            "CN"
           ],
           "xaxis": "x",
           "y": [
            620
           ],
           "yaxis": "y"
          },
          {
           "alignmentgroup": "True",
           "hovertemplate": "country=%{x}<br>year=2020<br>value=%{y}<extra></extra>",
           "ids": [
            "HK"
           ],
           "legendgroup": "HK",
           "marker": {
            "color": "#FFA15A"
           },
           "name": "HK",
           "offsetgroup": "HK",
           "orientation": "v",
           "showlegend": true,
           "textposition": "auto",
           "type": "bar",
           "x": [
            "HK"
           ],
           "xaxis": "x",
           "y": [
            588.2444444444445
           ],
           "yaxis": "y"
          },
          {
           "alignmentgroup": "True",
           "hovertemplate": "country=%{x}<br>year=2020<br>value=%{y}<extra></extra>",
           "ids": [
            "XK"
           ],
           "legendgroup": "XK",
           "marker": {
            "color": "#19d3f3"
           },
           "name": "XK",
           "offsetgroup": "XK",
           "orientation": "v",
           "showlegend": true,
           "textposition": "auto",
           "type": "bar",
           "x": [
            "XK"
           ],
           "xaxis": "x",
           "y": [
            528.5
           ],
           "yaxis": "y"
          },
          {
           "alignmentgroup": "True",
           "hovertemplate": "country=%{x}<br>year=2020<br>value=%{y}<extra></extra>",
           "ids": [
            "GR"
           ],
           "legendgroup": "GR",
           "marker": {
            "color": "#FF6692"
           },
           "name": "GR",
           "offsetgroup": "GR",
           "orientation": "v",
           "showlegend": true,
           "textposition": "auto",
           "type": "bar",
           "x": [
            "GR"
           ],
           "xaxis": "x",
           "y": [
            525
           ],
           "yaxis": "y"
          },
          {
           "alignmentgroup": "True",
           "hovertemplate": "country=%{x}<br>year=2020<br>value=%{y}<extra></extra>",
           "ids": [
            "SK"
           ],
           "legendgroup": "SK",
           "marker": {
            "color": "#B6E880"
           },
           "name": "SK",
           "offsetgroup": "SK",
           "orientation": "v",
           "showlegend": true,
           "textposition": "auto",
           "type": "bar",
           "x": [
            "SK"
           ],
           "xaxis": "x",
           "y": [
            520.5638461538462
           ],
           "yaxis": "y"
          },
          {
           "alignmentgroup": "True",
           "hovertemplate": "country=%{x}<br>year=2020<br>value=%{y}<extra></extra>",
           "ids": [
            "RS"
           ],
           "legendgroup": "RS",
           "marker": {
            "color": "#FF97FF"
           },
           "name": "RS",
           "offsetgroup": "RS",
           "orientation": "v",
           "showlegend": true,
           "textposition": "auto",
           "type": "bar",
           "x": [
            "RS"
           ],
           "xaxis": "x",
           "y": [
            504.12
           ],
           "yaxis": "y"
          },
          {
           "alignmentgroup": "True",
           "hovertemplate": "country=%{x}<br>year=2020<br>value=%{y}<extra></extra>",
           "ids": [
            "IT"
           ],
           "legendgroup": "IT",
           "marker": {
            "color": "#FECB52"
           },
           "name": "IT",
           "offsetgroup": "IT",
           "orientation": "v",
           "showlegend": true,
           "textposition": "auto",
           "type": "bar",
           "x": [
            "IT"
           ],
           "xaxis": "x",
           "y": [
            391.84982346938784
           ],
           "yaxis": "y"
          },
          {
           "alignmentgroup": "True",
           "hovertemplate": "country=%{x}<br>year=2020<br>value=%{y}<extra></extra>",
           "ids": [
            "HU"
           ],
           "legendgroup": "HU",
           "marker": {
            "color": "#636efa"
           },
           "name": "HU",
           "offsetgroup": "HU",
           "orientation": "v",
           "showlegend": true,
           "textposition": "auto",
           "type": "bar",
           "x": [
            "HU"
           ],
           "xaxis": "x",
           "y": [
            382.60739523809525
           ],
           "yaxis": "y"
          },
          {
           "alignmentgroup": "True",
           "hovertemplate": "country=%{x}<br>year=2020<br>value=%{y}<extra></extra>",
           "ids": [
            "ES"
           ],
           "legendgroup": "ES",
           "marker": {
            "color": "#EF553B"
           },
           "name": "ES",
           "offsetgroup": "ES",
           "orientation": "v",
           "showlegend": true,
           "textposition": "auto",
           "type": "bar",
           "x": [
            "ES"
           ],
           "xaxis": "x",
           "y": [
            308.85945945945946
           ],
           "yaxis": "y"
          },
          {
           "alignmentgroup": "True",
           "hovertemplate": "country=%{x}<br>year=2020<br>value=%{y}<extra></extra>",
           "ids": [
            "BG"
           ],
           "legendgroup": "BG",
           "marker": {
            "color": "#00cc96"
           },
           "name": "BG",
           "offsetgroup": "BG",
           "orientation": "v",
           "showlegend": true,
           "textposition": "auto",
           "type": "bar",
           "x": [
            "BG"
           ],
           "xaxis": "x",
           "y": [
            300
           ],
           "yaxis": "y"
          },
          {
           "alignmentgroup": "True",
           "hovertemplate": "country=%{x}<br>year=2020<br>value=%{y}<extra></extra>",
           "ids": [
            "CZ"
           ],
           "legendgroup": "CZ",
           "marker": {
            "color": "#ab63fa"
           },
           "name": "CZ",
           "offsetgroup": "CZ",
           "orientation": "v",
           "showlegend": true,
           "textposition": "auto",
           "type": "bar",
           "x": [
            "CZ"
           ],
           "xaxis": "x",
           "y": [
            296.6539392307692
           ],
           "yaxis": "y"
          },
          {
           "alignmentgroup": "True",
           "hovertemplate": "country=%{x}<br>year=2020<br>value=%{y}<extra></extra>",
           "ids": [
            "MK"
           ],
           "legendgroup": "MK",
           "marker": {
            "color": "#FFA15A"
           },
           "name": "MK",
           "offsetgroup": "MK",
           "orientation": "v",
           "showlegend": true,
           "textposition": "auto",
           "type": "bar",
           "x": [
            "MK"
           ],
           "xaxis": "x",
           "y": [
            257.51544
           ],
           "yaxis": "y"
          },
          {
           "alignmentgroup": "True",
           "hovertemplate": "country=%{x}<br>year=2020<br>value=%{y}<extra></extra>",
           "ids": [
            "PT"
           ],
           "legendgroup": "PT",
           "marker": {
            "color": "#19d3f3"
           },
           "name": "PT",
           "offsetgroup": "PT",
           "orientation": "v",
           "showlegend": true,
           "textposition": "auto",
           "type": "bar",
           "x": [
            "PT"
           ],
           "xaxis": "x",
           "y": [
            236.07142857142858
           ],
           "yaxis": "y"
          },
          {
           "alignmentgroup": "True",
           "hovertemplate": "country=%{x}<br>year=2020<br>value=%{y}<extra></extra>",
           "ids": [
            "AT"
           ],
           "legendgroup": "AT",
           "marker": {
            "color": "#FF6692"
           },
           "name": "AT",
           "offsetgroup": "AT",
           "orientation": "v",
           "showlegend": true,
           "textposition": "auto",
           "type": "bar",
           "x": [
            "AT"
           ],
           "xaxis": "x",
           "y": [
            212.42131296296296
           ],
           "yaxis": "y"
          },
          {
           "alignmentgroup": "True",
           "hovertemplate": "country=%{x}<br>year=2020<br>value=%{y}<extra></extra>",
           "ids": [
            "DE"
           ],
           "legendgroup": "DE",
           "marker": {
            "color": "#B6E880"
           },
           "name": "DE",
           "offsetgroup": "DE",
           "orientation": "v",
           "showlegend": true,
           "textposition": "auto",
           "type": "bar",
           "x": [
            "DE"
           ],
           "xaxis": "x",
           "y": [
            209.87654320987653
           ],
           "yaxis": "y"
          },
          {
           "alignmentgroup": "True",
           "hovertemplate": "country=%{x}<br>year=2020<br>value=%{y}<extra></extra>",
           "ids": [
            "CH"
           ],
           "legendgroup": "CH",
           "marker": {
            "color": "#FF97FF"
           },
           "name": "CH",
           "offsetgroup": "CH",
           "orientation": "v",
           "showlegend": true,
           "textposition": "auto",
           "type": "bar",
           "x": [
            "CH"
           ],
           "xaxis": "x",
           "y": [
            191.53749999999997
           ],
           "yaxis": "y"
          },
          {
           "alignmentgroup": "True",
           "hovertemplate": "country=%{x}<br>year=2020<br>value=%{y}<extra></extra>",
           "ids": [
            "LU"
           ],
           "legendgroup": "LU",
           "marker": {
            "color": "#FECB52"
           },
           "name": "LU",
           "offsetgroup": "LU",
           "orientation": "v",
           "showlegend": true,
           "textposition": "auto",
           "type": "bar",
           "x": [
            "LU"
           ],
           "xaxis": "x",
           "y": [
            186.66666666666666
           ],
           "yaxis": "y"
          },
          {
           "alignmentgroup": "True",
           "hovertemplate": "country=%{x}<br>year=2020<br>value=%{y}<extra></extra>",
           "ids": [
            "FR"
           ],
           "legendgroup": "FR",
           "marker": {
            "color": "#636efa"
           },
           "name": "FR",
           "offsetgroup": "FR",
           "orientation": "v",
           "showlegend": true,
           "textposition": "auto",
           "type": "bar",
           "x": [
            "FR"
           ],
           "xaxis": "x",
           "y": [
            177.69230769230768
           ],
           "yaxis": "y"
          },
          {
           "alignmentgroup": "True",
           "hovertemplate": "country=%{x}<br>year=2020<br>value=%{y}<extra></extra>",
           "ids": [
            "NO"
           ],
           "legendgroup": "NO",
           "marker": {
            "color": "#EF553B"
           },
           "name": "NO",
           "offsetgroup": "NO",
           "orientation": "v",
           "showlegend": true,
           "textposition": "auto",
           "type": "bar",
           "x": [
            "NO"
           ],
           "xaxis": "x",
           "y": [
            157.429
           ],
           "yaxis": "y"
          },
          {
           "alignmentgroup": "True",
           "hovertemplate": "country=%{x}<br>year=2020<br>value=%{y}<extra></extra>",
           "ids": [
            "EE"
           ],
           "legendgroup": "EE",
           "marker": {
            "color": "#00cc96"
           },
           "name": "EE",
           "offsetgroup": "EE",
           "orientation": "v",
           "showlegend": true,
           "textposition": "auto",
           "type": "bar",
           "x": [
            "EE"
           ],
           "xaxis": "x",
           "y": [
            150.91583333333332
           ],
           "yaxis": "y"
          },
          {
           "alignmentgroup": "True",
           "hovertemplate": "country=%{x}<br>year=2020<br>value=%{y}<extra></extra>",
           "ids": [
            "DK"
           ],
           "legendgroup": "DK",
           "marker": {
            "color": "#ab63fa"
           },
           "name": "DK",
           "offsetgroup": "DK",
           "orientation": "v",
           "showlegend": true,
           "textposition": "auto",
           "type": "bar",
           "x": [
            "DK"
           ],
           "xaxis": "x",
           "y": [
            150
           ],
           "yaxis": "y"
          },
          {
           "alignmentgroup": "True",
           "hovertemplate": "country=%{x}<br>year=2020<br>value=%{y}<extra></extra>",
           "ids": [
            "MT"
           ],
           "legendgroup": "MT",
           "marker": {
            "color": "#FFA15A"
           },
           "name": "MT",
           "offsetgroup": "MT",
           "orientation": "v",
           "showlegend": true,
           "textposition": "auto",
           "type": "bar",
           "x": [
            "MT"
           ],
           "xaxis": "x",
           "y": [
            142.809
           ],
           "yaxis": "y"
          },
          {
           "alignmentgroup": "True",
           "hovertemplate": "country=%{x}<br>year=2020<br>value=%{y}<extra></extra>",
           "ids": [
            "HR"
           ],
           "legendgroup": "HR",
           "marker": {
            "color": "#19d3f3"
           },
           "name": "HR",
           "offsetgroup": "HR",
           "orientation": "v",
           "showlegend": true,
           "textposition": "auto",
           "type": "bar",
           "x": [
            "HR"
           ],
           "xaxis": "x",
           "y": [
            125
           ],
           "yaxis": "y"
          },
          {
           "alignmentgroup": "True",
           "hovertemplate": "country=%{x}<br>year=2020<br>value=%{y}<extra></extra>",
           "ids": [
            "AD"
           ],
           "legendgroup": "AD",
           "marker": {
            "color": "#FF6692"
           },
           "name": "AD",
           "offsetgroup": "AD",
           "orientation": "v",
           "showlegend": true,
           "textposition": "auto",
           "type": "bar",
           "x": [
            "AD"
           ],
           "xaxis": "x",
           "y": [
            100
           ],
           "yaxis": "y"
          },
          {
           "alignmentgroup": "True",
           "hovertemplate": "country=%{x}<br>year=2020<br>value=%{y}<extra></extra>",
           "ids": [
            "CY"
           ],
           "legendgroup": "CY",
           "marker": {
            "color": "#B6E880"
           },
           "name": "CY",
           "offsetgroup": "CY",
           "orientation": "v",
           "showlegend": true,
           "textposition": "auto",
           "type": "bar",
           "x": [
            "CY"
           ],
           "xaxis": "x",
           "y": [
            82.76678
           ],
           "yaxis": "y"
          },
          {
           "alignmentgroup": "True",
           "hovertemplate": "country=%{x}<br>year=2020<br>value=%{y}<extra></extra>",
           "ids": [
            "IE"
           ],
           "legendgroup": "IE",
           "marker": {
            "color": "#FF97FF"
           },
           "name": "IE",
           "offsetgroup": "IE",
           "orientation": "v",
           "showlegend": true,
           "textposition": "auto",
           "type": "bar",
           "x": [
            "IE"
           ],
           "xaxis": "x",
           "y": [
            0.22755546000000001
           ],
           "yaxis": "y"
          },
          {
           "alignmentgroup": "True",
           "hovertemplate": "country=%{x}<br>year=2020<br>value=%{y}<extra></extra>",
           "ids": [
            "BE"
           ],
           "legendgroup": "BE",
           "marker": {
            "color": "#FECB52"
           },
           "name": "BE",
           "offsetgroup": "BE",
           "orientation": "v",
           "showlegend": true,
           "textposition": "auto",
           "type": "bar",
           "x": [
            "BE"
           ],
           "xaxis": "x",
           "y": [
            0.17875000000000002
           ],
           "yaxis": "y"
          },
          {
           "alignmentgroup": "True",
           "hovertemplate": "country=%{x}<br>year=2020<br>value=%{y}<extra></extra>",
           "ids": [
            "LT"
           ],
           "legendgroup": "LT",
           "marker": {
            "color": "#636efa"
           },
           "name": "LT",
           "offsetgroup": "LT",
           "orientation": "v",
           "showlegend": true,
           "textposition": "auto",
           "type": "bar",
           "x": [
            "LT"
           ],
           "xaxis": "x",
           "y": [
            0.17204288888888888
           ],
           "yaxis": "y"
          },
          {
           "alignmentgroup": "True",
           "hovertemplate": "country=%{x}<br>year=2020<br>value=%{y}<extra></extra>",
           "ids": [
            "LV"
           ],
           "legendgroup": "LV",
           "marker": {
            "color": "#EF553B"
           },
           "name": "LV",
           "offsetgroup": "LV",
           "orientation": "v",
           "showlegend": true,
           "textposition": "auto",
           "type": "bar",
           "x": [
            "LV"
           ],
           "xaxis": "x",
           "y": [
            0.16
           ],
           "yaxis": "y"
          },
          {
           "alignmentgroup": "True",
           "hovertemplate": "country=%{x}<br>year=2020<br>value=%{y}<extra></extra>",
           "ids": [
            "NL"
           ],
           "legendgroup": "NL",
           "marker": {
            "color": "#00cc96"
           },
           "name": "NL",
           "offsetgroup": "NL",
           "orientation": "v",
           "showlegend": true,
           "textposition": "auto",
           "type": "bar",
           "x": [
            "NL"
           ],
           "xaxis": "x",
           "y": [
            -997.4
           ],
           "yaxis": "y"
          }
         ],
         "name": "2020"
        },
        {
         "data": [
          {
           "alignmentgroup": "True",
           "hovertemplate": "country=%{x}<br>year=2019<br>value=%{y}<extra></extra>",
           "ids": [
            "IN"
           ],
           "legendgroup": "IN",
           "marker": {
            "color": "#00cc96"
           },
           "name": "IN",
           "offsetgroup": "IN",
           "orientation": "v",
           "showlegend": true,
           "textposition": "auto",
           "type": "bar",
           "x": [
            "IN"
           ],
           "xaxis": "x",
           "y": [
            420
           ],
           "yaxis": "y"
          },
          {
           "alignmentgroup": "True",
           "hovertemplate": "country=%{x}<br>year=2019<br>value=%{y}<extra></extra>",
           "ids": [
            "CN"
           ],
           "legendgroup": "CN",
           "marker": {
            "color": "#ab63fa"
           },
           "name": "CN",
           "offsetgroup": "CN",
           "orientation": "v",
           "showlegend": true,
           "textposition": "auto",
           "type": "bar",
           "x": [
            "CN"
           ],
           "xaxis": "x",
           "y": [
            600
           ],
           "yaxis": "y"
          },
          {
           "alignmentgroup": "True",
           "hovertemplate": "country=%{x}<br>year=2019<br>value=%{y}<extra></extra>",
           "ids": [
            "IT"
           ],
           "legendgroup": "IT",
           "marker": {
            "color": "#FECB52"
           },
           "name": "IT",
           "offsetgroup": "IT",
           "orientation": "v",
           "showlegend": true,
           "textposition": "auto",
           "type": "bar",
           "x": [
            "IT"
           ],
           "xaxis": "x",
           "y": [
            1000
           ],
           "yaxis": "y"
          },
          {
           "alignmentgroup": "True",
           "hovertemplate": "country=%{x}<br>year=2019<br>value=%{y}<extra></extra>",
           "ids": [
            "ES"
           ],
           "legendgroup": "ES",
           "marker": {
            "color": "#EF553B"
           },
           "name": "ES",
           "offsetgroup": "ES",
           "orientation": "v",
           "showlegend": true,
           "textposition": "auto",
           "type": "bar",
           "x": [
            "ES"
           ],
           "xaxis": "x",
           "y": [
            1235
           ],
           "yaxis": "y"
          },
          {
           "alignmentgroup": "True",
           "hovertemplate": "country=%{x}<br>year=2019<br>value=%{y}<extra></extra>",
           "ids": [
            "PT"
           ],
           "legendgroup": "PT",
           "marker": {
            "color": "#19d3f3"
           },
           "name": "PT",
           "offsetgroup": "PT",
           "orientation": "v",
           "showlegend": true,
           "textposition": "auto",
           "type": "bar",
           "x": [
            "PT"
           ],
           "xaxis": "x",
           "y": [
            0
           ],
           "yaxis": "y"
          },
          {
           "alignmentgroup": "True",
           "hovertemplate": "country=%{x}<br>year=2019<br>value=%{y}<extra></extra>",
           "ids": [
            "DE"
           ],
           "legendgroup": "DE",
           "marker": {
            "color": "#B6E880"
           },
           "name": "DE",
           "offsetgroup": "DE",
           "orientation": "v",
           "showlegend": true,
           "textposition": "auto",
           "type": "bar",
           "x": [
            "DE"
           ],
           "xaxis": "x",
           "y": [
            270
           ],
           "yaxis": "y"
          },
          {
           "alignmentgroup": "True",
           "hovertemplate": "country=%{x}<br>year=2019<br>value=%{y}<extra></extra>",
           "ids": [
            "FR"
           ],
           "legendgroup": "FR",
           "marker": {
            "color": "#636efa"
           },
           "name": "FR",
           "offsetgroup": "FR",
           "orientation": "v",
           "showlegend": true,
           "textposition": "auto",
           "type": "bar",
           "x": [
            "FR"
           ],
           "xaxis": "x",
           "y": [
            166.25
           ],
           "yaxis": "y"
          }
         ],
         "name": "2019"
        },
        {
         "data": [
          {
           "alignmentgroup": "True",
           "hovertemplate": "country=%{x}<br>year=2018<br>value=%{y}<extra></extra>",
           "ids": [
            "BA"
           ],
           "legendgroup": "BA",
           "marker": {
            "color": "#636efa"
           },
           "name": "BA",
           "offsetgroup": "BA",
           "orientation": "v",
           "showlegend": true,
           "textposition": "auto",
           "type": "bar",
           "x": [
            "BA"
           ],
           "xaxis": "x",
           "y": [
            498
           ],
           "yaxis": "y"
          },
          {
           "alignmentgroup": "True",
           "hovertemplate": "country=%{x}<br>year=2018<br>value=%{y}<extra></extra>",
           "ids": [
            "PE"
           ],
           "legendgroup": "PE",
           "marker": {
            "color": "#EF553B"
           },
           "name": "PE",
           "offsetgroup": "PE",
           "orientation": "v",
           "showlegend": true,
           "textposition": "auto",
           "type": "bar",
           "x": [
            "PE"
           ],
           "xaxis": "x",
           "y": [
            954.1166666666667
           ],
           "yaxis": "y"
          },
          {
           "alignmentgroup": "True",
           "hovertemplate": "country=%{x}<br>year=2018<br>value=%{y}<extra></extra>",
           "ids": [
            "IN"
           ],
           "legendgroup": "IN",
           "marker": {
            "color": "#00cc96"
           },
           "name": "IN",
           "offsetgroup": "IN",
           "orientation": "v",
           "showlegend": true,
           "textposition": "auto",
           "type": "bar",
           "x": [
            "IN"
           ],
           "xaxis": "x",
           "y": [
            6936.8
           ],
           "yaxis": "y"
          },
          {
           "alignmentgroup": "True",
           "hovertemplate": "country=%{x}<br>year=2018<br>value=%{y}<extra></extra>",
           "ids": [
            "CN"
           ],
           "legendgroup": "CN",
           "marker": {
            "color": "#ab63fa"
           },
           "name": "CN",
           "offsetgroup": "CN",
           "orientation": "v",
           "showlegend": true,
           "textposition": "auto",
           "type": "bar",
           "x": [
            "CN"
           ],
           "xaxis": "x",
           "y": [
            690.3015873015873
           ],
           "yaxis": "y"
          },
          {
           "alignmentgroup": "True",
           "hovertemplate": "country=%{x}<br>year=2018<br>value=%{y}<extra></extra>",
           "ids": [
            "ES"
           ],
           "legendgroup": "ES",
           "marker": {
            "color": "#EF553B"
           },
           "name": "ES",
           "offsetgroup": "ES",
           "orientation": "v",
           "showlegend": true,
           "textposition": "auto",
           "type": "bar",
           "x": [
            "ES"
           ],
           "xaxis": "x",
           "y": [
            253.93333333333334
           ],
           "yaxis": "y"
          },
          {
           "alignmentgroup": "True",
           "hovertemplate": "country=%{x}<br>year=2018<br>value=%{y}<extra></extra>",
           "ids": [
            "DE"
           ],
           "legendgroup": "DE",
           "marker": {
            "color": "#B6E880"
           },
           "name": "DE",
           "offsetgroup": "DE",
           "orientation": "v",
           "showlegend": true,
           "textposition": "auto",
           "type": "bar",
           "x": [
            "DE"
           ],
           "xaxis": "x",
           "y": [
            283.3333333333333
           ],
           "yaxis": "y"
          },
          {
           "alignmentgroup": "True",
           "hovertemplate": "country=%{x}<br>year=2018<br>value=%{y}<extra></extra>",
           "ids": [
            "FR"
           ],
           "legendgroup": "FR",
           "marker": {
            "color": "#636efa"
           },
           "name": "FR",
           "offsetgroup": "FR",
           "orientation": "v",
           "showlegend": true,
           "textposition": "auto",
           "type": "bar",
           "x": [
            "FR"
           ],
           "xaxis": "x",
           "y": [
            149
           ],
           "yaxis": "y"
          },
          {
           "alignmentgroup": "True",
           "hovertemplate": "country=%{x}<br>year=2018<br>value=%{y}<extra></extra>",
           "ids": [
            "IE"
           ],
           "legendgroup": "IE",
           "marker": {
            "color": "#FF97FF"
           },
           "name": "IE",
           "offsetgroup": "IE",
           "orientation": "v",
           "showlegend": true,
           "textposition": "auto",
           "type": "bar",
           "x": [
            "IE"
           ],
           "xaxis": "x",
           "y": [
            0.05735562
           ],
           "yaxis": "y"
          },
          {
           "alignmentgroup": "True",
           "hovertemplate": "country=%{x}<br>year=2018<br>value=%{y}<extra></extra>",
           "ids": [
            "GI"
           ],
           "legendgroup": "GI",
           "marker": {
            "color": "#ab63fa"
           },
           "name": "GI",
           "offsetgroup": "GI",
           "orientation": "v",
           "showlegend": true,
           "textposition": "auto",
           "type": "bar",
           "x": [
            "GI"
           ],
           "xaxis": "x",
           "y": [
            470
           ],
           "yaxis": "y"
          },
          {
           "alignmentgroup": "True",
           "hovertemplate": "country=%{x}<br>year=2018<br>value=%{y}<extra></extra>",
           "ids": [
            "TR"
           ],
           "legendgroup": "TR",
           "marker": {
            "color": "#FFA15A"
           },
           "name": "TR",
           "offsetgroup": "TR",
           "orientation": "v",
           "showlegend": true,
           "textposition": "auto",
           "type": "bar",
           "x": [
            "TR"
           ],
           "xaxis": "x",
           "y": [
            -4377.189838709678
           ],
           "yaxis": "y"
          }
         ],
         "name": "2018"
        },
        {
         "data": [
          {
           "alignmentgroup": "True",
           "hovertemplate": "country=%{x}<br>year=2017<br>value=%{y}<extra></extra>",
           "ids": [
            "IN"
           ],
           "legendgroup": "IN",
           "marker": {
            "color": "#00cc96"
           },
           "name": "IN",
           "offsetgroup": "IN",
           "orientation": "v",
           "showlegend": true,
           "textposition": "auto",
           "type": "bar",
           "x": [
            "IN"
           ],
           "xaxis": "x",
           "y": [
            1333.183
           ],
           "yaxis": "y"
          },
          {
           "alignmentgroup": "True",
           "hovertemplate": "country=%{x}<br>year=2017<br>value=%{y}<extra></extra>",
           "ids": [
            "HU"
           ],
           "legendgroup": "HU",
           "marker": {
            "color": "#636efa"
           },
           "name": "HU",
           "offsetgroup": "HU",
           "orientation": "v",
           "showlegend": true,
           "textposition": "auto",
           "type": "bar",
           "x": [
            "HU"
           ],
           "xaxis": "x",
           "y": [
            385.6159566666667
           ],
           "yaxis": "y"
          },
          {
           "alignmentgroup": "True",
           "hovertemplate": "country=%{x}<br>year=2017<br>value=%{y}<extra></extra>",
           "ids": [
            "ES"
           ],
           "legendgroup": "ES",
           "marker": {
            "color": "#EF553B"
           },
           "name": "ES",
           "offsetgroup": "ES",
           "orientation": "v",
           "showlegend": true,
           "textposition": "auto",
           "type": "bar",
           "x": [
            "ES"
           ],
           "xaxis": "x",
           "y": [
            12575
           ],
           "yaxis": "y"
          },
          {
           "alignmentgroup": "True",
           "hovertemplate": "country=%{x}<br>year=2017<br>value=%{y}<extra></extra>",
           "ids": [
            "CZ"
           ],
           "legendgroup": "CZ",
           "marker": {
            "color": "#ab63fa"
           },
           "name": "CZ",
           "offsetgroup": "CZ",
           "orientation": "v",
           "showlegend": true,
           "textposition": "auto",
           "type": "bar",
           "x": [
            "CZ"
           ],
           "xaxis": "x",
           "y": [
            437
           ],
           "yaxis": "y"
          },
          {
           "alignmentgroup": "True",
           "hovertemplate": "country=%{x}<br>year=2017<br>value=%{y}<extra></extra>",
           "ids": [
            "MK"
           ],
           "legendgroup": "MK",
           "marker": {
            "color": "#FFA15A"
           },
           "name": "MK",
           "offsetgroup": "MK",
           "orientation": "v",
           "showlegend": true,
           "textposition": "auto",
           "type": "bar",
           "x": [
            "MK"
           ],
           "xaxis": "x",
           "y": [
            46.46148
           ],
           "yaxis": "y"
          },
          {
           "alignmentgroup": "True",
           "hovertemplate": "country=%{x}<br>year=2017<br>value=%{y}<extra></extra>",
           "ids": [
            "AT"
           ],
           "legendgroup": "AT",
           "marker": {
            "color": "#FF6692"
           },
           "name": "AT",
           "offsetgroup": "AT",
           "orientation": "v",
           "showlegend": true,
           "textposition": "auto",
           "type": "bar",
           "x": [
            "AT"
           ],
           "xaxis": "x",
           "y": [
            107.92764636363637
           ],
           "yaxis": "y"
          },
          {
           "alignmentgroup": "True",
           "hovertemplate": "country=%{x}<br>year=2017<br>value=%{y}<extra></extra>",
           "ids": [
            "DE"
           ],
           "legendgroup": "DE",
           "marker": {
            "color": "#B6E880"
           },
           "name": "DE",
           "offsetgroup": "DE",
           "orientation": "v",
           "showlegend": true,
           "textposition": "auto",
           "type": "bar",
           "x": [
            "DE"
           ],
           "xaxis": "x",
           "y": [
            397.5
           ],
           "yaxis": "y"
          },
          {
           "alignmentgroup": "True",
           "hovertemplate": "country=%{x}<br>year=2017<br>value=%{y}<extra></extra>",
           "ids": [
            "FR"
           ],
           "legendgroup": "FR",
           "marker": {
            "color": "#636efa"
           },
           "name": "FR",
           "offsetgroup": "FR",
           "orientation": "v",
           "showlegend": true,
           "textposition": "auto",
           "type": "bar",
           "x": [
            "FR"
           ],
           "xaxis": "x",
           "y": [
            284.9625
           ],
           "yaxis": "y"
          },
          {
           "alignmentgroup": "True",
           "hovertemplate": "country=%{x}<br>year=2017<br>value=%{y}<extra></extra>",
           "ids": [
            "DK"
           ],
           "legendgroup": "DK",
           "marker": {
            "color": "#ab63fa"
           },
           "name": "DK",
           "offsetgroup": "DK",
           "orientation": "v",
           "showlegend": true,
           "textposition": "auto",
           "type": "bar",
           "x": [
            "DK"
           ],
           "xaxis": "x",
           "y": [
            0
           ],
           "yaxis": "y"
          },
          {
           "alignmentgroup": "True",
           "hovertemplate": "country=%{x}<br>year=2017<br>value=%{y}<extra></extra>",
           "ids": [
            "BE"
           ],
           "legendgroup": "BE",
           "marker": {
            "color": "#FECB52"
           },
           "name": "BE",
           "offsetgroup": "BE",
           "orientation": "v",
           "showlegend": true,
           "textposition": "auto",
           "type": "bar",
           "x": [
            "BE"
           ],
           "xaxis": "x",
           "y": [
            10.9
           ],
           "yaxis": "y"
          },
          {
           "alignmentgroup": "True",
           "hovertemplate": "country=%{x}<br>year=2017<br>value=%{y}<extra></extra>",
           "ids": [
            "TR"
           ],
           "legendgroup": "TR",
           "marker": {
            "color": "#FFA15A"
           },
           "name": "TR",
           "offsetgroup": "TR",
           "orientation": "v",
           "showlegend": true,
           "textposition": "auto",
           "type": "bar",
           "x": [
            "TR"
           ],
           "xaxis": "x",
           "y": [
            0
           ],
           "yaxis": "y"
          },
          {
           "alignmentgroup": "True",
           "hovertemplate": "country=%{x}<br>year=2017<br>value=%{y}<extra></extra>",
           "ids": [
            "PL"
           ],
           "legendgroup": "PL",
           "marker": {
            "color": "#19d3f3"
           },
           "name": "PL",
           "offsetgroup": "PL",
           "orientation": "v",
           "showlegend": true,
           "textposition": "auto",
           "type": "bar",
           "x": [
            "PL"
           ],
           "xaxis": "x",
           "y": [
            1956
           ],
           "yaxis": "y"
          },
          {
           "alignmentgroup": "True",
           "hovertemplate": "country=%{x}<br>year=2017<br>value=%{y}<extra></extra>",
           "ids": [
            "RU"
           ],
           "legendgroup": "RU",
           "marker": {
            "color": "#FF6692"
           },
           "name": "RU",
           "offsetgroup": "RU",
           "orientation": "v",
           "showlegend": true,
           "textposition": "auto",
           "type": "bar",
           "x": [
            "RU"
           ],
           "xaxis": "x",
           "y": [
            326.7391304347826
           ],
           "yaxis": "y"
          }
         ],
         "name": "2017"
        },
        {
         "data": [
          {
           "alignmentgroup": "True",
           "hovertemplate": "country=%{x}<br>year=2016<br>value=%{y}<extra></extra>",
           "ids": [
            "BA"
           ],
           "legendgroup": "BA",
           "marker": {
            "color": "#636efa"
           },
           "name": "BA",
           "offsetgroup": "BA",
           "orientation": "v",
           "showlegend": true,
           "textposition": "auto",
           "type": "bar",
           "x": [
            "BA"
           ],
           "xaxis": "x",
           "y": [
            531.4
           ],
           "yaxis": "y"
          },
          {
           "alignmentgroup": "True",
           "hovertemplate": "country=%{x}<br>year=2016<br>value=%{y}<extra></extra>",
           "ids": [
            "IN"
           ],
           "legendgroup": "IN",
           "marker": {
            "color": "#00cc96"
           },
           "name": "IN",
           "offsetgroup": "IN",
           "orientation": "v",
           "showlegend": true,
           "textposition": "auto",
           "type": "bar",
           "x": [
            "IN"
           ],
           "xaxis": "x",
           "y": [
            90
           ],
           "yaxis": "y"
          },
          {
           "alignmentgroup": "True",
           "hovertemplate": "country=%{x}<br>year=2016<br>value=%{y}<extra></extra>",
           "ids": [
            "ES"
           ],
           "legendgroup": "ES",
           "marker": {
            "color": "#EF553B"
           },
           "name": "ES",
           "offsetgroup": "ES",
           "orientation": "v",
           "showlegend": true,
           "textposition": "auto",
           "type": "bar",
           "x": [
            "ES"
           ],
           "xaxis": "x",
           "y": [
            500
           ],
           "yaxis": "y"
          },
          {
           "alignmentgroup": "True",
           "hovertemplate": "country=%{x}<br>year=2016<br>value=%{y}<extra></extra>",
           "ids": [
            "AT"
           ],
           "legendgroup": "AT",
           "marker": {
            "color": "#FF6692"
           },
           "name": "AT",
           "offsetgroup": "AT",
           "orientation": "v",
           "showlegend": true,
           "textposition": "auto",
           "type": "bar",
           "x": [
            "AT"
           ],
           "xaxis": "x",
           "y": [
            469.92857142857144
           ],
           "yaxis": "y"
          },
          {
           "alignmentgroup": "True",
           "hovertemplate": "country=%{x}<br>year=2016<br>value=%{y}<extra></extra>",
           "ids": [
            "DE"
           ],
           "legendgroup": "DE",
           "marker": {
            "color": "#B6E880"
           },
           "name": "DE",
           "offsetgroup": "DE",
           "orientation": "v",
           "showlegend": true,
           "textposition": "auto",
           "type": "bar",
           "x": [
            "DE"
           ],
           "xaxis": "x",
           "y": [
            450
           ],
           "yaxis": "y"
          },
          {
           "alignmentgroup": "True",
           "hovertemplate": "country=%{x}<br>year=2016<br>value=%{y}<extra></extra>",
           "ids": [
            "FR"
           ],
           "legendgroup": "FR",
           "marker": {
            "color": "#636efa"
           },
           "name": "FR",
           "offsetgroup": "FR",
           "orientation": "v",
           "showlegend": true,
           "textposition": "auto",
           "type": "bar",
           "x": [
            "FR"
           ],
           "xaxis": "x",
           "y": [
            0
           ],
           "yaxis": "y"
          },
          {
           "alignmentgroup": "True",
           "hovertemplate": "country=%{x}<br>year=2016<br>value=%{y}<extra></extra>",
           "ids": [
            "TR"
           ],
           "legendgroup": "TR",
           "marker": {
            "color": "#FFA15A"
           },
           "name": "TR",
           "offsetgroup": "TR",
           "orientation": "v",
           "showlegend": true,
           "textposition": "auto",
           "type": "bar",
           "x": [
            "TR"
           ],
           "xaxis": "x",
           "y": [
            4320
           ],
           "yaxis": "y"
          }
         ],
         "name": "2016"
        },
        {
         "data": [
          {
           "alignmentgroup": "True",
           "hovertemplate": "country=%{x}<br>year=2015<br>value=%{y}<extra></extra>",
           "ids": [
            "IN"
           ],
           "legendgroup": "IN",
           "marker": {
            "color": "#00cc96"
           },
           "name": "IN",
           "offsetgroup": "IN",
           "orientation": "v",
           "showlegend": true,
           "textposition": "auto",
           "type": "bar",
           "x": [
            "IN"
           ],
           "xaxis": "x",
           "y": [
            1620
           ],
           "yaxis": "y"
          }
         ],
         "name": "2015"
        }
       ],
       "layout": {
        "barmode": "relative",
        "legend": {
         "title": {
          "text": "country"
         },
         "tracegroupgap": 0
        },
        "sliders": [
         {
          "active": 0,
          "currentvalue": {
           "prefix": "year="
          },
          "len": 0.9,
          "pad": {
           "b": 10,
           "t": 60
          },
          "steps": [
           {
            "args": [
             [
              "2020"
             ],
             {
              "frame": {
               "duration": 0,
               "redraw": true
              },
              "fromcurrent": true,
              "mode": "immediate",
              "transition": {
               "duration": 0,
               "easing": "linear"
              }
             }
            ],
            "label": "2020",
            "method": "animate"
           },
           {
            "args": [
             [
              "2019"
             ],
             {
              "frame": {
               "duration": 0,
               "redraw": true
              },
              "fromcurrent": true,
              "mode": "immediate",
              "transition": {
               "duration": 0,
               "easing": "linear"
              }
             }
            ],
            "label": "2019",
            "method": "animate"
           },
           {
            "args": [
             [
              "2018"
             ],
             {
              "frame": {
               "duration": 0,
               "redraw": true
              },
              "fromcurrent": true,
              "mode": "immediate",
              "transition": {
               "duration": 0,
               "easing": "linear"
              }
             }
            ],
            "label": "2018",
            "method": "animate"
           },
           {
            "args": [
             [
              "2017"
             ],
             {
              "frame": {
               "duration": 0,
               "redraw": true
              },
              "fromcurrent": true,
              "mode": "immediate",
              "transition": {
               "duration": 0,
               "easing": "linear"
              }
             }
            ],
            "label": "2017",
            "method": "animate"
           },
           {
            "args": [
             [
              "2016"
             ],
             {
              "frame": {
               "duration": 0,
               "redraw": true
              },
              "fromcurrent": true,
              "mode": "immediate",
              "transition": {
               "duration": 0,
               "easing": "linear"
              }
             }
            ],
            "label": "2016",
            "method": "animate"
           },
           {
            "args": [
             [
              "2015"
             ],
             {
              "frame": {
               "duration": 0,
               "redraw": true
              },
              "fromcurrent": true,
              "mode": "immediate",
              "transition": {
               "duration": 0,
               "easing": "linear"
              }
             }
            ],
            "label": "2015",
            "method": "animate"
           }
          ],
          "x": 0.1,
          "xanchor": "left",
          "y": 0,
          "yanchor": "top"
         }
        ],
        "template": {
         "data": {
          "bar": [
           {
            "error_x": {
             "color": "#2a3f5f"
            },
            "error_y": {
             "color": "#2a3f5f"
            },
            "marker": {
             "line": {
              "color": "#E5ECF6",
              "width": 0.5
             }
            },
            "type": "bar"
           }
          ],
          "barpolar": [
           {
            "marker": {
             "line": {
              "color": "#E5ECF6",
              "width": 0.5
             }
            },
            "type": "barpolar"
           }
          ],
          "carpet": [
           {
            "aaxis": {
             "endlinecolor": "#2a3f5f",
             "gridcolor": "white",
             "linecolor": "white",
             "minorgridcolor": "white",
             "startlinecolor": "#2a3f5f"
            },
            "baxis": {
             "endlinecolor": "#2a3f5f",
             "gridcolor": "white",
             "linecolor": "white",
             "minorgridcolor": "white",
             "startlinecolor": "#2a3f5f"
            },
            "type": "carpet"
           }
          ],
          "choropleth": [
           {
            "colorbar": {
             "outlinewidth": 0,
             "ticks": ""
            },
            "type": "choropleth"
           }
          ],
          "contour": [
           {
            "colorbar": {
             "outlinewidth": 0,
             "ticks": ""
            },
            "colorscale": [
             [
              0,
              "#0d0887"
             ],
             [
              0.1111111111111111,
              "#46039f"
             ],
             [
              0.2222222222222222,
              "#7201a8"
             ],
             [
              0.3333333333333333,
              "#9c179e"
             ],
             [
              0.4444444444444444,
              "#bd3786"
             ],
             [
              0.5555555555555556,
              "#d8576b"
             ],
             [
              0.6666666666666666,
              "#ed7953"
             ],
             [
              0.7777777777777778,
              "#fb9f3a"
             ],
             [
              0.8888888888888888,
              "#fdca26"
             ],
             [
              1,
              "#f0f921"
             ]
            ],
            "type": "contour"
           }
          ],
          "contourcarpet": [
           {
            "colorbar": {
             "outlinewidth": 0,
             "ticks": ""
            },
            "type": "contourcarpet"
           }
          ],
          "heatmap": [
           {
            "colorbar": {
             "outlinewidth": 0,
             "ticks": ""
            },
            "colorscale": [
             [
              0,
              "#0d0887"
             ],
             [
              0.1111111111111111,
              "#46039f"
             ],
             [
              0.2222222222222222,
              "#7201a8"
             ],
             [
              0.3333333333333333,
              "#9c179e"
             ],
             [
              0.4444444444444444,
              "#bd3786"
             ],
             [
              0.5555555555555556,
              "#d8576b"
             ],
             [
              0.6666666666666666,
              "#ed7953"
             ],
             [
              0.7777777777777778,
              "#fb9f3a"
             ],
             [
              0.8888888888888888,
              "#fdca26"
             ],
             [
              1,
              "#f0f921"
             ]
            ],
            "type": "heatmap"
           }
          ],
          "heatmapgl": [
           {
            "colorbar": {
             "outlinewidth": 0,
             "ticks": ""
            },
            "colorscale": [
             [
              0,
              "#0d0887"
             ],
             [
              0.1111111111111111,
              "#46039f"
             ],
             [
              0.2222222222222222,
              "#7201a8"
             ],
             [
              0.3333333333333333,
              "#9c179e"
             ],
             [
              0.4444444444444444,
              "#bd3786"
             ],
             [
              0.5555555555555556,
              "#d8576b"
             ],
             [
              0.6666666666666666,
              "#ed7953"
             ],
             [
              0.7777777777777778,
              "#fb9f3a"
             ],
             [
              0.8888888888888888,
              "#fdca26"
             ],
             [
              1,
              "#f0f921"
             ]
            ],
            "type": "heatmapgl"
           }
          ],
          "histogram": [
           {
            "marker": {
             "colorbar": {
              "outlinewidth": 0,
              "ticks": ""
             }
            },
            "type": "histogram"
           }
          ],
          "histogram2d": [
           {
            "colorbar": {
             "outlinewidth": 0,
             "ticks": ""
            },
            "colorscale": [
             [
              0,
              "#0d0887"
             ],
             [
              0.1111111111111111,
              "#46039f"
             ],
             [
              0.2222222222222222,
              "#7201a8"
             ],
             [
              0.3333333333333333,
              "#9c179e"
             ],
             [
              0.4444444444444444,
              "#bd3786"
             ],
             [
              0.5555555555555556,
              "#d8576b"
             ],
             [
              0.6666666666666666,
              "#ed7953"
             ],
             [
              0.7777777777777778,
              "#fb9f3a"
             ],
             [
              0.8888888888888888,
              "#fdca26"
             ],
             [
              1,
              "#f0f921"
             ]
            ],
            "type": "histogram2d"
           }
          ],
          "histogram2dcontour": [
           {
            "colorbar": {
             "outlinewidth": 0,
             "ticks": ""
            },
            "colorscale": [
             [
              0,
              "#0d0887"
             ],
             [
              0.1111111111111111,
              "#46039f"
             ],
             [
              0.2222222222222222,
              "#7201a8"
             ],
             [
              0.3333333333333333,
              "#9c179e"
             ],
             [
              0.4444444444444444,
              "#bd3786"
             ],
             [
              0.5555555555555556,
              "#d8576b"
             ],
             [
              0.6666666666666666,
              "#ed7953"
             ],
             [
              0.7777777777777778,
              "#fb9f3a"
             ],
             [
              0.8888888888888888,
              "#fdca26"
             ],
             [
              1,
              "#f0f921"
             ]
            ],
            "type": "histogram2dcontour"
           }
          ],
          "mesh3d": [
           {
            "colorbar": {
             "outlinewidth": 0,
             "ticks": ""
            },
            "type": "mesh3d"
           }
          ],
          "parcoords": [
           {
            "line": {
             "colorbar": {
              "outlinewidth": 0,
              "ticks": ""
             }
            },
            "type": "parcoords"
           }
          ],
          "pie": [
           {
            "automargin": true,
            "type": "pie"
           }
          ],
          "scatter": [
           {
            "marker": {
             "colorbar": {
              "outlinewidth": 0,
              "ticks": ""
             }
            },
            "type": "scatter"
           }
          ],
          "scatter3d": [
           {
            "line": {
             "colorbar": {
              "outlinewidth": 0,
              "ticks": ""
             }
            },
            "marker": {
             "colorbar": {
              "outlinewidth": 0,
              "ticks": ""
             }
            },
            "type": "scatter3d"
           }
          ],
          "scattercarpet": [
           {
            "marker": {
             "colorbar": {
              "outlinewidth": 0,
              "ticks": ""
             }
            },
            "type": "scattercarpet"
           }
          ],
          "scattergeo": [
           {
            "marker": {
             "colorbar": {
              "outlinewidth": 0,
              "ticks": ""
             }
            },
            "type": "scattergeo"
           }
          ],
          "scattergl": [
           {
            "marker": {
             "colorbar": {
              "outlinewidth": 0,
              "ticks": ""
             }
            },
            "type": "scattergl"
           }
          ],
          "scattermapbox": [
           {
            "marker": {
             "colorbar": {
              "outlinewidth": 0,
              "ticks": ""
             }
            },
            "type": "scattermapbox"
           }
          ],
          "scatterpolar": [
           {
            "marker": {
             "colorbar": {
              "outlinewidth": 0,
              "ticks": ""
             }
            },
            "type": "scatterpolar"
           }
          ],
          "scatterpolargl": [
           {
            "marker": {
             "colorbar": {
              "outlinewidth": 0,
              "ticks": ""
             }
            },
            "type": "scatterpolargl"
           }
          ],
          "scatterternary": [
           {
            "marker": {
             "colorbar": {
              "outlinewidth": 0,
              "ticks": ""
             }
            },
            "type": "scatterternary"
           }
          ],
          "surface": [
           {
            "colorbar": {
             "outlinewidth": 0,
             "ticks": ""
            },
            "colorscale": [
             [
              0,
              "#0d0887"
             ],
             [
              0.1111111111111111,
              "#46039f"
             ],
             [
              0.2222222222222222,
              "#7201a8"
             ],
             [
              0.3333333333333333,
              "#9c179e"
             ],
             [
              0.4444444444444444,
              "#bd3786"
             ],
             [
              0.5555555555555556,
              "#d8576b"
             ],
             [
              0.6666666666666666,
              "#ed7953"
             ],
             [
              0.7777777777777778,
              "#fb9f3a"
             ],
             [
              0.8888888888888888,
              "#fdca26"
             ],
             [
              1,
              "#f0f921"
             ]
            ],
            "type": "surface"
           }
          ],
          "table": [
           {
            "cells": {
             "fill": {
              "color": "#EBF0F8"
             },
             "line": {
              "color": "white"
             }
            },
            "header": {
             "fill": {
              "color": "#C8D4E3"
             },
             "line": {
              "color": "white"
             }
            },
            "type": "table"
           }
          ]
         },
         "layout": {
          "annotationdefaults": {
           "arrowcolor": "#2a3f5f",
           "arrowhead": 0,
           "arrowwidth": 1
          },
          "coloraxis": {
           "colorbar": {
            "outlinewidth": 0,
            "ticks": ""
           }
          },
          "colorscale": {
           "diverging": [
            [
             0,
             "#8e0152"
            ],
            [
             0.1,
             "#c51b7d"
            ],
            [
             0.2,
             "#de77ae"
            ],
            [
             0.3,
             "#f1b6da"
            ],
            [
             0.4,
             "#fde0ef"
            ],
            [
             0.5,
             "#f7f7f7"
            ],
            [
             0.6,
             "#e6f5d0"
            ],
            [
             0.7,
             "#b8e186"
            ],
            [
             0.8,
             "#7fbc41"
            ],
            [
             0.9,
             "#4d9221"
            ],
            [
             1,
             "#276419"
            ]
           ],
           "sequential": [
            [
             0,
             "#0d0887"
            ],
            [
             0.1111111111111111,
             "#46039f"
            ],
            [
             0.2222222222222222,
             "#7201a8"
            ],
            [
             0.3333333333333333,
             "#9c179e"
            ],
            [
             0.4444444444444444,
             "#bd3786"
            ],
            [
             0.5555555555555556,
             "#d8576b"
            ],
            [
             0.6666666666666666,
             "#ed7953"
            ],
            [
             0.7777777777777778,
             "#fb9f3a"
            ],
            [
             0.8888888888888888,
             "#fdca26"
            ],
            [
             1,
             "#f0f921"
            ]
           ],
           "sequentialminus": [
            [
             0,
             "#0d0887"
            ],
            [
             0.1111111111111111,
             "#46039f"
            ],
            [
             0.2222222222222222,
             "#7201a8"
            ],
            [
             0.3333333333333333,
             "#9c179e"
            ],
            [
             0.4444444444444444,
             "#bd3786"
            ],
            [
             0.5555555555555556,
             "#d8576b"
            ],
            [
             0.6666666666666666,
             "#ed7953"
            ],
            [
             0.7777777777777778,
             "#fb9f3a"
            ],
            [
             0.8888888888888888,
             "#fdca26"
            ],
            [
             1,
             "#f0f921"
            ]
           ]
          },
          "colorway": [
           "#636efa",
           "#EF553B",
           "#00cc96",
           "#ab63fa",
           "#FFA15A",
           "#19d3f3",
           "#FF6692",
           "#B6E880",
           "#FF97FF",
           "#FECB52"
          ],
          "font": {
           "color": "#2a3f5f"
          },
          "geo": {
           "bgcolor": "white",
           "lakecolor": "white",
           "landcolor": "#E5ECF6",
           "showlakes": true,
           "showland": true,
           "subunitcolor": "white"
          },
          "hoverlabel": {
           "align": "left"
          },
          "hovermode": "closest",
          "mapbox": {
           "style": "light"
          },
          "paper_bgcolor": "white",
          "plot_bgcolor": "#E5ECF6",
          "polar": {
           "angularaxis": {
            "gridcolor": "white",
            "linecolor": "white",
            "ticks": ""
           },
           "bgcolor": "#E5ECF6",
           "radialaxis": {
            "gridcolor": "white",
            "linecolor": "white",
            "ticks": ""
           }
          },
          "scene": {
           "xaxis": {
            "backgroundcolor": "#E5ECF6",
            "gridcolor": "white",
            "gridwidth": 2,
            "linecolor": "white",
            "showbackground": true,
            "ticks": "",
            "zerolinecolor": "white"
           },
           "yaxis": {
            "backgroundcolor": "#E5ECF6",
            "gridcolor": "white",
            "gridwidth": 2,
            "linecolor": "white",
            "showbackground": true,
            "ticks": "",
            "zerolinecolor": "white"
           },
           "zaxis": {
            "backgroundcolor": "#E5ECF6",
            "gridcolor": "white",
            "gridwidth": 2,
            "linecolor": "white",
            "showbackground": true,
            "ticks": "",
            "zerolinecolor": "white"
           }
          },
          "shapedefaults": {
           "line": {
            "color": "#2a3f5f"
           }
          },
          "ternary": {
           "aaxis": {
            "gridcolor": "white",
            "linecolor": "white",
            "ticks": ""
           },
           "baxis": {
            "gridcolor": "white",
            "linecolor": "white",
            "ticks": ""
           },
           "bgcolor": "#E5ECF6",
           "caxis": {
            "gridcolor": "white",
            "linecolor": "white",
            "ticks": ""
           }
          },
          "title": {
           "x": 0.05
          },
          "xaxis": {
           "automargin": true,
           "gridcolor": "white",
           "linecolor": "white",
           "ticks": "",
           "title": {
            "standoff": 15
           },
           "zerolinecolor": "white",
           "zerolinewidth": 2
          },
          "yaxis": {
           "automargin": true,
           "gridcolor": "white",
           "linecolor": "white",
           "ticks": "",
           "title": {
            "standoff": 15
           },
           "zerolinecolor": "white",
           "zerolinewidth": 2
          }
         }
        },
        "title": {
         "text": "Average value of Carbon Monoxide gas in different countries"
        },
        "updatemenus": [
         {
          "buttons": [
           {
            "args": [
             null,
             {
              "frame": {
               "duration": 2000,
               "redraw": true
              },
              "fromcurrent": true,
              "mode": "immediate",
              "transition": {
               "duration": 500,
               "easing": "linear"
              }
             }
            ],
            "label": "&#9654;",
            "method": "animate"
           },
           {
            "args": [
             [
              null
             ],
             {
              "frame": {
               "duration": 0,
               "redraw": true
              },
              "fromcurrent": true,
              "mode": "immediate",
              "transition": {
               "duration": 0,
               "easing": "linear"
              }
             }
            ],
            "label": "&#9724;",
            "method": "animate"
           }
          ],
          "direction": "left",
          "pad": {
           "r": 10,
           "t": 70
          },
          "showactive": false,
          "type": "buttons",
          "x": 0.1,
          "xanchor": "right",
          "y": 0,
          "yanchor": "top"
         }
        ],
        "xaxis": {
         "anchor": "y",
         "categoryarray": [
          "BA",
          "PE",
          "IN",
          "CN",
          "HK",
          "XK",
          "GR",
          "SK",
          "RS",
          "IT",
          "HU",
          "ES",
          "BG",
          "CZ",
          "MK",
          "PT",
          "AT",
          "DE",
          "CH",
          "LU",
          "FR",
          "NO",
          "EE",
          "DK",
          "MT",
          "HR",
          "AD",
          "CY",
          "IE",
          "BE",
          "LT",
          "LV",
          "NL",
          "GI",
          "TR",
          "PL",
          "RU"
         ],
         "categoryorder": "array",
         "domain": [
          0,
          1
         ],
         "title": {
          "text": "country"
         }
        },
        "yaxis": {
         "anchor": "x",
         "domain": [
          0,
          1
         ],
         "range": [
          0,
          13000
         ],
         "title": {
          "text": "value"
         }
        }
       }
      },
      "text/html": [
       "<div>\n",
       "        \n",
       "        \n",
       "            <div id=\"a8d28e04-6b85-4280-8ea7-dc511a18e2d1\" class=\"plotly-graph-div\" style=\"height:525px; width:100%;\"></div>\n",
       "            <script type=\"text/javascript\">\n",
       "                require([\"plotly\"], function(Plotly) {\n",
       "                    window.PLOTLYENV=window.PLOTLYENV || {};\n",
       "                    \n",
       "                if (document.getElementById(\"a8d28e04-6b85-4280-8ea7-dc511a18e2d1\")) {\n",
       "                    Plotly.newPlot(\n",
       "                        'a8d28e04-6b85-4280-8ea7-dc511a18e2d1',\n",
       "                        [{\"alignmentgroup\": \"True\", \"hovertemplate\": \"country=%{x}<br>year=2020<br>value=%{y}<extra></extra>\", \"ids\": [\"BA\"], \"legendgroup\": \"BA\", \"marker\": {\"color\": \"#636efa\"}, \"name\": \"BA\", \"offsetgroup\": \"BA\", \"orientation\": \"v\", \"showlegend\": true, \"textposition\": \"auto\", \"type\": \"bar\", \"x\": [\"BA\"], \"xaxis\": \"x\", \"y\": [1362.2], \"yaxis\": \"y\"}, {\"alignmentgroup\": \"True\", \"hovertemplate\": \"country=%{x}<br>year=2020<br>value=%{y}<extra></extra>\", \"ids\": [\"PE\"], \"legendgroup\": \"PE\", \"marker\": {\"color\": \"#EF553B\"}, \"name\": \"PE\", \"offsetgroup\": \"PE\", \"orientation\": \"v\", \"showlegend\": true, \"textposition\": \"auto\", \"type\": \"bar\", \"x\": [\"PE\"], \"xaxis\": \"x\", \"y\": [779.6342857142857], \"yaxis\": \"y\"}, {\"alignmentgroup\": \"True\", \"hovertemplate\": \"country=%{x}<br>year=2020<br>value=%{y}<extra></extra>\", \"ids\": [\"IN\"], \"legendgroup\": \"IN\", \"marker\": {\"color\": \"#00cc96\"}, \"name\": \"IN\", \"offsetgroup\": \"IN\", \"orientation\": \"v\", \"showlegend\": true, \"textposition\": \"auto\", \"type\": \"bar\", \"x\": [\"IN\"], \"xaxis\": \"x\", \"y\": [672.6215909090909], \"yaxis\": \"y\"}, {\"alignmentgroup\": \"True\", \"hovertemplate\": \"country=%{x}<br>year=2020<br>value=%{y}<extra></extra>\", \"ids\": [\"CN\"], \"legendgroup\": \"CN\", \"marker\": {\"color\": \"#ab63fa\"}, \"name\": \"CN\", \"offsetgroup\": \"CN\", \"orientation\": \"v\", \"showlegend\": true, \"textposition\": \"auto\", \"type\": \"bar\", \"x\": [\"CN\"], \"xaxis\": \"x\", \"y\": [620.0], \"yaxis\": \"y\"}, {\"alignmentgroup\": \"True\", \"hovertemplate\": \"country=%{x}<br>year=2020<br>value=%{y}<extra></extra>\", \"ids\": [\"HK\"], \"legendgroup\": \"HK\", \"marker\": {\"color\": \"#FFA15A\"}, \"name\": \"HK\", \"offsetgroup\": \"HK\", \"orientation\": \"v\", \"showlegend\": true, \"textposition\": \"auto\", \"type\": \"bar\", \"x\": [\"HK\"], \"xaxis\": \"x\", \"y\": [588.2444444444445], \"yaxis\": \"y\"}, {\"alignmentgroup\": \"True\", \"hovertemplate\": \"country=%{x}<br>year=2020<br>value=%{y}<extra></extra>\", \"ids\": [\"XK\"], \"legendgroup\": \"XK\", \"marker\": {\"color\": \"#19d3f3\"}, \"name\": \"XK\", \"offsetgroup\": \"XK\", \"orientation\": \"v\", \"showlegend\": true, \"textposition\": \"auto\", \"type\": \"bar\", \"x\": [\"XK\"], \"xaxis\": \"x\", \"y\": [528.5], \"yaxis\": \"y\"}, {\"alignmentgroup\": \"True\", \"hovertemplate\": \"country=%{x}<br>year=2020<br>value=%{y}<extra></extra>\", \"ids\": [\"GR\"], \"legendgroup\": \"GR\", \"marker\": {\"color\": \"#FF6692\"}, \"name\": \"GR\", \"offsetgroup\": \"GR\", \"orientation\": \"v\", \"showlegend\": true, \"textposition\": \"auto\", \"type\": \"bar\", \"x\": [\"GR\"], \"xaxis\": \"x\", \"y\": [525.0], \"yaxis\": \"y\"}, {\"alignmentgroup\": \"True\", \"hovertemplate\": \"country=%{x}<br>year=2020<br>value=%{y}<extra></extra>\", \"ids\": [\"SK\"], \"legendgroup\": \"SK\", \"marker\": {\"color\": \"#B6E880\"}, \"name\": \"SK\", \"offsetgroup\": \"SK\", \"orientation\": \"v\", \"showlegend\": true, \"textposition\": \"auto\", \"type\": \"bar\", \"x\": [\"SK\"], \"xaxis\": \"x\", \"y\": [520.5638461538462], \"yaxis\": \"y\"}, {\"alignmentgroup\": \"True\", \"hovertemplate\": \"country=%{x}<br>year=2020<br>value=%{y}<extra></extra>\", \"ids\": [\"RS\"], \"legendgroup\": \"RS\", \"marker\": {\"color\": \"#FF97FF\"}, \"name\": \"RS\", \"offsetgroup\": \"RS\", \"orientation\": \"v\", \"showlegend\": true, \"textposition\": \"auto\", \"type\": \"bar\", \"x\": [\"RS\"], \"xaxis\": \"x\", \"y\": [504.12], \"yaxis\": \"y\"}, {\"alignmentgroup\": \"True\", \"hovertemplate\": \"country=%{x}<br>year=2020<br>value=%{y}<extra></extra>\", \"ids\": [\"IT\"], \"legendgroup\": \"IT\", \"marker\": {\"color\": \"#FECB52\"}, \"name\": \"IT\", \"offsetgroup\": \"IT\", \"orientation\": \"v\", \"showlegend\": true, \"textposition\": \"auto\", \"type\": \"bar\", \"x\": [\"IT\"], \"xaxis\": \"x\", \"y\": [391.84982346938784], \"yaxis\": \"y\"}, {\"alignmentgroup\": \"True\", \"hovertemplate\": \"country=%{x}<br>year=2020<br>value=%{y}<extra></extra>\", \"ids\": [\"HU\"], \"legendgroup\": \"HU\", \"marker\": {\"color\": \"#636efa\"}, \"name\": \"HU\", \"offsetgroup\": \"HU\", \"orientation\": \"v\", \"showlegend\": true, \"textposition\": \"auto\", \"type\": \"bar\", \"x\": [\"HU\"], \"xaxis\": \"x\", \"y\": [382.60739523809525], \"yaxis\": \"y\"}, {\"alignmentgroup\": \"True\", \"hovertemplate\": \"country=%{x}<br>year=2020<br>value=%{y}<extra></extra>\", \"ids\": [\"ES\"], \"legendgroup\": \"ES\", \"marker\": {\"color\": \"#EF553B\"}, \"name\": \"ES\", \"offsetgroup\": \"ES\", \"orientation\": \"v\", \"showlegend\": true, \"textposition\": \"auto\", \"type\": \"bar\", \"x\": [\"ES\"], \"xaxis\": \"x\", \"y\": [308.85945945945946], \"yaxis\": \"y\"}, {\"alignmentgroup\": \"True\", \"hovertemplate\": \"country=%{x}<br>year=2020<br>value=%{y}<extra></extra>\", \"ids\": [\"BG\"], \"legendgroup\": \"BG\", \"marker\": {\"color\": \"#00cc96\"}, \"name\": \"BG\", \"offsetgroup\": \"BG\", \"orientation\": \"v\", \"showlegend\": true, \"textposition\": \"auto\", \"type\": \"bar\", \"x\": [\"BG\"], \"xaxis\": \"x\", \"y\": [300.0], \"yaxis\": \"y\"}, {\"alignmentgroup\": \"True\", \"hovertemplate\": \"country=%{x}<br>year=2020<br>value=%{y}<extra></extra>\", \"ids\": [\"CZ\"], \"legendgroup\": \"CZ\", \"marker\": {\"color\": \"#ab63fa\"}, \"name\": \"CZ\", \"offsetgroup\": \"CZ\", \"orientation\": \"v\", \"showlegend\": true, \"textposition\": \"auto\", \"type\": \"bar\", \"x\": [\"CZ\"], \"xaxis\": \"x\", \"y\": [296.6539392307692], \"yaxis\": \"y\"}, {\"alignmentgroup\": \"True\", \"hovertemplate\": \"country=%{x}<br>year=2020<br>value=%{y}<extra></extra>\", \"ids\": [\"MK\"], \"legendgroup\": \"MK\", \"marker\": {\"color\": \"#FFA15A\"}, \"name\": \"MK\", \"offsetgroup\": \"MK\", \"orientation\": \"v\", \"showlegend\": true, \"textposition\": \"auto\", \"type\": \"bar\", \"x\": [\"MK\"], \"xaxis\": \"x\", \"y\": [257.51544], \"yaxis\": \"y\"}, {\"alignmentgroup\": \"True\", \"hovertemplate\": \"country=%{x}<br>year=2020<br>value=%{y}<extra></extra>\", \"ids\": [\"PT\"], \"legendgroup\": \"PT\", \"marker\": {\"color\": \"#19d3f3\"}, \"name\": \"PT\", \"offsetgroup\": \"PT\", \"orientation\": \"v\", \"showlegend\": true, \"textposition\": \"auto\", \"type\": \"bar\", \"x\": [\"PT\"], \"xaxis\": \"x\", \"y\": [236.07142857142858], \"yaxis\": \"y\"}, {\"alignmentgroup\": \"True\", \"hovertemplate\": \"country=%{x}<br>year=2020<br>value=%{y}<extra></extra>\", \"ids\": [\"AT\"], \"legendgroup\": \"AT\", \"marker\": {\"color\": \"#FF6692\"}, \"name\": \"AT\", \"offsetgroup\": \"AT\", \"orientation\": \"v\", \"showlegend\": true, \"textposition\": \"auto\", \"type\": \"bar\", \"x\": [\"AT\"], \"xaxis\": \"x\", \"y\": [212.42131296296296], \"yaxis\": \"y\"}, {\"alignmentgroup\": \"True\", \"hovertemplate\": \"country=%{x}<br>year=2020<br>value=%{y}<extra></extra>\", \"ids\": [\"DE\"], \"legendgroup\": \"DE\", \"marker\": {\"color\": \"#B6E880\"}, \"name\": \"DE\", \"offsetgroup\": \"DE\", \"orientation\": \"v\", \"showlegend\": true, \"textposition\": \"auto\", \"type\": \"bar\", \"x\": [\"DE\"], \"xaxis\": \"x\", \"y\": [209.87654320987653], \"yaxis\": \"y\"}, {\"alignmentgroup\": \"True\", \"hovertemplate\": \"country=%{x}<br>year=2020<br>value=%{y}<extra></extra>\", \"ids\": [\"CH\"], \"legendgroup\": \"CH\", \"marker\": {\"color\": \"#FF97FF\"}, \"name\": \"CH\", \"offsetgroup\": \"CH\", \"orientation\": \"v\", \"showlegend\": true, \"textposition\": \"auto\", \"type\": \"bar\", \"x\": [\"CH\"], \"xaxis\": \"x\", \"y\": [191.53749999999997], \"yaxis\": \"y\"}, {\"alignmentgroup\": \"True\", \"hovertemplate\": \"country=%{x}<br>year=2020<br>value=%{y}<extra></extra>\", \"ids\": [\"LU\"], \"legendgroup\": \"LU\", \"marker\": {\"color\": \"#FECB52\"}, \"name\": \"LU\", \"offsetgroup\": \"LU\", \"orientation\": \"v\", \"showlegend\": true, \"textposition\": \"auto\", \"type\": \"bar\", \"x\": [\"LU\"], \"xaxis\": \"x\", \"y\": [186.66666666666666], \"yaxis\": \"y\"}, {\"alignmentgroup\": \"True\", \"hovertemplate\": \"country=%{x}<br>year=2020<br>value=%{y}<extra></extra>\", \"ids\": [\"FR\"], \"legendgroup\": \"FR\", \"marker\": {\"color\": \"#636efa\"}, \"name\": \"FR\", \"offsetgroup\": \"FR\", \"orientation\": \"v\", \"showlegend\": true, \"textposition\": \"auto\", \"type\": \"bar\", \"x\": [\"FR\"], \"xaxis\": \"x\", \"y\": [177.69230769230768], \"yaxis\": \"y\"}, {\"alignmentgroup\": \"True\", \"hovertemplate\": \"country=%{x}<br>year=2020<br>value=%{y}<extra></extra>\", \"ids\": [\"NO\"], \"legendgroup\": \"NO\", \"marker\": {\"color\": \"#EF553B\"}, \"name\": \"NO\", \"offsetgroup\": \"NO\", \"orientation\": \"v\", \"showlegend\": true, \"textposition\": \"auto\", \"type\": \"bar\", \"x\": [\"NO\"], \"xaxis\": \"x\", \"y\": [157.429], \"yaxis\": \"y\"}, {\"alignmentgroup\": \"True\", \"hovertemplate\": \"country=%{x}<br>year=2020<br>value=%{y}<extra></extra>\", \"ids\": [\"EE\"], \"legendgroup\": \"EE\", \"marker\": {\"color\": \"#00cc96\"}, \"name\": \"EE\", \"offsetgroup\": \"EE\", \"orientation\": \"v\", \"showlegend\": true, \"textposition\": \"auto\", \"type\": \"bar\", \"x\": [\"EE\"], \"xaxis\": \"x\", \"y\": [150.91583333333332], \"yaxis\": \"y\"}, {\"alignmentgroup\": \"True\", \"hovertemplate\": \"country=%{x}<br>year=2020<br>value=%{y}<extra></extra>\", \"ids\": [\"DK\"], \"legendgroup\": \"DK\", \"marker\": {\"color\": \"#ab63fa\"}, \"name\": \"DK\", \"offsetgroup\": \"DK\", \"orientation\": \"v\", \"showlegend\": true, \"textposition\": \"auto\", \"type\": \"bar\", \"x\": [\"DK\"], \"xaxis\": \"x\", \"y\": [150.0], \"yaxis\": \"y\"}, {\"alignmentgroup\": \"True\", \"hovertemplate\": \"country=%{x}<br>year=2020<br>value=%{y}<extra></extra>\", \"ids\": [\"MT\"], \"legendgroup\": \"MT\", \"marker\": {\"color\": \"#FFA15A\"}, \"name\": \"MT\", \"offsetgroup\": \"MT\", \"orientation\": \"v\", \"showlegend\": true, \"textposition\": \"auto\", \"type\": \"bar\", \"x\": [\"MT\"], \"xaxis\": \"x\", \"y\": [142.809], \"yaxis\": \"y\"}, {\"alignmentgroup\": \"True\", \"hovertemplate\": \"country=%{x}<br>year=2020<br>value=%{y}<extra></extra>\", \"ids\": [\"HR\"], \"legendgroup\": \"HR\", \"marker\": {\"color\": \"#19d3f3\"}, \"name\": \"HR\", \"offsetgroup\": \"HR\", \"orientation\": \"v\", \"showlegend\": true, \"textposition\": \"auto\", \"type\": \"bar\", \"x\": [\"HR\"], \"xaxis\": \"x\", \"y\": [125.0], \"yaxis\": \"y\"}, {\"alignmentgroup\": \"True\", \"hovertemplate\": \"country=%{x}<br>year=2020<br>value=%{y}<extra></extra>\", \"ids\": [\"AD\"], \"legendgroup\": \"AD\", \"marker\": {\"color\": \"#FF6692\"}, \"name\": \"AD\", \"offsetgroup\": \"AD\", \"orientation\": \"v\", \"showlegend\": true, \"textposition\": \"auto\", \"type\": \"bar\", \"x\": [\"AD\"], \"xaxis\": \"x\", \"y\": [100.0], \"yaxis\": \"y\"}, {\"alignmentgroup\": \"True\", \"hovertemplate\": \"country=%{x}<br>year=2020<br>value=%{y}<extra></extra>\", \"ids\": [\"CY\"], \"legendgroup\": \"CY\", \"marker\": {\"color\": \"#B6E880\"}, \"name\": \"CY\", \"offsetgroup\": \"CY\", \"orientation\": \"v\", \"showlegend\": true, \"textposition\": \"auto\", \"type\": \"bar\", \"x\": [\"CY\"], \"xaxis\": \"x\", \"y\": [82.76678], \"yaxis\": \"y\"}, {\"alignmentgroup\": \"True\", \"hovertemplate\": \"country=%{x}<br>year=2020<br>value=%{y}<extra></extra>\", \"ids\": [\"IE\"], \"legendgroup\": \"IE\", \"marker\": {\"color\": \"#FF97FF\"}, \"name\": \"IE\", \"offsetgroup\": \"IE\", \"orientation\": \"v\", \"showlegend\": true, \"textposition\": \"auto\", \"type\": \"bar\", \"x\": [\"IE\"], \"xaxis\": \"x\", \"y\": [0.22755546000000001], \"yaxis\": \"y\"}, {\"alignmentgroup\": \"True\", \"hovertemplate\": \"country=%{x}<br>year=2020<br>value=%{y}<extra></extra>\", \"ids\": [\"BE\"], \"legendgroup\": \"BE\", \"marker\": {\"color\": \"#FECB52\"}, \"name\": \"BE\", \"offsetgroup\": \"BE\", \"orientation\": \"v\", \"showlegend\": true, \"textposition\": \"auto\", \"type\": \"bar\", \"x\": [\"BE\"], \"xaxis\": \"x\", \"y\": [0.17875000000000002], \"yaxis\": \"y\"}, {\"alignmentgroup\": \"True\", \"hovertemplate\": \"country=%{x}<br>year=2020<br>value=%{y}<extra></extra>\", \"ids\": [\"LT\"], \"legendgroup\": \"LT\", \"marker\": {\"color\": \"#636efa\"}, \"name\": \"LT\", \"offsetgroup\": \"LT\", \"orientation\": \"v\", \"showlegend\": true, \"textposition\": \"auto\", \"type\": \"bar\", \"x\": [\"LT\"], \"xaxis\": \"x\", \"y\": [0.17204288888888888], \"yaxis\": \"y\"}, {\"alignmentgroup\": \"True\", \"hovertemplate\": \"country=%{x}<br>year=2020<br>value=%{y}<extra></extra>\", \"ids\": [\"LV\"], \"legendgroup\": \"LV\", \"marker\": {\"color\": \"#EF553B\"}, \"name\": \"LV\", \"offsetgroup\": \"LV\", \"orientation\": \"v\", \"showlegend\": true, \"textposition\": \"auto\", \"type\": \"bar\", \"x\": [\"LV\"], \"xaxis\": \"x\", \"y\": [0.16], \"yaxis\": \"y\"}, {\"alignmentgroup\": \"True\", \"hovertemplate\": \"country=%{x}<br>year=2020<br>value=%{y}<extra></extra>\", \"ids\": [\"NL\"], \"legendgroup\": \"NL\", \"marker\": {\"color\": \"#00cc96\"}, \"name\": \"NL\", \"offsetgroup\": \"NL\", \"orientation\": \"v\", \"showlegend\": true, \"textposition\": \"auto\", \"type\": \"bar\", \"x\": [\"NL\"], \"xaxis\": \"x\", \"y\": [-997.4], \"yaxis\": \"y\"}],\n",
       "                        {\"barmode\": \"relative\", \"legend\": {\"title\": {\"text\": \"country\"}, \"tracegroupgap\": 0}, \"sliders\": [{\"active\": 0, \"currentvalue\": {\"prefix\": \"year=\"}, \"len\": 0.9, \"pad\": {\"b\": 10, \"t\": 60}, \"steps\": [{\"args\": [[\"2020\"], {\"frame\": {\"duration\": 0, \"redraw\": true}, \"fromcurrent\": true, \"mode\": \"immediate\", \"transition\": {\"duration\": 0, \"easing\": \"linear\"}}], \"label\": \"2020\", \"method\": \"animate\"}, {\"args\": [[\"2019\"], {\"frame\": {\"duration\": 0, \"redraw\": true}, \"fromcurrent\": true, \"mode\": \"immediate\", \"transition\": {\"duration\": 0, \"easing\": \"linear\"}}], \"label\": \"2019\", \"method\": \"animate\"}, {\"args\": [[\"2018\"], {\"frame\": {\"duration\": 0, \"redraw\": true}, \"fromcurrent\": true, \"mode\": \"immediate\", \"transition\": {\"duration\": 0, \"easing\": \"linear\"}}], \"label\": \"2018\", \"method\": \"animate\"}, {\"args\": [[\"2017\"], {\"frame\": {\"duration\": 0, \"redraw\": true}, \"fromcurrent\": true, \"mode\": \"immediate\", \"transition\": {\"duration\": 0, \"easing\": \"linear\"}}], \"label\": \"2017\", \"method\": \"animate\"}, {\"args\": [[\"2016\"], {\"frame\": {\"duration\": 0, \"redraw\": true}, \"fromcurrent\": true, \"mode\": \"immediate\", \"transition\": {\"duration\": 0, \"easing\": \"linear\"}}], \"label\": \"2016\", \"method\": \"animate\"}, {\"args\": [[\"2015\"], {\"frame\": {\"duration\": 0, \"redraw\": true}, \"fromcurrent\": true, \"mode\": \"immediate\", \"transition\": {\"duration\": 0, \"easing\": \"linear\"}}], \"label\": \"2015\", \"method\": \"animate\"}], \"x\": 0.1, \"xanchor\": \"left\", \"y\": 0, \"yanchor\": \"top\"}], \"template\": {\"data\": {\"bar\": [{\"error_x\": {\"color\": \"#2a3f5f\"}, \"error_y\": {\"color\": \"#2a3f5f\"}, \"marker\": {\"line\": {\"color\": \"#E5ECF6\", \"width\": 0.5}}, \"type\": \"bar\"}], \"barpolar\": [{\"marker\": {\"line\": {\"color\": \"#E5ECF6\", \"width\": 0.5}}, \"type\": \"barpolar\"}], \"carpet\": [{\"aaxis\": {\"endlinecolor\": \"#2a3f5f\", \"gridcolor\": \"white\", \"linecolor\": \"white\", \"minorgridcolor\": \"white\", \"startlinecolor\": \"#2a3f5f\"}, \"baxis\": {\"endlinecolor\": \"#2a3f5f\", \"gridcolor\": \"white\", \"linecolor\": \"white\", \"minorgridcolor\": \"white\", \"startlinecolor\": \"#2a3f5f\"}, \"type\": \"carpet\"}], \"choropleth\": [{\"colorbar\": {\"outlinewidth\": 0, \"ticks\": \"\"}, \"type\": \"choropleth\"}], \"contour\": [{\"colorbar\": {\"outlinewidth\": 0, \"ticks\": \"\"}, \"colorscale\": [[0.0, \"#0d0887\"], [0.1111111111111111, \"#46039f\"], [0.2222222222222222, \"#7201a8\"], [0.3333333333333333, \"#9c179e\"], [0.4444444444444444, \"#bd3786\"], [0.5555555555555556, \"#d8576b\"], [0.6666666666666666, \"#ed7953\"], [0.7777777777777778, \"#fb9f3a\"], [0.8888888888888888, \"#fdca26\"], [1.0, \"#f0f921\"]], \"type\": \"contour\"}], \"contourcarpet\": [{\"colorbar\": {\"outlinewidth\": 0, \"ticks\": \"\"}, \"type\": \"contourcarpet\"}], \"heatmap\": [{\"colorbar\": {\"outlinewidth\": 0, \"ticks\": \"\"}, \"colorscale\": [[0.0, \"#0d0887\"], [0.1111111111111111, \"#46039f\"], [0.2222222222222222, \"#7201a8\"], [0.3333333333333333, \"#9c179e\"], [0.4444444444444444, \"#bd3786\"], [0.5555555555555556, \"#d8576b\"], [0.6666666666666666, \"#ed7953\"], [0.7777777777777778, \"#fb9f3a\"], [0.8888888888888888, \"#fdca26\"], [1.0, \"#f0f921\"]], \"type\": \"heatmap\"}], \"heatmapgl\": [{\"colorbar\": {\"outlinewidth\": 0, \"ticks\": \"\"}, \"colorscale\": [[0.0, \"#0d0887\"], [0.1111111111111111, \"#46039f\"], [0.2222222222222222, \"#7201a8\"], [0.3333333333333333, \"#9c179e\"], [0.4444444444444444, \"#bd3786\"], [0.5555555555555556, \"#d8576b\"], [0.6666666666666666, \"#ed7953\"], [0.7777777777777778, \"#fb9f3a\"], [0.8888888888888888, \"#fdca26\"], [1.0, \"#f0f921\"]], \"type\": \"heatmapgl\"}], \"histogram\": [{\"marker\": {\"colorbar\": {\"outlinewidth\": 0, \"ticks\": \"\"}}, \"type\": \"histogram\"}], \"histogram2d\": [{\"colorbar\": {\"outlinewidth\": 0, \"ticks\": \"\"}, \"colorscale\": [[0.0, \"#0d0887\"], [0.1111111111111111, \"#46039f\"], [0.2222222222222222, \"#7201a8\"], [0.3333333333333333, \"#9c179e\"], [0.4444444444444444, \"#bd3786\"], [0.5555555555555556, \"#d8576b\"], [0.6666666666666666, \"#ed7953\"], [0.7777777777777778, \"#fb9f3a\"], [0.8888888888888888, \"#fdca26\"], [1.0, \"#f0f921\"]], \"type\": \"histogram2d\"}], \"histogram2dcontour\": [{\"colorbar\": {\"outlinewidth\": 0, \"ticks\": \"\"}, \"colorscale\": [[0.0, \"#0d0887\"], [0.1111111111111111, \"#46039f\"], [0.2222222222222222, \"#7201a8\"], [0.3333333333333333, \"#9c179e\"], [0.4444444444444444, \"#bd3786\"], [0.5555555555555556, \"#d8576b\"], [0.6666666666666666, \"#ed7953\"], [0.7777777777777778, \"#fb9f3a\"], [0.8888888888888888, \"#fdca26\"], [1.0, \"#f0f921\"]], \"type\": \"histogram2dcontour\"}], \"mesh3d\": [{\"colorbar\": {\"outlinewidth\": 0, \"ticks\": \"\"}, \"type\": \"mesh3d\"}], \"parcoords\": [{\"line\": {\"colorbar\": {\"outlinewidth\": 0, \"ticks\": \"\"}}, \"type\": \"parcoords\"}], \"pie\": [{\"automargin\": true, \"type\": \"pie\"}], \"scatter\": [{\"marker\": {\"colorbar\": {\"outlinewidth\": 0, \"ticks\": \"\"}}, \"type\": \"scatter\"}], \"scatter3d\": [{\"line\": {\"colorbar\": {\"outlinewidth\": 0, \"ticks\": \"\"}}, \"marker\": {\"colorbar\": {\"outlinewidth\": 0, \"ticks\": \"\"}}, \"type\": \"scatter3d\"}], \"scattercarpet\": [{\"marker\": {\"colorbar\": {\"outlinewidth\": 0, \"ticks\": \"\"}}, \"type\": \"scattercarpet\"}], \"scattergeo\": [{\"marker\": {\"colorbar\": {\"outlinewidth\": 0, \"ticks\": \"\"}}, \"type\": \"scattergeo\"}], \"scattergl\": [{\"marker\": {\"colorbar\": {\"outlinewidth\": 0, \"ticks\": \"\"}}, \"type\": \"scattergl\"}], \"scattermapbox\": [{\"marker\": {\"colorbar\": {\"outlinewidth\": 0, \"ticks\": \"\"}}, \"type\": \"scattermapbox\"}], \"scatterpolar\": [{\"marker\": {\"colorbar\": {\"outlinewidth\": 0, \"ticks\": \"\"}}, \"type\": \"scatterpolar\"}], \"scatterpolargl\": [{\"marker\": {\"colorbar\": {\"outlinewidth\": 0, \"ticks\": \"\"}}, \"type\": \"scatterpolargl\"}], \"scatterternary\": [{\"marker\": {\"colorbar\": {\"outlinewidth\": 0, \"ticks\": \"\"}}, \"type\": \"scatterternary\"}], \"surface\": [{\"colorbar\": {\"outlinewidth\": 0, \"ticks\": \"\"}, \"colorscale\": [[0.0, \"#0d0887\"], [0.1111111111111111, \"#46039f\"], [0.2222222222222222, \"#7201a8\"], [0.3333333333333333, \"#9c179e\"], [0.4444444444444444, \"#bd3786\"], [0.5555555555555556, \"#d8576b\"], [0.6666666666666666, \"#ed7953\"], [0.7777777777777778, \"#fb9f3a\"], [0.8888888888888888, \"#fdca26\"], [1.0, \"#f0f921\"]], \"type\": \"surface\"}], \"table\": [{\"cells\": {\"fill\": {\"color\": \"#EBF0F8\"}, \"line\": {\"color\": \"white\"}}, \"header\": {\"fill\": {\"color\": \"#C8D4E3\"}, \"line\": {\"color\": \"white\"}}, \"type\": \"table\"}]}, \"layout\": {\"annotationdefaults\": {\"arrowcolor\": \"#2a3f5f\", \"arrowhead\": 0, \"arrowwidth\": 1}, \"coloraxis\": {\"colorbar\": {\"outlinewidth\": 0, \"ticks\": \"\"}}, \"colorscale\": {\"diverging\": [[0, \"#8e0152\"], [0.1, \"#c51b7d\"], [0.2, \"#de77ae\"], [0.3, \"#f1b6da\"], [0.4, \"#fde0ef\"], [0.5, \"#f7f7f7\"], [0.6, \"#e6f5d0\"], [0.7, \"#b8e186\"], [0.8, \"#7fbc41\"], [0.9, \"#4d9221\"], [1, \"#276419\"]], \"sequential\": [[0.0, \"#0d0887\"], [0.1111111111111111, \"#46039f\"], [0.2222222222222222, \"#7201a8\"], [0.3333333333333333, \"#9c179e\"], [0.4444444444444444, \"#bd3786\"], [0.5555555555555556, \"#d8576b\"], [0.6666666666666666, \"#ed7953\"], [0.7777777777777778, \"#fb9f3a\"], [0.8888888888888888, \"#fdca26\"], [1.0, \"#f0f921\"]], \"sequentialminus\": [[0.0, \"#0d0887\"], [0.1111111111111111, \"#46039f\"], [0.2222222222222222, \"#7201a8\"], [0.3333333333333333, \"#9c179e\"], [0.4444444444444444, \"#bd3786\"], [0.5555555555555556, \"#d8576b\"], [0.6666666666666666, \"#ed7953\"], [0.7777777777777778, \"#fb9f3a\"], [0.8888888888888888, \"#fdca26\"], [1.0, \"#f0f921\"]]}, \"colorway\": [\"#636efa\", \"#EF553B\", \"#00cc96\", \"#ab63fa\", \"#FFA15A\", \"#19d3f3\", \"#FF6692\", \"#B6E880\", \"#FF97FF\", \"#FECB52\"], \"font\": {\"color\": \"#2a3f5f\"}, \"geo\": {\"bgcolor\": \"white\", \"lakecolor\": \"white\", \"landcolor\": \"#E5ECF6\", \"showlakes\": true, \"showland\": true, \"subunitcolor\": \"white\"}, \"hoverlabel\": {\"align\": \"left\"}, \"hovermode\": \"closest\", \"mapbox\": {\"style\": \"light\"}, \"paper_bgcolor\": \"white\", \"plot_bgcolor\": \"#E5ECF6\", \"polar\": {\"angularaxis\": {\"gridcolor\": \"white\", \"linecolor\": \"white\", \"ticks\": \"\"}, \"bgcolor\": \"#E5ECF6\", \"radialaxis\": {\"gridcolor\": \"white\", \"linecolor\": \"white\", \"ticks\": \"\"}}, \"scene\": {\"xaxis\": {\"backgroundcolor\": \"#E5ECF6\", \"gridcolor\": \"white\", \"gridwidth\": 2, \"linecolor\": \"white\", \"showbackground\": true, \"ticks\": \"\", \"zerolinecolor\": \"white\"}, \"yaxis\": {\"backgroundcolor\": \"#E5ECF6\", \"gridcolor\": \"white\", \"gridwidth\": 2, \"linecolor\": \"white\", \"showbackground\": true, \"ticks\": \"\", \"zerolinecolor\": \"white\"}, \"zaxis\": {\"backgroundcolor\": \"#E5ECF6\", \"gridcolor\": \"white\", \"gridwidth\": 2, \"linecolor\": \"white\", \"showbackground\": true, \"ticks\": \"\", \"zerolinecolor\": \"white\"}}, \"shapedefaults\": {\"line\": {\"color\": \"#2a3f5f\"}}, \"ternary\": {\"aaxis\": {\"gridcolor\": \"white\", \"linecolor\": \"white\", \"ticks\": \"\"}, \"baxis\": {\"gridcolor\": \"white\", \"linecolor\": \"white\", \"ticks\": \"\"}, \"bgcolor\": \"#E5ECF6\", \"caxis\": {\"gridcolor\": \"white\", \"linecolor\": \"white\", \"ticks\": \"\"}}, \"title\": {\"x\": 0.05}, \"xaxis\": {\"automargin\": true, \"gridcolor\": \"white\", \"linecolor\": \"white\", \"ticks\": \"\", \"title\": {\"standoff\": 15}, \"zerolinecolor\": \"white\", \"zerolinewidth\": 2}, \"yaxis\": {\"automargin\": true, \"gridcolor\": \"white\", \"linecolor\": \"white\", \"ticks\": \"\", \"title\": {\"standoff\": 15}, \"zerolinecolor\": \"white\", \"zerolinewidth\": 2}}}, \"title\": {\"text\": \"Average value of Carbon Monoxide gas in different countries\"}, \"updatemenus\": [{\"buttons\": [{\"args\": [null, {\"frame\": {\"duration\": 2000, \"redraw\": true}, \"fromcurrent\": true, \"mode\": \"immediate\", \"transition\": {\"duration\": 500, \"easing\": \"linear\"}}], \"label\": \"&#9654;\", \"method\": \"animate\"}, {\"args\": [[null], {\"frame\": {\"duration\": 0, \"redraw\": true}, \"fromcurrent\": true, \"mode\": \"immediate\", \"transition\": {\"duration\": 0, \"easing\": \"linear\"}}], \"label\": \"&#9724;\", \"method\": \"animate\"}], \"direction\": \"left\", \"pad\": {\"r\": 10, \"t\": 70}, \"showactive\": false, \"type\": \"buttons\", \"x\": 0.1, \"xanchor\": \"right\", \"y\": 0, \"yanchor\": \"top\"}], \"xaxis\": {\"anchor\": \"y\", \"categoryarray\": [\"BA\", \"PE\", \"IN\", \"CN\", \"HK\", \"XK\", \"GR\", \"SK\", \"RS\", \"IT\", \"HU\", \"ES\", \"BG\", \"CZ\", \"MK\", \"PT\", \"AT\", \"DE\", \"CH\", \"LU\", \"FR\", \"NO\", \"EE\", \"DK\", \"MT\", \"HR\", \"AD\", \"CY\", \"IE\", \"BE\", \"LT\", \"LV\", \"NL\", \"GI\", \"TR\", \"PL\", \"RU\"], \"categoryorder\": \"array\", \"domain\": [0.0, 1.0], \"title\": {\"text\": \"country\"}}, \"yaxis\": {\"anchor\": \"x\", \"domain\": [0.0, 1.0], \"range\": [0, 13000], \"title\": {\"text\": \"value\"}}},\n",
       "                        {\"responsive\": true}\n",
       "                    ).then(function(){\n",
       "                            Plotly.addFrames('a8d28e04-6b85-4280-8ea7-dc511a18e2d1', [{\"data\": [{\"alignmentgroup\": \"True\", \"hovertemplate\": \"country=%{x}<br>year=2020<br>value=%{y}<extra></extra>\", \"ids\": [\"BA\"], \"legendgroup\": \"BA\", \"marker\": {\"color\": \"#636efa\"}, \"name\": \"BA\", \"offsetgroup\": \"BA\", \"orientation\": \"v\", \"showlegend\": true, \"textposition\": \"auto\", \"x\": [\"BA\"], \"xaxis\": \"x\", \"y\": [1362.2], \"yaxis\": \"y\", \"type\": \"bar\"}, {\"alignmentgroup\": \"True\", \"hovertemplate\": \"country=%{x}<br>year=2020<br>value=%{y}<extra></extra>\", \"ids\": [\"PE\"], \"legendgroup\": \"PE\", \"marker\": {\"color\": \"#EF553B\"}, \"name\": \"PE\", \"offsetgroup\": \"PE\", \"orientation\": \"v\", \"showlegend\": true, \"textposition\": \"auto\", \"x\": [\"PE\"], \"xaxis\": \"x\", \"y\": [779.6342857142857], \"yaxis\": \"y\", \"type\": \"bar\"}, {\"alignmentgroup\": \"True\", \"hovertemplate\": \"country=%{x}<br>year=2020<br>value=%{y}<extra></extra>\", \"ids\": [\"IN\"], \"legendgroup\": \"IN\", \"marker\": {\"color\": \"#00cc96\"}, \"name\": \"IN\", \"offsetgroup\": \"IN\", \"orientation\": \"v\", \"showlegend\": true, \"textposition\": \"auto\", \"x\": [\"IN\"], \"xaxis\": \"x\", \"y\": [672.6215909090909], \"yaxis\": \"y\", \"type\": \"bar\"}, {\"alignmentgroup\": \"True\", \"hovertemplate\": \"country=%{x}<br>year=2020<br>value=%{y}<extra></extra>\", \"ids\": [\"CN\"], \"legendgroup\": \"CN\", \"marker\": {\"color\": \"#ab63fa\"}, \"name\": \"CN\", \"offsetgroup\": \"CN\", \"orientation\": \"v\", \"showlegend\": true, \"textposition\": \"auto\", \"x\": [\"CN\"], \"xaxis\": \"x\", \"y\": [620.0], \"yaxis\": \"y\", \"type\": \"bar\"}, {\"alignmentgroup\": \"True\", \"hovertemplate\": \"country=%{x}<br>year=2020<br>value=%{y}<extra></extra>\", \"ids\": [\"HK\"], \"legendgroup\": \"HK\", \"marker\": {\"color\": \"#FFA15A\"}, \"name\": \"HK\", \"offsetgroup\": \"HK\", \"orientation\": \"v\", \"showlegend\": true, \"textposition\": \"auto\", \"x\": [\"HK\"], \"xaxis\": \"x\", \"y\": [588.2444444444445], \"yaxis\": \"y\", \"type\": \"bar\"}, {\"alignmentgroup\": \"True\", \"hovertemplate\": \"country=%{x}<br>year=2020<br>value=%{y}<extra></extra>\", \"ids\": [\"XK\"], \"legendgroup\": \"XK\", \"marker\": {\"color\": \"#19d3f3\"}, \"name\": \"XK\", \"offsetgroup\": \"XK\", \"orientation\": \"v\", \"showlegend\": true, \"textposition\": \"auto\", \"x\": [\"XK\"], \"xaxis\": \"x\", \"y\": [528.5], \"yaxis\": \"y\", \"type\": \"bar\"}, {\"alignmentgroup\": \"True\", \"hovertemplate\": \"country=%{x}<br>year=2020<br>value=%{y}<extra></extra>\", \"ids\": [\"GR\"], \"legendgroup\": \"GR\", \"marker\": {\"color\": \"#FF6692\"}, \"name\": \"GR\", \"offsetgroup\": \"GR\", \"orientation\": \"v\", \"showlegend\": true, \"textposition\": \"auto\", \"x\": [\"GR\"], \"xaxis\": \"x\", \"y\": [525.0], \"yaxis\": \"y\", \"type\": \"bar\"}, {\"alignmentgroup\": \"True\", \"hovertemplate\": \"country=%{x}<br>year=2020<br>value=%{y}<extra></extra>\", \"ids\": [\"SK\"], \"legendgroup\": \"SK\", \"marker\": {\"color\": \"#B6E880\"}, \"name\": \"SK\", \"offsetgroup\": \"SK\", \"orientation\": \"v\", \"showlegend\": true, \"textposition\": \"auto\", \"x\": [\"SK\"], \"xaxis\": \"x\", \"y\": [520.5638461538462], \"yaxis\": \"y\", \"type\": \"bar\"}, {\"alignmentgroup\": \"True\", \"hovertemplate\": \"country=%{x}<br>year=2020<br>value=%{y}<extra></extra>\", \"ids\": [\"RS\"], \"legendgroup\": \"RS\", \"marker\": {\"color\": \"#FF97FF\"}, \"name\": \"RS\", \"offsetgroup\": \"RS\", \"orientation\": \"v\", \"showlegend\": true, \"textposition\": \"auto\", \"x\": [\"RS\"], \"xaxis\": \"x\", \"y\": [504.12], \"yaxis\": \"y\", \"type\": \"bar\"}, {\"alignmentgroup\": \"True\", \"hovertemplate\": \"country=%{x}<br>year=2020<br>value=%{y}<extra></extra>\", \"ids\": [\"IT\"], \"legendgroup\": \"IT\", \"marker\": {\"color\": \"#FECB52\"}, \"name\": \"IT\", \"offsetgroup\": \"IT\", \"orientation\": \"v\", \"showlegend\": true, \"textposition\": \"auto\", \"x\": [\"IT\"], \"xaxis\": \"x\", \"y\": [391.84982346938784], \"yaxis\": \"y\", \"type\": \"bar\"}, {\"alignmentgroup\": \"True\", \"hovertemplate\": \"country=%{x}<br>year=2020<br>value=%{y}<extra></extra>\", \"ids\": [\"HU\"], \"legendgroup\": \"HU\", \"marker\": {\"color\": \"#636efa\"}, \"name\": \"HU\", \"offsetgroup\": \"HU\", \"orientation\": \"v\", \"showlegend\": true, \"textposition\": \"auto\", \"x\": [\"HU\"], \"xaxis\": \"x\", \"y\": [382.60739523809525], \"yaxis\": \"y\", \"type\": \"bar\"}, {\"alignmentgroup\": \"True\", \"hovertemplate\": \"country=%{x}<br>year=2020<br>value=%{y}<extra></extra>\", \"ids\": [\"ES\"], \"legendgroup\": \"ES\", \"marker\": {\"color\": \"#EF553B\"}, \"name\": \"ES\", \"offsetgroup\": \"ES\", \"orientation\": \"v\", \"showlegend\": true, \"textposition\": \"auto\", \"x\": [\"ES\"], \"xaxis\": \"x\", \"y\": [308.85945945945946], \"yaxis\": \"y\", \"type\": \"bar\"}, {\"alignmentgroup\": \"True\", \"hovertemplate\": \"country=%{x}<br>year=2020<br>value=%{y}<extra></extra>\", \"ids\": [\"BG\"], \"legendgroup\": \"BG\", \"marker\": {\"color\": \"#00cc96\"}, \"name\": \"BG\", \"offsetgroup\": \"BG\", \"orientation\": \"v\", \"showlegend\": true, \"textposition\": \"auto\", \"x\": [\"BG\"], \"xaxis\": \"x\", \"y\": [300.0], \"yaxis\": \"y\", \"type\": \"bar\"}, {\"alignmentgroup\": \"True\", \"hovertemplate\": \"country=%{x}<br>year=2020<br>value=%{y}<extra></extra>\", \"ids\": [\"CZ\"], \"legendgroup\": \"CZ\", \"marker\": {\"color\": \"#ab63fa\"}, \"name\": \"CZ\", \"offsetgroup\": \"CZ\", \"orientation\": \"v\", \"showlegend\": true, \"textposition\": \"auto\", \"x\": [\"CZ\"], \"xaxis\": \"x\", \"y\": [296.6539392307692], \"yaxis\": \"y\", \"type\": \"bar\"}, {\"alignmentgroup\": \"True\", \"hovertemplate\": \"country=%{x}<br>year=2020<br>value=%{y}<extra></extra>\", \"ids\": [\"MK\"], \"legendgroup\": \"MK\", \"marker\": {\"color\": \"#FFA15A\"}, \"name\": \"MK\", \"offsetgroup\": \"MK\", \"orientation\": \"v\", \"showlegend\": true, \"textposition\": \"auto\", \"x\": [\"MK\"], \"xaxis\": \"x\", \"y\": [257.51544], \"yaxis\": \"y\", \"type\": \"bar\"}, {\"alignmentgroup\": \"True\", \"hovertemplate\": \"country=%{x}<br>year=2020<br>value=%{y}<extra></extra>\", \"ids\": [\"PT\"], \"legendgroup\": \"PT\", \"marker\": {\"color\": \"#19d3f3\"}, \"name\": \"PT\", \"offsetgroup\": \"PT\", \"orientation\": \"v\", \"showlegend\": true, \"textposition\": \"auto\", \"x\": [\"PT\"], \"xaxis\": \"x\", \"y\": [236.07142857142858], \"yaxis\": \"y\", \"type\": \"bar\"}, {\"alignmentgroup\": \"True\", \"hovertemplate\": \"country=%{x}<br>year=2020<br>value=%{y}<extra></extra>\", \"ids\": [\"AT\"], \"legendgroup\": \"AT\", \"marker\": {\"color\": \"#FF6692\"}, \"name\": \"AT\", \"offsetgroup\": \"AT\", \"orientation\": \"v\", \"showlegend\": true, \"textposition\": \"auto\", \"x\": [\"AT\"], \"xaxis\": \"x\", \"y\": [212.42131296296296], \"yaxis\": \"y\", \"type\": \"bar\"}, {\"alignmentgroup\": \"True\", \"hovertemplate\": \"country=%{x}<br>year=2020<br>value=%{y}<extra></extra>\", \"ids\": [\"DE\"], \"legendgroup\": \"DE\", \"marker\": {\"color\": \"#B6E880\"}, \"name\": \"DE\", \"offsetgroup\": \"DE\", \"orientation\": \"v\", \"showlegend\": true, \"textposition\": \"auto\", \"x\": [\"DE\"], \"xaxis\": \"x\", \"y\": [209.87654320987653], \"yaxis\": \"y\", \"type\": \"bar\"}, {\"alignmentgroup\": \"True\", \"hovertemplate\": \"country=%{x}<br>year=2020<br>value=%{y}<extra></extra>\", \"ids\": [\"CH\"], \"legendgroup\": \"CH\", \"marker\": {\"color\": \"#FF97FF\"}, \"name\": \"CH\", \"offsetgroup\": \"CH\", \"orientation\": \"v\", \"showlegend\": true, \"textposition\": \"auto\", \"x\": [\"CH\"], \"xaxis\": \"x\", \"y\": [191.53749999999997], \"yaxis\": \"y\", \"type\": \"bar\"}, {\"alignmentgroup\": \"True\", \"hovertemplate\": \"country=%{x}<br>year=2020<br>value=%{y}<extra></extra>\", \"ids\": [\"LU\"], \"legendgroup\": \"LU\", \"marker\": {\"color\": \"#FECB52\"}, \"name\": \"LU\", \"offsetgroup\": \"LU\", \"orientation\": \"v\", \"showlegend\": true, \"textposition\": \"auto\", \"x\": [\"LU\"], \"xaxis\": \"x\", \"y\": [186.66666666666666], \"yaxis\": \"y\", \"type\": \"bar\"}, {\"alignmentgroup\": \"True\", \"hovertemplate\": \"country=%{x}<br>year=2020<br>value=%{y}<extra></extra>\", \"ids\": [\"FR\"], \"legendgroup\": \"FR\", \"marker\": {\"color\": \"#636efa\"}, \"name\": \"FR\", \"offsetgroup\": \"FR\", \"orientation\": \"v\", \"showlegend\": true, \"textposition\": \"auto\", \"x\": [\"FR\"], \"xaxis\": \"x\", \"y\": [177.69230769230768], \"yaxis\": \"y\", \"type\": \"bar\"}, {\"alignmentgroup\": \"True\", \"hovertemplate\": \"country=%{x}<br>year=2020<br>value=%{y}<extra></extra>\", \"ids\": [\"NO\"], \"legendgroup\": \"NO\", \"marker\": {\"color\": \"#EF553B\"}, \"name\": \"NO\", \"offsetgroup\": \"NO\", \"orientation\": \"v\", \"showlegend\": true, \"textposition\": \"auto\", \"x\": [\"NO\"], \"xaxis\": \"x\", \"y\": [157.429], \"yaxis\": \"y\", \"type\": \"bar\"}, {\"alignmentgroup\": \"True\", \"hovertemplate\": \"country=%{x}<br>year=2020<br>value=%{y}<extra></extra>\", \"ids\": [\"EE\"], \"legendgroup\": \"EE\", \"marker\": {\"color\": \"#00cc96\"}, \"name\": \"EE\", \"offsetgroup\": \"EE\", \"orientation\": \"v\", \"showlegend\": true, \"textposition\": \"auto\", \"x\": [\"EE\"], \"xaxis\": \"x\", \"y\": [150.91583333333332], \"yaxis\": \"y\", \"type\": \"bar\"}, {\"alignmentgroup\": \"True\", \"hovertemplate\": \"country=%{x}<br>year=2020<br>value=%{y}<extra></extra>\", \"ids\": [\"DK\"], \"legendgroup\": \"DK\", \"marker\": {\"color\": \"#ab63fa\"}, \"name\": \"DK\", \"offsetgroup\": \"DK\", \"orientation\": \"v\", \"showlegend\": true, \"textposition\": \"auto\", \"x\": [\"DK\"], \"xaxis\": \"x\", \"y\": [150.0], \"yaxis\": \"y\", \"type\": \"bar\"}, {\"alignmentgroup\": \"True\", \"hovertemplate\": \"country=%{x}<br>year=2020<br>value=%{y}<extra></extra>\", \"ids\": [\"MT\"], \"legendgroup\": \"MT\", \"marker\": {\"color\": \"#FFA15A\"}, \"name\": \"MT\", \"offsetgroup\": \"MT\", \"orientation\": \"v\", \"showlegend\": true, \"textposition\": \"auto\", \"x\": [\"MT\"], \"xaxis\": \"x\", \"y\": [142.809], \"yaxis\": \"y\", \"type\": \"bar\"}, {\"alignmentgroup\": \"True\", \"hovertemplate\": \"country=%{x}<br>year=2020<br>value=%{y}<extra></extra>\", \"ids\": [\"HR\"], \"legendgroup\": \"HR\", \"marker\": {\"color\": \"#19d3f3\"}, \"name\": \"HR\", \"offsetgroup\": \"HR\", \"orientation\": \"v\", \"showlegend\": true, \"textposition\": \"auto\", \"x\": [\"HR\"], \"xaxis\": \"x\", \"y\": [125.0], \"yaxis\": \"y\", \"type\": \"bar\"}, {\"alignmentgroup\": \"True\", \"hovertemplate\": \"country=%{x}<br>year=2020<br>value=%{y}<extra></extra>\", \"ids\": [\"AD\"], \"legendgroup\": \"AD\", \"marker\": {\"color\": \"#FF6692\"}, \"name\": \"AD\", \"offsetgroup\": \"AD\", \"orientation\": \"v\", \"showlegend\": true, \"textposition\": \"auto\", \"x\": [\"AD\"], \"xaxis\": \"x\", \"y\": [100.0], \"yaxis\": \"y\", \"type\": \"bar\"}, {\"alignmentgroup\": \"True\", \"hovertemplate\": \"country=%{x}<br>year=2020<br>value=%{y}<extra></extra>\", \"ids\": [\"CY\"], \"legendgroup\": \"CY\", \"marker\": {\"color\": \"#B6E880\"}, \"name\": \"CY\", \"offsetgroup\": \"CY\", \"orientation\": \"v\", \"showlegend\": true, \"textposition\": \"auto\", \"x\": [\"CY\"], \"xaxis\": \"x\", \"y\": [82.76678], \"yaxis\": \"y\", \"type\": \"bar\"}, {\"alignmentgroup\": \"True\", \"hovertemplate\": \"country=%{x}<br>year=2020<br>value=%{y}<extra></extra>\", \"ids\": [\"IE\"], \"legendgroup\": \"IE\", \"marker\": {\"color\": \"#FF97FF\"}, \"name\": \"IE\", \"offsetgroup\": \"IE\", \"orientation\": \"v\", \"showlegend\": true, \"textposition\": \"auto\", \"x\": [\"IE\"], \"xaxis\": \"x\", \"y\": [0.22755546000000001], \"yaxis\": \"y\", \"type\": \"bar\"}, {\"alignmentgroup\": \"True\", \"hovertemplate\": \"country=%{x}<br>year=2020<br>value=%{y}<extra></extra>\", \"ids\": [\"BE\"], \"legendgroup\": \"BE\", \"marker\": {\"color\": \"#FECB52\"}, \"name\": \"BE\", \"offsetgroup\": \"BE\", \"orientation\": \"v\", \"showlegend\": true, \"textposition\": \"auto\", \"x\": [\"BE\"], \"xaxis\": \"x\", \"y\": [0.17875000000000002], \"yaxis\": \"y\", \"type\": \"bar\"}, {\"alignmentgroup\": \"True\", \"hovertemplate\": \"country=%{x}<br>year=2020<br>value=%{y}<extra></extra>\", \"ids\": [\"LT\"], \"legendgroup\": \"LT\", \"marker\": {\"color\": \"#636efa\"}, \"name\": \"LT\", \"offsetgroup\": \"LT\", \"orientation\": \"v\", \"showlegend\": true, \"textposition\": \"auto\", \"x\": [\"LT\"], \"xaxis\": \"x\", \"y\": [0.17204288888888888], \"yaxis\": \"y\", \"type\": \"bar\"}, {\"alignmentgroup\": \"True\", \"hovertemplate\": \"country=%{x}<br>year=2020<br>value=%{y}<extra></extra>\", \"ids\": [\"LV\"], \"legendgroup\": \"LV\", \"marker\": {\"color\": \"#EF553B\"}, \"name\": \"LV\", \"offsetgroup\": \"LV\", \"orientation\": \"v\", \"showlegend\": true, \"textposition\": \"auto\", \"x\": [\"LV\"], \"xaxis\": \"x\", \"y\": [0.16], \"yaxis\": \"y\", \"type\": \"bar\"}, {\"alignmentgroup\": \"True\", \"hovertemplate\": \"country=%{x}<br>year=2020<br>value=%{y}<extra></extra>\", \"ids\": [\"NL\"], \"legendgroup\": \"NL\", \"marker\": {\"color\": \"#00cc96\"}, \"name\": \"NL\", \"offsetgroup\": \"NL\", \"orientation\": \"v\", \"showlegend\": true, \"textposition\": \"auto\", \"x\": [\"NL\"], \"xaxis\": \"x\", \"y\": [-997.4], \"yaxis\": \"y\", \"type\": \"bar\"}], \"name\": \"2020\"}, {\"data\": [{\"alignmentgroup\": \"True\", \"hovertemplate\": \"country=%{x}<br>year=2019<br>value=%{y}<extra></extra>\", \"ids\": [\"IN\"], \"legendgroup\": \"IN\", \"marker\": {\"color\": \"#00cc96\"}, \"name\": \"IN\", \"offsetgroup\": \"IN\", \"orientation\": \"v\", \"showlegend\": true, \"textposition\": \"auto\", \"x\": [\"IN\"], \"xaxis\": \"x\", \"y\": [420.0], \"yaxis\": \"y\", \"type\": \"bar\"}, {\"alignmentgroup\": \"True\", \"hovertemplate\": \"country=%{x}<br>year=2019<br>value=%{y}<extra></extra>\", \"ids\": [\"CN\"], \"legendgroup\": \"CN\", \"marker\": {\"color\": \"#ab63fa\"}, \"name\": \"CN\", \"offsetgroup\": \"CN\", \"orientation\": \"v\", \"showlegend\": true, \"textposition\": \"auto\", \"x\": [\"CN\"], \"xaxis\": \"x\", \"y\": [600.0], \"yaxis\": \"y\", \"type\": \"bar\"}, {\"alignmentgroup\": \"True\", \"hovertemplate\": \"country=%{x}<br>year=2019<br>value=%{y}<extra></extra>\", \"ids\": [\"IT\"], \"legendgroup\": \"IT\", \"marker\": {\"color\": \"#FECB52\"}, \"name\": \"IT\", \"offsetgroup\": \"IT\", \"orientation\": \"v\", \"showlegend\": true, \"textposition\": \"auto\", \"x\": [\"IT\"], \"xaxis\": \"x\", \"y\": [1000.0], \"yaxis\": \"y\", \"type\": \"bar\"}, {\"alignmentgroup\": \"True\", \"hovertemplate\": \"country=%{x}<br>year=2019<br>value=%{y}<extra></extra>\", \"ids\": [\"ES\"], \"legendgroup\": \"ES\", \"marker\": {\"color\": \"#EF553B\"}, \"name\": \"ES\", \"offsetgroup\": \"ES\", \"orientation\": \"v\", \"showlegend\": true, \"textposition\": \"auto\", \"x\": [\"ES\"], \"xaxis\": \"x\", \"y\": [1235.0], \"yaxis\": \"y\", \"type\": \"bar\"}, {\"alignmentgroup\": \"True\", \"hovertemplate\": \"country=%{x}<br>year=2019<br>value=%{y}<extra></extra>\", \"ids\": [\"PT\"], \"legendgroup\": \"PT\", \"marker\": {\"color\": \"#19d3f3\"}, \"name\": \"PT\", \"offsetgroup\": \"PT\", \"orientation\": \"v\", \"showlegend\": true, \"textposition\": \"auto\", \"x\": [\"PT\"], \"xaxis\": \"x\", \"y\": [0.0], \"yaxis\": \"y\", \"type\": \"bar\"}, {\"alignmentgroup\": \"True\", \"hovertemplate\": \"country=%{x}<br>year=2019<br>value=%{y}<extra></extra>\", \"ids\": [\"DE\"], \"legendgroup\": \"DE\", \"marker\": {\"color\": \"#B6E880\"}, \"name\": \"DE\", \"offsetgroup\": \"DE\", \"orientation\": \"v\", \"showlegend\": true, \"textposition\": \"auto\", \"x\": [\"DE\"], \"xaxis\": \"x\", \"y\": [270.0], \"yaxis\": \"y\", \"type\": \"bar\"}, {\"alignmentgroup\": \"True\", \"hovertemplate\": \"country=%{x}<br>year=2019<br>value=%{y}<extra></extra>\", \"ids\": [\"FR\"], \"legendgroup\": \"FR\", \"marker\": {\"color\": \"#636efa\"}, \"name\": \"FR\", \"offsetgroup\": \"FR\", \"orientation\": \"v\", \"showlegend\": true, \"textposition\": \"auto\", \"x\": [\"FR\"], \"xaxis\": \"x\", \"y\": [166.25], \"yaxis\": \"y\", \"type\": \"bar\"}], \"name\": \"2019\"}, {\"data\": [{\"alignmentgroup\": \"True\", \"hovertemplate\": \"country=%{x}<br>year=2018<br>value=%{y}<extra></extra>\", \"ids\": [\"BA\"], \"legendgroup\": \"BA\", \"marker\": {\"color\": \"#636efa\"}, \"name\": \"BA\", \"offsetgroup\": \"BA\", \"orientation\": \"v\", \"showlegend\": true, \"textposition\": \"auto\", \"x\": [\"BA\"], \"xaxis\": \"x\", \"y\": [498.0], \"yaxis\": \"y\", \"type\": \"bar\"}, {\"alignmentgroup\": \"True\", \"hovertemplate\": \"country=%{x}<br>year=2018<br>value=%{y}<extra></extra>\", \"ids\": [\"PE\"], \"legendgroup\": \"PE\", \"marker\": {\"color\": \"#EF553B\"}, \"name\": \"PE\", \"offsetgroup\": \"PE\", \"orientation\": \"v\", \"showlegend\": true, \"textposition\": \"auto\", \"x\": [\"PE\"], \"xaxis\": \"x\", \"y\": [954.1166666666667], \"yaxis\": \"y\", \"type\": \"bar\"}, {\"alignmentgroup\": \"True\", \"hovertemplate\": \"country=%{x}<br>year=2018<br>value=%{y}<extra></extra>\", \"ids\": [\"IN\"], \"legendgroup\": \"IN\", \"marker\": {\"color\": \"#00cc96\"}, \"name\": \"IN\", \"offsetgroup\": \"IN\", \"orientation\": \"v\", \"showlegend\": true, \"textposition\": \"auto\", \"x\": [\"IN\"], \"xaxis\": \"x\", \"y\": [6936.8], \"yaxis\": \"y\", \"type\": \"bar\"}, {\"alignmentgroup\": \"True\", \"hovertemplate\": \"country=%{x}<br>year=2018<br>value=%{y}<extra></extra>\", \"ids\": [\"CN\"], \"legendgroup\": \"CN\", \"marker\": {\"color\": \"#ab63fa\"}, \"name\": \"CN\", \"offsetgroup\": \"CN\", \"orientation\": \"v\", \"showlegend\": true, \"textposition\": \"auto\", \"x\": [\"CN\"], \"xaxis\": \"x\", \"y\": [690.3015873015873], \"yaxis\": \"y\", \"type\": \"bar\"}, {\"alignmentgroup\": \"True\", \"hovertemplate\": \"country=%{x}<br>year=2018<br>value=%{y}<extra></extra>\", \"ids\": [\"ES\"], \"legendgroup\": \"ES\", \"marker\": {\"color\": \"#EF553B\"}, \"name\": \"ES\", \"offsetgroup\": \"ES\", \"orientation\": \"v\", \"showlegend\": true, \"textposition\": \"auto\", \"x\": [\"ES\"], \"xaxis\": \"x\", \"y\": [253.93333333333334], \"yaxis\": \"y\", \"type\": \"bar\"}, {\"alignmentgroup\": \"True\", \"hovertemplate\": \"country=%{x}<br>year=2018<br>value=%{y}<extra></extra>\", \"ids\": [\"DE\"], \"legendgroup\": \"DE\", \"marker\": {\"color\": \"#B6E880\"}, \"name\": \"DE\", \"offsetgroup\": \"DE\", \"orientation\": \"v\", \"showlegend\": true, \"textposition\": \"auto\", \"x\": [\"DE\"], \"xaxis\": \"x\", \"y\": [283.3333333333333], \"yaxis\": \"y\", \"type\": \"bar\"}, {\"alignmentgroup\": \"True\", \"hovertemplate\": \"country=%{x}<br>year=2018<br>value=%{y}<extra></extra>\", \"ids\": [\"FR\"], \"legendgroup\": \"FR\", \"marker\": {\"color\": \"#636efa\"}, \"name\": \"FR\", \"offsetgroup\": \"FR\", \"orientation\": \"v\", \"showlegend\": true, \"textposition\": \"auto\", \"x\": [\"FR\"], \"xaxis\": \"x\", \"y\": [149.0], \"yaxis\": \"y\", \"type\": \"bar\"}, {\"alignmentgroup\": \"True\", \"hovertemplate\": \"country=%{x}<br>year=2018<br>value=%{y}<extra></extra>\", \"ids\": [\"IE\"], \"legendgroup\": \"IE\", \"marker\": {\"color\": \"#FF97FF\"}, \"name\": \"IE\", \"offsetgroup\": \"IE\", \"orientation\": \"v\", \"showlegend\": true, \"textposition\": \"auto\", \"x\": [\"IE\"], \"xaxis\": \"x\", \"y\": [0.05735562], \"yaxis\": \"y\", \"type\": \"bar\"}, {\"alignmentgroup\": \"True\", \"hovertemplate\": \"country=%{x}<br>year=2018<br>value=%{y}<extra></extra>\", \"ids\": [\"GI\"], \"legendgroup\": \"GI\", \"marker\": {\"color\": \"#ab63fa\"}, \"name\": \"GI\", \"offsetgroup\": \"GI\", \"orientation\": \"v\", \"showlegend\": true, \"textposition\": \"auto\", \"x\": [\"GI\"], \"xaxis\": \"x\", \"y\": [470.0], \"yaxis\": \"y\", \"type\": \"bar\"}, {\"alignmentgroup\": \"True\", \"hovertemplate\": \"country=%{x}<br>year=2018<br>value=%{y}<extra></extra>\", \"ids\": [\"TR\"], \"legendgroup\": \"TR\", \"marker\": {\"color\": \"#FFA15A\"}, \"name\": \"TR\", \"offsetgroup\": \"TR\", \"orientation\": \"v\", \"showlegend\": true, \"textposition\": \"auto\", \"x\": [\"TR\"], \"xaxis\": \"x\", \"y\": [-4377.189838709678], \"yaxis\": \"y\", \"type\": \"bar\"}], \"name\": \"2018\"}, {\"data\": [{\"alignmentgroup\": \"True\", \"hovertemplate\": \"country=%{x}<br>year=2017<br>value=%{y}<extra></extra>\", \"ids\": [\"IN\"], \"legendgroup\": \"IN\", \"marker\": {\"color\": \"#00cc96\"}, \"name\": \"IN\", \"offsetgroup\": \"IN\", \"orientation\": \"v\", \"showlegend\": true, \"textposition\": \"auto\", \"x\": [\"IN\"], \"xaxis\": \"x\", \"y\": [1333.183], \"yaxis\": \"y\", \"type\": \"bar\"}, {\"alignmentgroup\": \"True\", \"hovertemplate\": \"country=%{x}<br>year=2017<br>value=%{y}<extra></extra>\", \"ids\": [\"HU\"], \"legendgroup\": \"HU\", \"marker\": {\"color\": \"#636efa\"}, \"name\": \"HU\", \"offsetgroup\": \"HU\", \"orientation\": \"v\", \"showlegend\": true, \"textposition\": \"auto\", \"x\": [\"HU\"], \"xaxis\": \"x\", \"y\": [385.6159566666667], \"yaxis\": \"y\", \"type\": \"bar\"}, {\"alignmentgroup\": \"True\", \"hovertemplate\": \"country=%{x}<br>year=2017<br>value=%{y}<extra></extra>\", \"ids\": [\"ES\"], \"legendgroup\": \"ES\", \"marker\": {\"color\": \"#EF553B\"}, \"name\": \"ES\", \"offsetgroup\": \"ES\", \"orientation\": \"v\", \"showlegend\": true, \"textposition\": \"auto\", \"x\": [\"ES\"], \"xaxis\": \"x\", \"y\": [12575.0], \"yaxis\": \"y\", \"type\": \"bar\"}, {\"alignmentgroup\": \"True\", \"hovertemplate\": \"country=%{x}<br>year=2017<br>value=%{y}<extra></extra>\", \"ids\": [\"CZ\"], \"legendgroup\": \"CZ\", \"marker\": {\"color\": \"#ab63fa\"}, \"name\": \"CZ\", \"offsetgroup\": \"CZ\", \"orientation\": \"v\", \"showlegend\": true, \"textposition\": \"auto\", \"x\": [\"CZ\"], \"xaxis\": \"x\", \"y\": [437.0], \"yaxis\": \"y\", \"type\": \"bar\"}, {\"alignmentgroup\": \"True\", \"hovertemplate\": \"country=%{x}<br>year=2017<br>value=%{y}<extra></extra>\", \"ids\": [\"MK\"], \"legendgroup\": \"MK\", \"marker\": {\"color\": \"#FFA15A\"}, \"name\": \"MK\", \"offsetgroup\": \"MK\", \"orientation\": \"v\", \"showlegend\": true, \"textposition\": \"auto\", \"x\": [\"MK\"], \"xaxis\": \"x\", \"y\": [46.46148], \"yaxis\": \"y\", \"type\": \"bar\"}, {\"alignmentgroup\": \"True\", \"hovertemplate\": \"country=%{x}<br>year=2017<br>value=%{y}<extra></extra>\", \"ids\": [\"AT\"], \"legendgroup\": \"AT\", \"marker\": {\"color\": \"#FF6692\"}, \"name\": \"AT\", \"offsetgroup\": \"AT\", \"orientation\": \"v\", \"showlegend\": true, \"textposition\": \"auto\", \"x\": [\"AT\"], \"xaxis\": \"x\", \"y\": [107.92764636363637], \"yaxis\": \"y\", \"type\": \"bar\"}, {\"alignmentgroup\": \"True\", \"hovertemplate\": \"country=%{x}<br>year=2017<br>value=%{y}<extra></extra>\", \"ids\": [\"DE\"], \"legendgroup\": \"DE\", \"marker\": {\"color\": \"#B6E880\"}, \"name\": \"DE\", \"offsetgroup\": \"DE\", \"orientation\": \"v\", \"showlegend\": true, \"textposition\": \"auto\", \"x\": [\"DE\"], \"xaxis\": \"x\", \"y\": [397.5], \"yaxis\": \"y\", \"type\": \"bar\"}, {\"alignmentgroup\": \"True\", \"hovertemplate\": \"country=%{x}<br>year=2017<br>value=%{y}<extra></extra>\", \"ids\": [\"FR\"], \"legendgroup\": \"FR\", \"marker\": {\"color\": \"#636efa\"}, \"name\": \"FR\", \"offsetgroup\": \"FR\", \"orientation\": \"v\", \"showlegend\": true, \"textposition\": \"auto\", \"x\": [\"FR\"], \"xaxis\": \"x\", \"y\": [284.9625], \"yaxis\": \"y\", \"type\": \"bar\"}, {\"alignmentgroup\": \"True\", \"hovertemplate\": \"country=%{x}<br>year=2017<br>value=%{y}<extra></extra>\", \"ids\": [\"DK\"], \"legendgroup\": \"DK\", \"marker\": {\"color\": \"#ab63fa\"}, \"name\": \"DK\", \"offsetgroup\": \"DK\", \"orientation\": \"v\", \"showlegend\": true, \"textposition\": \"auto\", \"x\": [\"DK\"], \"xaxis\": \"x\", \"y\": [0.0], \"yaxis\": \"y\", \"type\": \"bar\"}, {\"alignmentgroup\": \"True\", \"hovertemplate\": \"country=%{x}<br>year=2017<br>value=%{y}<extra></extra>\", \"ids\": [\"BE\"], \"legendgroup\": \"BE\", \"marker\": {\"color\": \"#FECB52\"}, \"name\": \"BE\", \"offsetgroup\": \"BE\", \"orientation\": \"v\", \"showlegend\": true, \"textposition\": \"auto\", \"x\": [\"BE\"], \"xaxis\": \"x\", \"y\": [10.9], \"yaxis\": \"y\", \"type\": \"bar\"}, {\"alignmentgroup\": \"True\", \"hovertemplate\": \"country=%{x}<br>year=2017<br>value=%{y}<extra></extra>\", \"ids\": [\"TR\"], \"legendgroup\": \"TR\", \"marker\": {\"color\": \"#FFA15A\"}, \"name\": \"TR\", \"offsetgroup\": \"TR\", \"orientation\": \"v\", \"showlegend\": true, \"textposition\": \"auto\", \"x\": [\"TR\"], \"xaxis\": \"x\", \"y\": [0.0], \"yaxis\": \"y\", \"type\": \"bar\"}, {\"alignmentgroup\": \"True\", \"hovertemplate\": \"country=%{x}<br>year=2017<br>value=%{y}<extra></extra>\", \"ids\": [\"PL\"], \"legendgroup\": \"PL\", \"marker\": {\"color\": \"#19d3f3\"}, \"name\": \"PL\", \"offsetgroup\": \"PL\", \"orientation\": \"v\", \"showlegend\": true, \"textposition\": \"auto\", \"x\": [\"PL\"], \"xaxis\": \"x\", \"y\": [1956.0], \"yaxis\": \"y\", \"type\": \"bar\"}, {\"alignmentgroup\": \"True\", \"hovertemplate\": \"country=%{x}<br>year=2017<br>value=%{y}<extra></extra>\", \"ids\": [\"RU\"], \"legendgroup\": \"RU\", \"marker\": {\"color\": \"#FF6692\"}, \"name\": \"RU\", \"offsetgroup\": \"RU\", \"orientation\": \"v\", \"showlegend\": true, \"textposition\": \"auto\", \"x\": [\"RU\"], \"xaxis\": \"x\", \"y\": [326.7391304347826], \"yaxis\": \"y\", \"type\": \"bar\"}], \"name\": \"2017\"}, {\"data\": [{\"alignmentgroup\": \"True\", \"hovertemplate\": \"country=%{x}<br>year=2016<br>value=%{y}<extra></extra>\", \"ids\": [\"BA\"], \"legendgroup\": \"BA\", \"marker\": {\"color\": \"#636efa\"}, \"name\": \"BA\", \"offsetgroup\": \"BA\", \"orientation\": \"v\", \"showlegend\": true, \"textposition\": \"auto\", \"x\": [\"BA\"], \"xaxis\": \"x\", \"y\": [531.4], \"yaxis\": \"y\", \"type\": \"bar\"}, {\"alignmentgroup\": \"True\", \"hovertemplate\": \"country=%{x}<br>year=2016<br>value=%{y}<extra></extra>\", \"ids\": [\"IN\"], \"legendgroup\": \"IN\", \"marker\": {\"color\": \"#00cc96\"}, \"name\": \"IN\", \"offsetgroup\": \"IN\", \"orientation\": \"v\", \"showlegend\": true, \"textposition\": \"auto\", \"x\": [\"IN\"], \"xaxis\": \"x\", \"y\": [90.0], \"yaxis\": \"y\", \"type\": \"bar\"}, {\"alignmentgroup\": \"True\", \"hovertemplate\": \"country=%{x}<br>year=2016<br>value=%{y}<extra></extra>\", \"ids\": [\"ES\"], \"legendgroup\": \"ES\", \"marker\": {\"color\": \"#EF553B\"}, \"name\": \"ES\", \"offsetgroup\": \"ES\", \"orientation\": \"v\", \"showlegend\": true, \"textposition\": \"auto\", \"x\": [\"ES\"], \"xaxis\": \"x\", \"y\": [500.0], \"yaxis\": \"y\", \"type\": \"bar\"}, {\"alignmentgroup\": \"True\", \"hovertemplate\": \"country=%{x}<br>year=2016<br>value=%{y}<extra></extra>\", \"ids\": [\"AT\"], \"legendgroup\": \"AT\", \"marker\": {\"color\": \"#FF6692\"}, \"name\": \"AT\", \"offsetgroup\": \"AT\", \"orientation\": \"v\", \"showlegend\": true, \"textposition\": \"auto\", \"x\": [\"AT\"], \"xaxis\": \"x\", \"y\": [469.92857142857144], \"yaxis\": \"y\", \"type\": \"bar\"}, {\"alignmentgroup\": \"True\", \"hovertemplate\": \"country=%{x}<br>year=2016<br>value=%{y}<extra></extra>\", \"ids\": [\"DE\"], \"legendgroup\": \"DE\", \"marker\": {\"color\": \"#B6E880\"}, \"name\": \"DE\", \"offsetgroup\": \"DE\", \"orientation\": \"v\", \"showlegend\": true, \"textposition\": \"auto\", \"x\": [\"DE\"], \"xaxis\": \"x\", \"y\": [450.0], \"yaxis\": \"y\", \"type\": \"bar\"}, {\"alignmentgroup\": \"True\", \"hovertemplate\": \"country=%{x}<br>year=2016<br>value=%{y}<extra></extra>\", \"ids\": [\"FR\"], \"legendgroup\": \"FR\", \"marker\": {\"color\": \"#636efa\"}, \"name\": \"FR\", \"offsetgroup\": \"FR\", \"orientation\": \"v\", \"showlegend\": true, \"textposition\": \"auto\", \"x\": [\"FR\"], \"xaxis\": \"x\", \"y\": [0.0], \"yaxis\": \"y\", \"type\": \"bar\"}, {\"alignmentgroup\": \"True\", \"hovertemplate\": \"country=%{x}<br>year=2016<br>value=%{y}<extra></extra>\", \"ids\": [\"TR\"], \"legendgroup\": \"TR\", \"marker\": {\"color\": \"#FFA15A\"}, \"name\": \"TR\", \"offsetgroup\": \"TR\", \"orientation\": \"v\", \"showlegend\": true, \"textposition\": \"auto\", \"x\": [\"TR\"], \"xaxis\": \"x\", \"y\": [4320.0], \"yaxis\": \"y\", \"type\": \"bar\"}], \"name\": \"2016\"}, {\"data\": [{\"alignmentgroup\": \"True\", \"hovertemplate\": \"country=%{x}<br>year=2015<br>value=%{y}<extra></extra>\", \"ids\": [\"IN\"], \"legendgroup\": \"IN\", \"marker\": {\"color\": \"#00cc96\"}, \"name\": \"IN\", \"offsetgroup\": \"IN\", \"orientation\": \"v\", \"showlegend\": true, \"textposition\": \"auto\", \"x\": [\"IN\"], \"xaxis\": \"x\", \"y\": [1620.0], \"yaxis\": \"y\", \"type\": \"bar\"}], \"name\": \"2015\"}]);\n",
       "                        }).then(function(){\n",
       "                            \n",
       "var gd = document.getElementById('a8d28e04-6b85-4280-8ea7-dc511a18e2d1');\n",
       "var x = new MutationObserver(function (mutations, observer) {{\n",
       "        var display = window.getComputedStyle(gd).display;\n",
       "        if (!display || display === 'none') {{\n",
       "            console.log([gd, 'removed!']);\n",
       "            Plotly.purge(gd);\n",
       "            observer.disconnect();\n",
       "        }}\n",
       "}});\n",
       "\n",
       "// Listen for the removal of the full notebook cells\n",
       "var notebookContainer = gd.closest('#notebook-container');\n",
       "if (notebookContainer) {{\n",
       "    x.observe(notebookContainer, {childList: true});\n",
       "}}\n",
       "\n",
       "// Listen for the clearing of the current output cell\n",
       "var outputEl = gd.closest('.output');\n",
       "if (outputEl) {{\n",
       "    x.observe(outputEl, {childList: true});\n",
       "}}\n",
       "\n",
       "                        })\n",
       "                };\n",
       "                });\n",
       "            </script>\n",
       "        </div>"
      ]
     },
     "metadata": {},
     "output_type": "display_data"
    }
   ],
   "source": [
    "co = air[(air.pollutant=='co')&(air.unit=='µg/m³')].groupby(['country','year']).agg('mean')[['value']].sort_values(by=['year','value'],ascending=False)\n",
    "co.reset_index(inplace=True)\n",
    "\n",
    "import plotly.express as px\n",
    "df = px.data.gapminder()\n",
    "\n",
    "fig = px.bar(co, x=\"country\", y=\"value\", color=\"country\",\n",
    "  animation_frame=\"year\", animation_group=\"country\", range_y=[0,13000],title='Average value of Carbon Monoxide gas in different countries')\n",
    "\n",
    "fig.layout.updatemenus[0].buttons[0].args[1][\"frame\"][\"duration\"] = 2000\n",
    "fig.show()"
   ]
  }
 ],
 "metadata": {
  "kernelspec": {
   "display_name": "Python 3",
   "language": "python",
   "name": "python3"
  },
  "language_info": {
   "codemirror_mode": {
    "name": "ipython",
    "version": 3
   },
   "file_extension": ".py",
   "mimetype": "text/x-python",
   "name": "python",
   "nbconvert_exporter": "python",
   "pygments_lexer": "ipython3",
   "version": "3.7.6"
  }
 },
 "nbformat": 4,
 "nbformat_minor": 4
}
