{
 "cells": [
  {
   "cell_type": "code",
   "execution_count": 53,
   "metadata": {},
   "outputs": [],
   "source": [
    "import os\n",
    "envir = os.environ"
   ]
  },
  {
   "cell_type": "code",
   "execution_count": 54,
   "metadata": {},
   "outputs": [],
   "source": [
    "envir[\"GOOGLE_APPLICATION_CREDENTIALS\"]='C:\\\\Users\\\\Safa Eladib\\\\Downloads\\\\My Project 68340-324c0b65d5ac.json'"
   ]
  },
  {
   "cell_type": "code",
   "execution_count": 55,
   "metadata": {},
   "outputs": [],
   "source": [
    "from google.cloud import bigquery"
   ]
  },
  {
   "cell_type": "code",
   "execution_count": 56,
   "metadata": {},
   "outputs": [],
   "source": [
    "client = bigquery.Client(project='PROJECT_ID')"
   ]
  },
  {
   "cell_type": "code",
   "execution_count": 57,
   "metadata": {},
   "outputs": [],
   "source": [
    "hn_dataset_ref = client.dataset('openaq', project='bigquery-public-data')"
   ]
  },
  {
   "cell_type": "code",
   "execution_count": 58,
   "metadata": {},
   "outputs": [],
   "source": [
    "hn_dset = client.get_dataset(hn_dataset_ref)"
   ]
  },
  {
   "cell_type": "code",
   "execution_count": 59,
   "metadata": {},
   "outputs": [
    {
     "data": {
      "text/plain": [
       "google.cloud.bigquery.dataset.Dataset"
      ]
     },
     "execution_count": 59,
     "metadata": {},
     "output_type": "execute_result"
    }
   ],
   "source": [
    "type(hn_dset)"
   ]
  },
  {
   "cell_type": "code",
   "execution_count": 60,
   "metadata": {},
   "outputs": [
    {
     "data": {
      "text/plain": [
       "['global_air_quality']"
      ]
     },
     "execution_count": 60,
     "metadata": {},
     "output_type": "execute_result"
    }
   ],
   "source": [
    "[x.table_id for x in client.list_tables(hn_dset)]"
   ]
  },
  {
   "cell_type": "code",
   "execution_count": 27,
   "metadata": {},
   "outputs": [],
   "source": [
    "hn_full = client.get_table(hn_dset.table('global_air_quality'))"
   ]
  },
  {
   "cell_type": "code",
   "execution_count": 28,
   "metadata": {},
   "outputs": [
    {
     "data": {
      "text/plain": [
       "[SchemaField('location', 'STRING', 'NULLABLE', 'Location where data was measured', ()),\n",
       " SchemaField('city', 'STRING', 'NULLABLE', 'City containing location', ()),\n",
       " SchemaField('country', 'STRING', 'NULLABLE', 'Country containing measurement in 2 letter ISO code', ()),\n",
       " SchemaField('pollutant', 'STRING', 'NULLABLE', 'Name of the Pollutant being measured. Allowed values: PM25, PM10, SO2, NO2, O3, CO, BC', ()),\n",
       " SchemaField('value', 'FLOAT', 'NULLABLE', 'Latest measured value for the pollutant', ()),\n",
       " SchemaField('timestamp', 'TIMESTAMP', 'NULLABLE', 'The datetime at which the pollutant was measured, in ISO 8601 format', ()),\n",
       " SchemaField('unit', 'STRING', 'NULLABLE', 'The unit the value was measured in coded by UCUM Code', ()),\n",
       " SchemaField('source_name', 'STRING', 'NULLABLE', 'Name of the source of the data', ()),\n",
       " SchemaField('latitude', 'FLOAT', 'NULLABLE', 'Latitude in decimal degrees. Precision >3 decimal points.', ()),\n",
       " SchemaField('longitude', 'FLOAT', 'NULLABLE', 'Longitude in decimal degrees. Precision >3 decimal points.', ()),\n",
       " SchemaField('averaged_over_in_hours', 'FLOAT', 'NULLABLE', 'The number of hours the value was averaged over.', ())]"
      ]
     },
     "execution_count": 28,
     "metadata": {},
     "output_type": "execute_result"
    }
   ],
   "source": [
    "schema = hn_full.schema\n",
    "schema"
   ]
  },
  {
   "cell_type": "code",
   "execution_count": 29,
   "metadata": {},
   "outputs": [],
   "source": [
    "schema_subset = [col for col in hn_full.schema if col.name in ('location', 'city', 'country','pollutant','value','timestamp','unit','source_name','latitude','longitude','averaged_over_in_hours')]\n",
    "results = [x for x in client.list_rows(hn_full, start_index=1, selected_fields=schema_subset)]"
   ]
  },
  {
   "cell_type": "code",
   "execution_count": 30,
   "metadata": {},
   "outputs": [
    {
     "name": "stdout",
     "output_type": "stream",
     "text": [
      "21212\n"
     ]
    }
   ],
   "source": [
    "print(len(results))"
   ]
  },
  {
   "cell_type": "code",
   "execution_count": 31,
   "metadata": {},
   "outputs": [],
   "source": [
    "air_full = pd.DataFrame()\n",
    "j = range(0,len(results)-1)\n",
    "for i,j in zip(results,j):\n",
    "     air_full = air_full.append(pd.DataFrame(dict(i),index=[j]))"
   ]
  },
  {
   "cell_type": "code",
   "execution_count": 32,
   "metadata": {},
   "outputs": [
    {
     "data": {
      "text/html": [
       "<div>\n",
       "<style scoped>\n",
       "    .dataframe tbody tr th:only-of-type {\n",
       "        vertical-align: middle;\n",
       "    }\n",
       "\n",
       "    .dataframe tbody tr th {\n",
       "        vertical-align: top;\n",
       "    }\n",
       "\n",
       "    .dataframe thead th {\n",
       "        text-align: right;\n",
       "    }\n",
       "</style>\n",
       "<table border=\"1\" class=\"dataframe\">\n",
       "  <thead>\n",
       "    <tr style=\"text-align: right;\">\n",
       "      <th></th>\n",
       "      <th>location</th>\n",
       "      <th>city</th>\n",
       "      <th>country</th>\n",
       "      <th>pollutant</th>\n",
       "      <th>value</th>\n",
       "      <th>timestamp</th>\n",
       "      <th>unit</th>\n",
       "      <th>source_name</th>\n",
       "      <th>latitude</th>\n",
       "      <th>longitude</th>\n",
       "      <th>averaged_over_in_hours</th>\n",
       "    </tr>\n",
       "  </thead>\n",
       "  <tbody>\n",
       "    <tr>\n",
       "      <th>0</th>\n",
       "      <td>BTM Layout, Bengaluru - KSPCB</td>\n",
       "      <td>Bengaluru</td>\n",
       "      <td>IN</td>\n",
       "      <td>no2</td>\n",
       "      <td>131.87</td>\n",
       "      <td>2018-02-22 03:00:00+00:00</td>\n",
       "      <td>µg/m³</td>\n",
       "      <td>CPCB</td>\n",
       "      <td>12.912811</td>\n",
       "      <td>77.609220</td>\n",
       "      <td>0.25</td>\n",
       "    </tr>\n",
       "    <tr>\n",
       "      <th>1</th>\n",
       "      <td>BTM Layout, Bengaluru - KSPCB</td>\n",
       "      <td>Bengaluru</td>\n",
       "      <td>IN</td>\n",
       "      <td>o3</td>\n",
       "      <td>15.57</td>\n",
       "      <td>2018-02-22 03:00:00+00:00</td>\n",
       "      <td>µg/m³</td>\n",
       "      <td>CPCB</td>\n",
       "      <td>12.912811</td>\n",
       "      <td>77.609220</td>\n",
       "      <td>0.25</td>\n",
       "    </tr>\n",
       "    <tr>\n",
       "      <th>2</th>\n",
       "      <td>BTM Layout, Bengaluru - KSPCB</td>\n",
       "      <td>Bengaluru</td>\n",
       "      <td>IN</td>\n",
       "      <td>pm25</td>\n",
       "      <td>45.62</td>\n",
       "      <td>2018-02-22 03:00:00+00:00</td>\n",
       "      <td>µg/m³</td>\n",
       "      <td>CPCB</td>\n",
       "      <td>12.912811</td>\n",
       "      <td>77.609220</td>\n",
       "      <td>0.25</td>\n",
       "    </tr>\n",
       "    <tr>\n",
       "      <th>3</th>\n",
       "      <td>BTM Layout, Bengaluru - KSPCB</td>\n",
       "      <td>Bengaluru</td>\n",
       "      <td>IN</td>\n",
       "      <td>so2</td>\n",
       "      <td>4.49</td>\n",
       "      <td>2018-02-22 03:00:00+00:00</td>\n",
       "      <td>µg/m³</td>\n",
       "      <td>CPCB</td>\n",
       "      <td>12.912811</td>\n",
       "      <td>77.609220</td>\n",
       "      <td>0.25</td>\n",
       "    </tr>\n",
       "    <tr>\n",
       "      <th>4</th>\n",
       "      <td>BWSSB Kadabesanahalli, Bengaluru - KSPCB</td>\n",
       "      <td>Bengaluru</td>\n",
       "      <td>IN</td>\n",
       "      <td>co</td>\n",
       "      <td>840.00</td>\n",
       "      <td>2018-02-22 03:00:00+00:00</td>\n",
       "      <td>µg/m³</td>\n",
       "      <td>CPCB</td>\n",
       "      <td>12.938906</td>\n",
       "      <td>77.697270</td>\n",
       "      <td>0.25</td>\n",
       "    </tr>\n",
       "    <tr>\n",
       "      <th>...</th>\n",
       "      <td>...</td>\n",
       "      <td>...</td>\n",
       "      <td>...</td>\n",
       "      <td>...</td>\n",
       "      <td>...</td>\n",
       "      <td>...</td>\n",
       "      <td>...</td>\n",
       "      <td>...</td>\n",
       "      <td>...</td>\n",
       "      <td>...</td>\n",
       "      <td>...</td>\n",
       "    </tr>\n",
       "    <tr>\n",
       "      <th>21206</th>\n",
       "      <td>ES1980A</td>\n",
       "      <td>Santa Cruz de Tenerife</td>\n",
       "      <td>ES</td>\n",
       "      <td>o3</td>\n",
       "      <td>36.00</td>\n",
       "      <td>2020-05-16 08:00:00+00:00</td>\n",
       "      <td>µg/m³</td>\n",
       "      <td>EEA Spain</td>\n",
       "      <td>28.685984</td>\n",
       "      <td>-17.764587</td>\n",
       "      <td>1</td>\n",
       "    </tr>\n",
       "    <tr>\n",
       "      <th>21207</th>\n",
       "      <td>ES1980A</td>\n",
       "      <td>Santa Cruz de Tenerife</td>\n",
       "      <td>ES</td>\n",
       "      <td>pm10</td>\n",
       "      <td>32.00</td>\n",
       "      <td>2020-05-16 08:00:00+00:00</td>\n",
       "      <td>µg/m³</td>\n",
       "      <td>EEA Spain</td>\n",
       "      <td>28.685984</td>\n",
       "      <td>-17.764587</td>\n",
       "      <td>1</td>\n",
       "    </tr>\n",
       "    <tr>\n",
       "      <th>21208</th>\n",
       "      <td>ES1980A</td>\n",
       "      <td>Santa Cruz de Tenerife</td>\n",
       "      <td>ES</td>\n",
       "      <td>pm25</td>\n",
       "      <td>12.00</td>\n",
       "      <td>2020-05-16 08:00:00+00:00</td>\n",
       "      <td>µg/m³</td>\n",
       "      <td>EEA Spain</td>\n",
       "      <td>28.685984</td>\n",
       "      <td>-17.764587</td>\n",
       "      <td>1</td>\n",
       "    </tr>\n",
       "    <tr>\n",
       "      <th>21209</th>\n",
       "      <td>ES1980A</td>\n",
       "      <td>Santa Cruz de Tenerife</td>\n",
       "      <td>ES</td>\n",
       "      <td>so2</td>\n",
       "      <td>12.00</td>\n",
       "      <td>2020-05-16 08:00:00+00:00</td>\n",
       "      <td>µg/m³</td>\n",
       "      <td>EEA Spain</td>\n",
       "      <td>28.685984</td>\n",
       "      <td>-17.764587</td>\n",
       "      <td>1</td>\n",
       "    </tr>\n",
       "    <tr>\n",
       "      <th>21210</th>\n",
       "      <td>ES2023A</td>\n",
       "      <td>Santa Cruz de Tenerife</td>\n",
       "      <td>ES</td>\n",
       "      <td>o3</td>\n",
       "      <td>87.00</td>\n",
       "      <td>2020-05-17 20:00:00+00:00</td>\n",
       "      <td>µg/m³</td>\n",
       "      <td>EEA Spain</td>\n",
       "      <td>28.805100</td>\n",
       "      <td>-17.782550</td>\n",
       "      <td>1</td>\n",
       "    </tr>\n",
       "  </tbody>\n",
       "</table>\n",
       "<p>21211 rows × 11 columns</p>\n",
       "</div>"
      ],
      "text/plain": [
       "                                       location                    city  \\\n",
       "0                 BTM Layout, Bengaluru - KSPCB               Bengaluru   \n",
       "1                 BTM Layout, Bengaluru - KSPCB               Bengaluru   \n",
       "2                 BTM Layout, Bengaluru - KSPCB               Bengaluru   \n",
       "3                 BTM Layout, Bengaluru - KSPCB               Bengaluru   \n",
       "4      BWSSB Kadabesanahalli, Bengaluru - KSPCB               Bengaluru   \n",
       "...                                         ...                     ...   \n",
       "21206                                   ES1980A  Santa Cruz de Tenerife   \n",
       "21207                                   ES1980A  Santa Cruz de Tenerife   \n",
       "21208                                   ES1980A  Santa Cruz de Tenerife   \n",
       "21209                                   ES1980A  Santa Cruz de Tenerife   \n",
       "21210                                   ES2023A  Santa Cruz de Tenerife   \n",
       "\n",
       "      country pollutant   value                 timestamp   unit source_name  \\\n",
       "0          IN       no2  131.87 2018-02-22 03:00:00+00:00  µg/m³        CPCB   \n",
       "1          IN        o3   15.57 2018-02-22 03:00:00+00:00  µg/m³        CPCB   \n",
       "2          IN      pm25   45.62 2018-02-22 03:00:00+00:00  µg/m³        CPCB   \n",
       "3          IN       so2    4.49 2018-02-22 03:00:00+00:00  µg/m³        CPCB   \n",
       "4          IN        co  840.00 2018-02-22 03:00:00+00:00  µg/m³        CPCB   \n",
       "...       ...       ...     ...                       ...    ...         ...   \n",
       "21206      ES        o3   36.00 2020-05-16 08:00:00+00:00  µg/m³   EEA Spain   \n",
       "21207      ES      pm10   32.00 2020-05-16 08:00:00+00:00  µg/m³   EEA Spain   \n",
       "21208      ES      pm25   12.00 2020-05-16 08:00:00+00:00  µg/m³   EEA Spain   \n",
       "21209      ES       so2   12.00 2020-05-16 08:00:00+00:00  µg/m³   EEA Spain   \n",
       "21210      ES        o3   87.00 2020-05-17 20:00:00+00:00  µg/m³   EEA Spain   \n",
       "\n",
       "        latitude  longitude averaged_over_in_hours  \n",
       "0      12.912811  77.609220                   0.25  \n",
       "1      12.912811  77.609220                   0.25  \n",
       "2      12.912811  77.609220                   0.25  \n",
       "3      12.912811  77.609220                   0.25  \n",
       "4      12.938906  77.697270                   0.25  \n",
       "...          ...        ...                    ...  \n",
       "21206  28.685984 -17.764587                      1  \n",
       "21207  28.685984 -17.764587                      1  \n",
       "21208  28.685984 -17.764587                      1  \n",
       "21209  28.685984 -17.764587                      1  \n",
       "21210  28.805100 -17.782550                      1  \n",
       "\n",
       "[21211 rows x 11 columns]"
      ]
     },
     "execution_count": 32,
     "metadata": {},
     "output_type": "execute_result"
    }
   ],
   "source": [
    "air_full"
   ]
  },
  {
   "cell_type": "code",
   "execution_count": 33,
   "metadata": {},
   "outputs": [],
   "source": [
    "air_full.to_csv('data/air_quality_full.csv')"
   ]
  }
 ],
 "metadata": {
  "kernelspec": {
   "display_name": "Python 3",
   "language": "python",
   "name": "python3"
  },
  "language_info": {
   "codemirror_mode": {
    "name": "ipython",
    "version": 3
   },
   "file_extension": ".py",
   "mimetype": "text/x-python",
   "name": "python",
   "nbconvert_exporter": "python",
   "pygments_lexer": "ipython3",
   "version": "3.7.6"
  }
 },
 "nbformat": 4,
 "nbformat_minor": 4
}
